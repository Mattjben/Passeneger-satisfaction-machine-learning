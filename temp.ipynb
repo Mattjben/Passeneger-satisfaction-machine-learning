{
 "cells": [
  {
   "cell_type": "code",
   "execution_count": null,
   "metadata": {},
   "outputs": [],
   "source": []
  }
 ],
 "metadata": {
  "kernelspec": {
   "display_name": "Python 3.8.13 ('base')",
   "language": "python",
   "name": "python3"
  },
  "language_info": {
   "name": "python",
   "version": "3.8.13"
  },
  "orig_nbformat": 4,
  "vscode": {
   "interpreter": {
    "hash": "ff4777a953825de5d82a2ac943053bef466989d7dc2b57addea10af08ab1e235"
   }
  }
 },
 "nbformat": 4,
 "nbformat_minor": 2
}
