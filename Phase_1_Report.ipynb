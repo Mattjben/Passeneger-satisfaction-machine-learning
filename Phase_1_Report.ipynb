{
  "cells": [
    {
      "cell_type": "markdown",
      "metadata": {
        "id": "2o6-6KiP0Wz1"
      },
      "source": [
        "# **Predicting death after heart failure**\n",
        "## Phase 1: Data Preparation & Visualisation\n",
        "__________\n",
        "\n",
        "\n",
        "Names & IDs of group members: \n",
        "\n",
        "Names  | IDs\n",
        "------------- | -------------\n",
        "Matthew Bentham  | S3923076\n",
        "John Murrowood  | S3923075\n",
        "\n",
        "__________________\n",
        "\n",
        "\n",
        "### Table of contents:\n",
        "- [Introduction](#intro)\n",
        "\n",
        "### INTRODUCTION <a name=\"intro\"></a>\n",
        "\n",
        "#### **Data source:**\n",
        "Please explain your data source properly and provide a proper citation in a References section at the end of your report.\n",
        "\n",
        "The hearts failure clinical records dataset was sourced from UCI Machine Learning Repository (Davide Chicco , 2020). The data shows the survival of 300 patients with heart failure after a follow up.\n",
        "\n",
        "#### **Dataset details:**\n",
        "\n",
        "This dataset uses 12 patient details as features. Contains information on age, sex, length of follow up period in days, smoking status and a number of features related to cardiovascular health.These include prescence of diseases such as diabetes and anaemia and blood characteristics such as presence of high blood pressure , levels of CPK enzyme in the blood , ejection fraction , platetlet levels , levels of serum creatinine and sodium. The dataset contains a total of 299 observations. \n",
        "\n",
        "\n",
        "\n",
        "\n",
        "\n",
        " \n",
        "\n",
        "\n"
      ]
    },
    {
      "cell_type": "code",
      "execution_count": null,
      "metadata": {
        "id": "FjDhdbVr0Zws"
      },
      "outputs": [],
      "source": [
        "test"
      ]
    },
    {
      "cell_type": "markdown",
      "metadata": {},
      "source": [
        "change 3"
      ]
    },
    {
      "cell_type": "markdown",
      "metadata": {},
      "source": []
    }
  ],
  "metadata": {
    "colab": {
      "collapsed_sections": [],
      "name": "Phase 1 Report.ipynb",
      "provenance": []
    },
    "kernelspec": {
      "display_name": "Python 3",
      "name": "python3"
    },
    "language_info": {
      "name": "python"
    }
  },
  "nbformat": 4,
  "nbformat_minor": 0
}
