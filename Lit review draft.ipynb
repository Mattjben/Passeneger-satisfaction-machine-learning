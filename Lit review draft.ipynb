{
 "cells": [
  {
   "cell_type": "markdown",
   "metadata": {},
   "source": [
    "<span style='font-family:\"Times New Roman\"'> \n",
    "\n",
    "### Literature Review: <a name=\"lr\"></a>\n",
    "\n",
    "Survival and being able to maintain market-share in an industry as competitive as the airline industry is a feat that has become primarily dependent on the perceived quality of passenger service (Walia, 2021) . (Prentice & Correia Loureiro, 2017) Proposes the importance of customer satisfaction has increased exponentially with the adoption of various digital medias as the views of satisfied and dissatisfied customers spread rapidly, meaning customer satisfaction has the potential to make or break a buisness by increaseing its profitability or tarnishing the reputation of the airlines themselves. As presented in (Fadi et al., 2020) , service quality has been found to be an essential factor in the makeup of an airlines image, acting as an alternative form of advertisement.Maintaining this positive company image has ultimately been found necessary to maintain customer attention and uniqueness in an already saturated market (Ah-Hyun & Park, 2020). In addtion to overal company image , studies conducted by (Lainamngern & Sawmong, 2019)  ,  (Namukasa, 2013)  and (Karunaratna A.C & Wickramaratne C, 2018) all report that perceived and actual service quality is also directly and positively correlated with passenger satisfaction, which intern exhibits the same relationship with passenger loyalty as demonstrated in *figure 1* below. \n",
    "\n",
    "\n",
    "\n",
    "<center><img src=\"fig1.png\" width=500 height=200 /> \n",
    "\n",
    "*fig 1.*</center>\n",
    "\n",
    "Passenger loyalty is an immensely derisible consumer characteristic as it is heavily associated with consumer behaviours such as word-of-mouth, repurchase intention and positive feedback to the service provider (Saha & Theingi, 2009). Meaning, a loyal customer is much more likely to refer and spread positive comments on the service itself and much more willing to buy the service again, increasing profitability overall. Measuring the service quality from the consumers perspective is therefore essentials for airline companies to influence the behavioural intentions of their consumer base. Using machine learning models as a CRM strategy allows airlines to break down this complex concept of service quality and customer satisfaction into more tangible subclasses: \n",
    "    \n",
    "    (1)\tWhich service features have the strongest and weakest correlation with customer satisfaction?\n",
    "    (2)\tWhat is the most influential and financially viable service recovery method?\n",
    "    (3)\tWhich features can be restricted without reducing overall customer satisfaction? \n",
    "    (4)\tWhat customer characteristics are strongly associated with loyalty and satisfaction \n",
    "1.\tThis allows airline companies to help mitigate and identify possible or even upcoming points of service failures which will have the most devastating effects on customer satisfaction, allowing for a more targeted approach. As pain points are undoubtably always going to arise, having a good recovery strategy in place in these areas is highly recommended by (Ali et al., 2020) to reduce overall customer dissatisfaction and increase retention. \n",
    "\n",
    "2.\tAs competitive airlines are always looking for areas of possible future investments that will be the most impactful in terms of customer retention and satisfaction, understating the most viable route for these investments allows these companies to make business decisions informed via the customers perspective(Tsafarakis et al., 2018). As customer satisfaction is a dynamic parameter that changes based on multiple societal and market influences a system which can categorise perceived service quality shortcomings as they change is ideal. \n",
    "\n",
    "3.\tBeing able to identify the general customers level of tolerance in terms of the received standard of service allows airlines to direct resources away from areas that do not substantially reduce overall satisfaction so that they can be invested in more viable areas. (Johnston, 1995) \n",
    "\n",
    "4.\tThese features allow for airline to create more successful customer profiles which accurately represent their most profitable consumer bases. In general, this allows for more targeted marketing campaigns which is proven to greatly increase purchase intent (Camilleri, 2018).\n",
    "\n",
    "Many classification algorithms have already been implemented and easily exhibit the capability of correctly predicting overall travel satisfaction with probabilities as high as 95.92% (Hayadi et al., 2021). These algorithms such as those demonstrated in (Kumar & Zymbler, 2019) and (Park et al., 2022) are capable of categorising customer and service features based on  overall satisfaction and subsequently model the complex relationships these features have with each other to aid in making more data-driven business decisions in the airline industry.\n",
    "\n",
    "\n",
    "<span styel=''>"
   ]
  },
  {
   "cell_type": "markdown",
   "metadata": {},
   "source": [
    "### References: <a name=\"ref\"></a>\n",
    "\n",
    "1. Ah-Hyun, O. H., & Park, H.-Y. (2020). Marketing Strategies for Improving Customer Attitude Using Airline Advertising Model: Focusing on Corporate Image and Brand Loyalty. Journal of Distribution Science, 18(4), 13–26. https://doi.org/10.15722/JDS.18.4.202004.13\n",
    "2. Ali, S. R. O., Said, N. S. M., Jislan, F., Mat, K. A., & Aznan, W. N. M. W. (2020). The Relationship between Service Failure and Service Recovery with Airline Passenger Satisfaction. Journal of Physics: Conference Series, 1529(2), 022062. https://doi.org/10.1088/1742-6596/1529/2/022062\n",
    "3. Camilleri, M. A. (2018). Market Segmentation, Targeting and Positioning. 69–83. https://doi.org/10.1007/978-3-319-49849-2_4\n",
    "4. Fadi, A., Khalid, D., Akram, S., & Abrar, A. (2020). Drivers of Customer Satisfaction in Airline Industry in (The) Sultanate of Oman: A Conceptual Study. 13th Annual Conference of the EuroMed Academy of Business.\n",
    "5. Hayadi, B. H., Kim, J.-M., Hulliyah, K., & Sukmana, H. T. (2021). Predicting Airline Passenger Satisfaction with Classification Algorithms. International Journal of Informatics and Information Systems, 4(1), 82–94. https://doi.org/10.47738/IJIIS.V4I1.80\n",
    "6. Johnston, R. (1995). The zone of tolerance Exploring the relationship between service transactions and satisfaction with the overall service. International Journal of Service Industry Management, 6(2), 46–61. https://doi.org/10.1108/09564239510084941/FULL/PDF\n",
    "7. Karunaratna A.C, & Wickramaratne C. (2018). The Impact of Service Quality on Passenger Satisfaction in Airport Services: A Case on International Passengers. Proceedings of the 7 Th International Conference on Management and Economics.\n",
    "8. Kumar, S., & Zymbler, M. (2019). A machine learning approach to analyze customer satisfaction from airline tweets. Journal of Big Data, 6(1), 1–16. https://doi.org/10.1186/S40537-019-0224-1/TABLES/4\n",
    "9. Lainamngern, S., & Sawmong, S. (2019). How customer relationship management, perceived risk, perceived service quality, and passenger trust affect a full-service airline’s passenger satisfaction. Journal of Business and Retail Management Research (JBRMR), 13. www.jbrmr.com\n",
    "10. Namukasa, J. (2013). The influence of airline service quality on passenger satisfaction and loyalty the case of Uganda airline industry. TQM Journal, 25(5), 520–532. https://doi.org/10.1108/TQM-11-2012-0092/FULL/PDF\n",
    "11. Park, S. H., Kim, M. Y., Kim, Y. J., & Park, Y. H. (2022). A Deep Learning Approach to Analyze Airline Customer Propensities: The Case of South Korea. Applied Sciences 2022, Vol. 12, Page 1916, 12(4), 1916. https://doi.org/10.3390/APP12041916\n",
    "12. (PDF) An Analysis of the Impact of Service Quality and Passenger Satisfaction on Passenger Preference for Airlines : A Study of the Indian Aviation Sector. (n.d.). Retrieved April 5, 2022, from https://www.researchgate.net/publication/301678370_An_Analysis_of_the_Impact_of_Service_Quality_and_Passenger_Satisfaction_on_Passenger_Preference_for_Airlines_A_Study_of_the_Indian_Aviation_Sector\n",
    "13. Prentice, C., & Correia Loureiro, S. M. (2017). An asymmetrical approach to understanding configurations of customer loyalty in the airline industry. Journal of Retailing and Consumer Services, 38, 96–107. https://doi.org/10.1016/J.JRETCONSER.2017.05.005\n",
    "14. Saha, G. C., & Theingi. (2009). Service quality, satisfaction, and behavioural intentions: A study of low-cost airline carriers in Thailand. Managing Service Quality, 19(3), 350–372. https://doi.org/10.1108/09604520910955348/FULL/PDF\n",
    "15. Tsafarakis, S., Kokotas, T., & Pantouvakis, A. (2018). A multiple criteria approach for airline passenger satisfaction measurement and service quality improvement. Journal of Air Transport Management, 68, 61–75. https://doi.org/10.1016/J.JAIRTRAMAN.2017.09.010\n",
    " \n",
    "\n"
   ]
  },
  {
   "cell_type": "markdown",
   "metadata": {},
   "source": []
  }
 ],
 "metadata": {
  "interpreter": {
   "hash": "cb659f68d287f80354e707379d7965895c7192ec42ea959a73a275e2a0963617"
  },
  "kernelspec": {
   "display_name": "Python 3.8.12 ('S3923076')",
   "language": "python",
   "name": "python3"
  },
  "language_info": {
   "codemirror_mode": {
    "name": "ipython",
    "version": 3
   },
   "file_extension": ".py",
   "mimetype": "text/x-python",
   "name": "python",
   "nbconvert_exporter": "python",
   "pygments_lexer": "ipython3",
   "version": "3.8.12"
  },
  "orig_nbformat": 4
 },
 "nbformat": 4,
 "nbformat_minor": 2
}
