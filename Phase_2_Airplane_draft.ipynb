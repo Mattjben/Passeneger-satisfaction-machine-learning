{
 "cells": [
  {
   "cell_type": "markdown",
   "metadata": {},
   "source": [
    "## **Discretization PLS PROVIDE INPUT READ BELOW**\n",
    "\n",
    "**READ FIRST**\n",
    "\n",
    "**After reading some articles im beginning to wonder whether this step is necessary please provide some input for now  ill comment out the code below**\n",
    "\n",
    "\n",
    "\n",
    "In the next step some of the data will be discretized. This has many benefits in machine learning applications of which some are listed below\n",
    "- Significantly improves perfomance of classification of algorithms such as Suport Vector Machines and Random Forest\n",
    "- Improves performance of Naive Bayes algorithm\n",
    "- Easier to understand continuous variables\n",
    "- Continuous features will have less of a  chance of correlating with the target variable due to limited degrees of freedom\n",
    "- Reduces the impact of small fluctuations. Hence, reducing noise in our data.\n",
    "\n",
    "For the following reasons above the Age, Flight Distance, Departure Delay and the Arrival Delay Features will be discretized."
   ]
  },
  {
   "cell_type": "code",
   "execution_count": null,
   "metadata": {},
   "outputs": [],
   "source": [
    "'''airplane_df['Age'] = pd.qcut(airplane_df['Age'], \n",
    "                              q = 3, \n",
    "                              labels=['young', 'middle_aged', 'old'])\n",
    "print(airplane_df['Age'].value_counts())                              \n",
    "\n",
    "airplane_df['Flight Distance'] = pd.qcut(airplane_df['Flight Distance'], \n",
    "                              q = 5, \n",
    "                              labels=['very short', 'short', 'medium', 'long', 'very long'])\n",
    "print(airplane_df['Flight Distance'].value_counts())\n",
    "\n",
    "airplane_df['Departure Delay in Minutes'] = pd.qcut(airplane_df['Departure Delay in Minutes'], \n",
    "                              q = 5, \n",
    "                              labels=['very short', 'short', 'medium', 'long', 'very long'])\n",
    "print(airplane_df['Departure Delay in Minutes'].value_counts())\n",
    "\n",
    "airplane_df['Arrival Delay in Minutes'] = pd.qcut(airplane_df['Arrival Delay in Minutes'], \n",
    "                              q = 5, \n",
    "                              labels=['very short', 'short', 'medium', 'long', 'very long'])\n",
    "print(airplane_df['Arrival Delay in Minutes'].value_counts())   '''"
   ]
  },
  {
   "cell_type": "markdown",
   "metadata": {},
   "source": [
    "# **One-Hot-Encoding & Integer-Encoding**\n",
    "- As the target feature for this dataset is either one of satisfied or neutral/dissastisfied we must integer-encode it. Normally, nominal descriptive features would never be integer-encoded.\n",
    "- Normally, Sklearn would be used to do this but since we have a binary variably of either satisfied or neutral/dissastisfied we can continue with pandas.\n",
    "- Through visual inspection, it was confirmed that the satisfied variable was correctly encoded as 1 and not a 0"
   ]
  },
  {
   "cell_type": "code",
   "execution_count": null,
   "metadata": {},
   "outputs": [],
   "source": [
    "# Creating a categorical columns list to be used with get_dummies()\n",
    "categorical_cols = airplane_df.columns[airplane_df.dtypes==object].tolist()\n",
    "categorical_cols\n",
    "# CHecking dataframe pre-encoding\n",
    "airplane_df.head()"
   ]
  },
  {
   "cell_type": "code",
   "execution_count": null,
   "metadata": {},
   "outputs": [],
   "source": [
    "for i in categorical_cols:\n",
    "    if (airplane_df[i].nunique() == 2): # if it has only two values, e.g, if its binary\n",
    "        airplane_df[i] = pd.get_dummies(airplane_df[i], drop_first=True, dtype=np.int64)\n",
    "   \n",
    "# if it has more than two levels this is where the one hot encoding occurs for those cols\n",
    "airplane_df = pd.get_dummies(airplane_df, dtype=np.int64)\n",
    "airplane_df.head()  # Checking Dataframe post-encoding"
   ]
  },
  {
   "cell_type": "markdown",
   "metadata": {},
   "source": [
    "- Checking to see if the data types are all numeric after encoding"
   ]
  },
  {
   "cell_type": "code",
   "execution_count": null,
   "metadata": {},
   "outputs": [],
   "source": [
    "airplane_df.dtypes"
   ]
  },
  {
   "cell_type": "markdown",
   "metadata": {},
   "source": [
    "## Scaling of Features\n",
    "Once One-Hot-Encoding has taken place the features are now scaled using min-max scaling"
   ]
  },
  {
   "cell_type": "code",
   "execution_count": null,
   "metadata": {},
   "outputs": [],
   "source": [
    "from sklearn import preprocessing\n",
    "\n",
    "airplane_df_scaled = airplane_df.copy() # Copying dataframe\n",
    "scaler = preprocessing.MinMaxScaler()   # setting caling function\n",
    "airplane_arr = scaler.fit_transform(airplane_df_scaled)  # fitting and tranforming the dataframe\n",
    "\n",
    "airplane_df_scaled = pd.DataFrame(airplane_arr, columns=airplane_df.columns)    # changing back to dataframe as sk learn only outputs a np array\n",
    "airplane_df_scaled.head()"
   ]
  }
 ],
 "metadata": {
  "language_info": {
   "name": "python"
  },
  "orig_nbformat": 4
 },
 "nbformat": 4,
 "nbformat_minor": 2
}
