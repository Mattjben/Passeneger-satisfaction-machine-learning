{
 "cells": [
  {
   "cell_type": "markdown",
   "metadata": {},
   "source": [
    "# **Predicting airline customer satisfaction**\n",
    "## Phase 1: Data Preparation & Visualisation\n",
    "__________\n",
    "\n",
    "\n",
    "Names & IDs of group members: \n",
    "\n",
    "Names  | IDs\n",
    "------------- | -------------\n",
    "Matthew Bentham  | S3923076\n",
    "John Murrowood  | S3923075\n",
    "\n",
    "__________________\n",
    "\n",
    "### Table of contents:\n",
    "- [Introduction](#intro)\n",
    "\n",
    "### INTRODUCTION <a name=\"intro\"></a>\n",
    "\n",
    "#### **Data source:**\n",
    "\n",
    "#### **Dataset details:**"
   ]
  },
  {
   "cell_type": "code",
   "execution_count": null,
   "metadata": {},
   "outputs": [],
   "source": []
  }
 ],
 "metadata": {
  "language_info": {
   "name": "python"
  },
  "orig_nbformat": 4
 },
 "nbformat": 4,
 "nbformat_minor": 2
}
