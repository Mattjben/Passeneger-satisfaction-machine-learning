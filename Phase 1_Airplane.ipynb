{
 "cells": [
  {
   "cell_type": "markdown",
   "metadata": {},
   "source": [
    "\n",
    "\n",
    "# **Predicting Airline Customer Satisfaction**\n",
    "## Phase 1: Data Preparation & Visualisation\n",
    "\n",
    "\n",
    "<center> Names & IDs of group members </center> \n",
    "\n",
    "Names  | IDs\n",
    "------------- | -------------\n",
    "Matthew Bentham  | S3923076\n",
    "John Murrowood  | S3923075\n",
    "Isxaq Warsame  |  S3658179\n",
    "\n",
    "\n",
    "\n",
    "__________\n",
    "\n",
    "### Table of contents:\n",
    "- [Introduction](#intro)\n",
    "   - [Data source](#ds)\n",
    "   - [Dataset detail](#dd)\n",
    "   - [Dataset features](#df)\n",
    "   - [Target Feature](#tf)\n",
    "- [Goals & Objectives](#gao) \n",
    "- [Data Cleaning & Preprocessing](#dprep)\n",
    "- [Data Exploration & Visualisation](#dvis)\n",
    "   - [One Variable Plots](#1v)\n",
    "   - [Two Variable Plots](#2v)\n",
    "   - [Three Variable Plots](#3v)\n",
    "- [Literature Review](#lr)\n",
    "- [Summary & Conclusions](#sum)\n",
    "- [References](#ref)\n",
    "\n",
    "\n",
    "### INTRODUCTION <a name=\"intro\"></a>\n",
    "\n",
    "#### **Data source:** <a name=\"ds\"></a>\n",
    "\n",
    "The US airline passenger satisfaction survey dataset was sourced from kaggle, uploaded by John D 2018. This dataset contains survey results for whether a customer was satisfied with the flight or not as well as passenger and flight information. The dataset also contains information on what parts of the flight service they were satisfied with or not satisifed with.\n",
    "\n",
    "URL: [US Airline Passenger Satisfaction](https://www.kaggle.com/datasets/johndddddd/customer-satisfaction)\n",
    "\n",
    "#### **Dataset details:** <a name=\"dd\"></a>\n",
    "\n",
    "This dataset contains information on whether customers were satisfied or not during there domestic flight within the USA. There is personal details of each traveller including age, gender, type of travel (personal or buisness), as well as information on the flight including in-flight duration, gate departure and if the flight was delayed. There is also a rating for which cutomers enjoyed certain aspects of the flight such as inflight wifi, cleanliness, leg room and other things. These features will then be used for a classification problem to predict the target feature of whether a customer will be satisfied or not.\n",
    "\n",
    "The dataset has 24 features, split into descriptive features and survey response features, including the target feature and 129,880 observations before any pre processing is preformed on the dataset.\n",
    "\n",
    "##### **Dataset Retieval**\n",
    "- The data was downloaded from kaggle as a xlsx file. Link: [US Airline Passenger Satisfaction](https://www.kaggle.com/datasets/johndddddd/customer-satisfaction) \n",
    "- As the data file is in the same github directory as this report 'satisfaction.xlsx' can be read directly \n",
    "- The first 10 rows are displayed "
   ]
  },
  {
   "cell_type": "code",
   "execution_count": 271,
   "metadata": {},
   "outputs": [
    {
     "name": "stdout",
     "output_type": "stream",
     "text": [
      "Rows in Dataset: 129880\n"
     ]
    },
    {
     "data": {
      "text/html": [
       "<div>\n",
       "<style scoped>\n",
       "    .dataframe tbody tr th:only-of-type {\n",
       "        vertical-align: middle;\n",
       "    }\n",
       "\n",
       "    .dataframe tbody tr th {\n",
       "        vertical-align: top;\n",
       "    }\n",
       "\n",
       "    .dataframe thead th {\n",
       "        text-align: right;\n",
       "    }\n",
       "</style>\n",
       "<table border=\"1\" class=\"dataframe\">\n",
       "  <thead>\n",
       "    <tr style=\"text-align: right;\">\n",
       "      <th></th>\n",
       "      <th>id</th>\n",
       "      <th>satisfaction_v2</th>\n",
       "      <th>Gender</th>\n",
       "      <th>Customer Type</th>\n",
       "      <th>Age</th>\n",
       "      <th>Type of Travel</th>\n",
       "      <th>Class</th>\n",
       "      <th>Flight Distance</th>\n",
       "      <th>Seat comfort</th>\n",
       "      <th>Departure/Arrival time convenient</th>\n",
       "      <th>...</th>\n",
       "      <th>Online support</th>\n",
       "      <th>Ease of Online booking</th>\n",
       "      <th>On-board service</th>\n",
       "      <th>Leg room service</th>\n",
       "      <th>Baggage handling</th>\n",
       "      <th>Checkin service</th>\n",
       "      <th>Cleanliness</th>\n",
       "      <th>Online boarding</th>\n",
       "      <th>Departure Delay in Minutes</th>\n",
       "      <th>Arrival Delay in Minutes</th>\n",
       "    </tr>\n",
       "  </thead>\n",
       "  <tbody>\n",
       "    <tr>\n",
       "      <th>0</th>\n",
       "      <td>11112</td>\n",
       "      <td>satisfied</td>\n",
       "      <td>Female</td>\n",
       "      <td>Loyal Customer</td>\n",
       "      <td>65</td>\n",
       "      <td>Personal Travel</td>\n",
       "      <td>Eco</td>\n",
       "      <td>265</td>\n",
       "      <td>0</td>\n",
       "      <td>0</td>\n",
       "      <td>...</td>\n",
       "      <td>2</td>\n",
       "      <td>3</td>\n",
       "      <td>3</td>\n",
       "      <td>0</td>\n",
       "      <td>3</td>\n",
       "      <td>5</td>\n",
       "      <td>3</td>\n",
       "      <td>2</td>\n",
       "      <td>0</td>\n",
       "      <td>0.0</td>\n",
       "    </tr>\n",
       "    <tr>\n",
       "      <th>1</th>\n",
       "      <td>110278</td>\n",
       "      <td>satisfied</td>\n",
       "      <td>Male</td>\n",
       "      <td>Loyal Customer</td>\n",
       "      <td>47</td>\n",
       "      <td>Personal Travel</td>\n",
       "      <td>Business</td>\n",
       "      <td>2464</td>\n",
       "      <td>0</td>\n",
       "      <td>0</td>\n",
       "      <td>...</td>\n",
       "      <td>2</td>\n",
       "      <td>3</td>\n",
       "      <td>4</td>\n",
       "      <td>4</td>\n",
       "      <td>4</td>\n",
       "      <td>2</td>\n",
       "      <td>3</td>\n",
       "      <td>2</td>\n",
       "      <td>310</td>\n",
       "      <td>305.0</td>\n",
       "    </tr>\n",
       "    <tr>\n",
       "      <th>2</th>\n",
       "      <td>103199</td>\n",
       "      <td>satisfied</td>\n",
       "      <td>Female</td>\n",
       "      <td>Loyal Customer</td>\n",
       "      <td>15</td>\n",
       "      <td>Personal Travel</td>\n",
       "      <td>Eco</td>\n",
       "      <td>2138</td>\n",
       "      <td>0</td>\n",
       "      <td>0</td>\n",
       "      <td>...</td>\n",
       "      <td>2</td>\n",
       "      <td>2</td>\n",
       "      <td>3</td>\n",
       "      <td>3</td>\n",
       "      <td>4</td>\n",
       "      <td>4</td>\n",
       "      <td>4</td>\n",
       "      <td>2</td>\n",
       "      <td>0</td>\n",
       "      <td>0.0</td>\n",
       "    </tr>\n",
       "    <tr>\n",
       "      <th>3</th>\n",
       "      <td>47462</td>\n",
       "      <td>satisfied</td>\n",
       "      <td>Female</td>\n",
       "      <td>Loyal Customer</td>\n",
       "      <td>60</td>\n",
       "      <td>Personal Travel</td>\n",
       "      <td>Eco</td>\n",
       "      <td>623</td>\n",
       "      <td>0</td>\n",
       "      <td>0</td>\n",
       "      <td>...</td>\n",
       "      <td>3</td>\n",
       "      <td>1</td>\n",
       "      <td>1</td>\n",
       "      <td>0</td>\n",
       "      <td>1</td>\n",
       "      <td>4</td>\n",
       "      <td>1</td>\n",
       "      <td>3</td>\n",
       "      <td>0</td>\n",
       "      <td>0.0</td>\n",
       "    </tr>\n",
       "    <tr>\n",
       "      <th>4</th>\n",
       "      <td>120011</td>\n",
       "      <td>satisfied</td>\n",
       "      <td>Female</td>\n",
       "      <td>Loyal Customer</td>\n",
       "      <td>70</td>\n",
       "      <td>Personal Travel</td>\n",
       "      <td>Eco</td>\n",
       "      <td>354</td>\n",
       "      <td>0</td>\n",
       "      <td>0</td>\n",
       "      <td>...</td>\n",
       "      <td>4</td>\n",
       "      <td>2</td>\n",
       "      <td>2</td>\n",
       "      <td>0</td>\n",
       "      <td>2</td>\n",
       "      <td>4</td>\n",
       "      <td>2</td>\n",
       "      <td>5</td>\n",
       "      <td>0</td>\n",
       "      <td>0.0</td>\n",
       "    </tr>\n",
       "    <tr>\n",
       "      <th>5</th>\n",
       "      <td>100744</td>\n",
       "      <td>satisfied</td>\n",
       "      <td>Male</td>\n",
       "      <td>Loyal Customer</td>\n",
       "      <td>30</td>\n",
       "      <td>Personal Travel</td>\n",
       "      <td>Eco</td>\n",
       "      <td>1894</td>\n",
       "      <td>0</td>\n",
       "      <td>0</td>\n",
       "      <td>...</td>\n",
       "      <td>2</td>\n",
       "      <td>2</td>\n",
       "      <td>5</td>\n",
       "      <td>4</td>\n",
       "      <td>5</td>\n",
       "      <td>5</td>\n",
       "      <td>4</td>\n",
       "      <td>2</td>\n",
       "      <td>0</td>\n",
       "      <td>0.0</td>\n",
       "    </tr>\n",
       "    <tr>\n",
       "      <th>6</th>\n",
       "      <td>32838</td>\n",
       "      <td>satisfied</td>\n",
       "      <td>Female</td>\n",
       "      <td>Loyal Customer</td>\n",
       "      <td>66</td>\n",
       "      <td>Personal Travel</td>\n",
       "      <td>Eco</td>\n",
       "      <td>227</td>\n",
       "      <td>0</td>\n",
       "      <td>0</td>\n",
       "      <td>...</td>\n",
       "      <td>5</td>\n",
       "      <td>5</td>\n",
       "      <td>5</td>\n",
       "      <td>0</td>\n",
       "      <td>5</td>\n",
       "      <td>5</td>\n",
       "      <td>5</td>\n",
       "      <td>3</td>\n",
       "      <td>17</td>\n",
       "      <td>15.0</td>\n",
       "    </tr>\n",
       "    <tr>\n",
       "      <th>7</th>\n",
       "      <td>32864</td>\n",
       "      <td>satisfied</td>\n",
       "      <td>Male</td>\n",
       "      <td>Loyal Customer</td>\n",
       "      <td>10</td>\n",
       "      <td>Personal Travel</td>\n",
       "      <td>Eco</td>\n",
       "      <td>1812</td>\n",
       "      <td>0</td>\n",
       "      <td>0</td>\n",
       "      <td>...</td>\n",
       "      <td>2</td>\n",
       "      <td>2</td>\n",
       "      <td>3</td>\n",
       "      <td>3</td>\n",
       "      <td>4</td>\n",
       "      <td>5</td>\n",
       "      <td>4</td>\n",
       "      <td>2</td>\n",
       "      <td>0</td>\n",
       "      <td>0.0</td>\n",
       "    </tr>\n",
       "    <tr>\n",
       "      <th>8</th>\n",
       "      <td>53786</td>\n",
       "      <td>satisfied</td>\n",
       "      <td>Female</td>\n",
       "      <td>Loyal Customer</td>\n",
       "      <td>56</td>\n",
       "      <td>Personal Travel</td>\n",
       "      <td>Business</td>\n",
       "      <td>73</td>\n",
       "      <td>0</td>\n",
       "      <td>0</td>\n",
       "      <td>...</td>\n",
       "      <td>5</td>\n",
       "      <td>4</td>\n",
       "      <td>4</td>\n",
       "      <td>0</td>\n",
       "      <td>1</td>\n",
       "      <td>5</td>\n",
       "      <td>4</td>\n",
       "      <td>4</td>\n",
       "      <td>0</td>\n",
       "      <td>0.0</td>\n",
       "    </tr>\n",
       "    <tr>\n",
       "      <th>9</th>\n",
       "      <td>7243</td>\n",
       "      <td>satisfied</td>\n",
       "      <td>Male</td>\n",
       "      <td>Loyal Customer</td>\n",
       "      <td>22</td>\n",
       "      <td>Personal Travel</td>\n",
       "      <td>Eco</td>\n",
       "      <td>1556</td>\n",
       "      <td>0</td>\n",
       "      <td>0</td>\n",
       "      <td>...</td>\n",
       "      <td>2</td>\n",
       "      <td>2</td>\n",
       "      <td>2</td>\n",
       "      <td>4</td>\n",
       "      <td>5</td>\n",
       "      <td>3</td>\n",
       "      <td>4</td>\n",
       "      <td>2</td>\n",
       "      <td>30</td>\n",
       "      <td>26.0</td>\n",
       "    </tr>\n",
       "  </tbody>\n",
       "</table>\n",
       "<p>10 rows × 24 columns</p>\n",
       "</div>"
      ],
      "text/plain": [
       "       id satisfaction_v2  Gender   Customer Type  Age   Type of Travel  \\\n",
       "0   11112       satisfied  Female  Loyal Customer   65  Personal Travel   \n",
       "1  110278       satisfied    Male  Loyal Customer   47  Personal Travel   \n",
       "2  103199       satisfied  Female  Loyal Customer   15  Personal Travel   \n",
       "3   47462       satisfied  Female  Loyal Customer   60  Personal Travel   \n",
       "4  120011       satisfied  Female  Loyal Customer   70  Personal Travel   \n",
       "5  100744       satisfied    Male  Loyal Customer   30  Personal Travel   \n",
       "6   32838       satisfied  Female  Loyal Customer   66  Personal Travel   \n",
       "7   32864       satisfied    Male  Loyal Customer   10  Personal Travel   \n",
       "8   53786       satisfied  Female  Loyal Customer   56  Personal Travel   \n",
       "9    7243       satisfied    Male  Loyal Customer   22  Personal Travel   \n",
       "\n",
       "      Class  Flight Distance  Seat comfort  Departure/Arrival time convenient  \\\n",
       "0       Eco              265             0                                  0   \n",
       "1  Business             2464             0                                  0   \n",
       "2       Eco             2138             0                                  0   \n",
       "3       Eco              623             0                                  0   \n",
       "4       Eco              354             0                                  0   \n",
       "5       Eco             1894             0                                  0   \n",
       "6       Eco              227             0                                  0   \n",
       "7       Eco             1812             0                                  0   \n",
       "8  Business               73             0                                  0   \n",
       "9       Eco             1556             0                                  0   \n",
       "\n",
       "   ...  Online support  Ease of Online booking  On-board service  \\\n",
       "0  ...               2                       3                 3   \n",
       "1  ...               2                       3                 4   \n",
       "2  ...               2                       2                 3   \n",
       "3  ...               3                       1                 1   \n",
       "4  ...               4                       2                 2   \n",
       "5  ...               2                       2                 5   \n",
       "6  ...               5                       5                 5   \n",
       "7  ...               2                       2                 3   \n",
       "8  ...               5                       4                 4   \n",
       "9  ...               2                       2                 2   \n",
       "\n",
       "   Leg room service  Baggage handling  Checkin service  Cleanliness  \\\n",
       "0                 0                 3                5            3   \n",
       "1                 4                 4                2            3   \n",
       "2                 3                 4                4            4   \n",
       "3                 0                 1                4            1   \n",
       "4                 0                 2                4            2   \n",
       "5                 4                 5                5            4   \n",
       "6                 0                 5                5            5   \n",
       "7                 3                 4                5            4   \n",
       "8                 0                 1                5            4   \n",
       "9                 4                 5                3            4   \n",
       "\n",
       "   Online boarding  Departure Delay in Minutes  Arrival Delay in Minutes  \n",
       "0                2                           0                       0.0  \n",
       "1                2                         310                     305.0  \n",
       "2                2                           0                       0.0  \n",
       "3                3                           0                       0.0  \n",
       "4                5                           0                       0.0  \n",
       "5                2                           0                       0.0  \n",
       "6                3                          17                      15.0  \n",
       "7                2                           0                       0.0  \n",
       "8                4                           0                       0.0  \n",
       "9                2                          30                      26.0  \n",
       "\n",
       "[10 rows x 24 columns]"
      ]
     },
     "execution_count": 271,
     "metadata": {},
     "output_type": "execute_result"
    }
   ],
   "source": [
    "# Reading in required packages, and setting up warnings filter\n",
    "import warnings\n",
    "warnings.filterwarnings(\"ignore\")\n",
    "import numpy as np\n",
    "import pandas as pd\n",
    "import sklearn\n",
    "import seaborn as sns\n",
    "import matplotlib.pyplot as plt\n",
    "from tabulate import tabulate\n",
    "\n",
    "\n",
    "\n",
    "df_name  = 'satisfaction.xlsx'\n",
    "df = pd.read_excel(df_name)\n",
    "print(f'Rows in Dataset: {len(df)}')\n",
    "df.head(10)\n"
   ]
  },
  {
   "cell_type": "markdown",
   "metadata": {},
   "source": [
    "\n",
    "\n",
    "#### **Dataset features:** <a name=\"df\"></a>\n",
    "\n"
   ]
  },
  {
   "cell_type": "markdown",
   "metadata": {},
   "source": [
    "The 24 input Descriptive features: \n",
    "- **Age**:  The actual age of the passengers \n",
    "- **ID**:   Passenger id unique ID number\n",
    "- **Gender**:   Gender of the passengers (Female, Male)\n",
    "- **Type of Travel**:   Purpose of the flight of the passengers (Personal Travel, Business Travel)\n",
    "- **Class**: Travel class in the plane of the passengers (Business, Eco, Eco Plus)\n",
    "- **Customer Type**: The customer type (Loyal customer, disloyal customer)\n",
    "- **Flight distance**: The flight distance of this journey \n",
    "- **Flight cancelled**: Whether the Flight cancelled or not (Yes, No)\n",
    "- **Departure Delay in Minutes (m)**: Minutes delayed when departure \n",
    "- **Arrival Delay in Minutes (m)**: Minutes delayed when Arrival, Int \n",
    "\n",
    "**Survery response features:** Satisfaction level , Int , On a scale of [0,5]\n",
    "- Ordinal in nature, the meaning of the numbers is listed below and below that are the response features themselves.\n",
    "- **0** being **Not Applicable**, All rows contianing '0' will be removed as they are not applicable to the analysis,\n",
    "- **1** being **Very Dissatisfied**,\n",
    "- **2** being **Dissatisfied**,\n",
    "- **3** being **Neutral**,\n",
    "- **4** being **Satisfied**,\n",
    "- **5** being **Very Satisfied**\n",
    "- **The Survey Response Features are listed below:**\n",
    "  -  Inflight wifi service \n",
    "  -  Inflight service\n",
    "  -  Online boarding\n",
    "  -  Ease of Online booking\n",
    "  -  Inflight entertainment\n",
    "  -  Food and drink\n",
    "  -  Seat comfort\n",
    "  -  On-board service\n",
    "  -  Leg room service\n",
    "  -  Departure/Arrival time\n",
    "  -  Baggage handling\n",
    "  -  Gate location\n",
    "  -  Cleanliness\n",
    "  -  Check-in service\n"
   ]
  },
  {
   "cell_type": "code",
   "execution_count": 272,
   "metadata": {},
   "outputs": [
    {
     "name": "stdout",
     "output_type": "stream",
     "text": [
      "╒══════════════════╤═════════════════════╤═════════════════════════════════════╤═══════════════════════════════════════════════════════════════════════════════╕\n",
      "│ Name             │ Data Type           │ Units                               │ Description                                                                   │\n",
      "╞══════════════════╪═════════════════════╪═════════════════════════════════════╪═══════════════════════════════════════════════════════════════════════════════╡\n",
      "│ Age              │ Numeric             │ Integer                             │ The actual age of the passengers                                              │\n",
      "├──────────────────┼─────────────────────┼─────────────────────────────────────┼───────────────────────────────────────────────────────────────────────────────┤\n",
      "│ ID               │ Nominal             │ Integer                             │ Passenger identifier, unique ID number                                        │\n",
      "├──────────────────┼─────────────────────┼─────────────────────────────────────┼───────────────────────────────────────────────────────────────────────────────┤\n",
      "│ Gender           │ Binary              │ Male or Female                      │ Gender of the passengers (Female, Male)                                       │\n",
      "├──────────────────┼─────────────────────┼─────────────────────────────────────┼───────────────────────────────────────────────────────────────────────────────┤\n",
      "│ Type of Travel   │ Nominal Categorical │ Personal or Business                │ Purpose of the flight of the passengers (Personal Travel, Business Travel)    │\n",
      "├──────────────────┼─────────────────────┼─────────────────────────────────────┼───────────────────────────────────────────────────────────────────────────────┤\n",
      "│ Class            │ Nominal Categorical │ Business, Eco or Eco Plus           │ Travel class in the plane of the passengers (Business, Eco, Eco Plus)         │\n",
      "├──────────────────┼─────────────────────┼─────────────────────────────────────┼───────────────────────────────────────────────────────────────────────────────┤\n",
      "│ Customer Type    │ Nominal Categorical │ Loyal Customer or Disloyal Customer │ The type of customer and how loyal they are to the airline                    │\n",
      "├──────────────────┼─────────────────────┼─────────────────────────────────────┼───────────────────────────────────────────────────────────────────────────────┤\n",
      "│ Flight Distance  │ Numeric             │ Integer, Km                         │ The flight distance of the journey in Kilometers (km)                         │\n",
      "├──────────────────┼─────────────────────┼─────────────────────────────────────┼───────────────────────────────────────────────────────────────────────────────┤\n",
      "│ Flight Cancelled │ Nominal Categorical │ Boolean, Yes or No                  │ Whether the Flight was cancelled or not (yes or no)                           │\n",
      "├──────────────────┼─────────────────────┼─────────────────────────────────────┼───────────────────────────────────────────────────────────────────────────────┤\n",
      "│ Departure Delay  │ Numeric             │ Integer, Minutes                    │ Minutes delayed at departure, e.g, Delay in minutes before aircraft takes-off │\n",
      "├──────────────────┼─────────────────────┼─────────────────────────────────────┼───────────────────────────────────────────────────────────────────────────────┤\n",
      "│ Arrival Delay    │ Numeric             │ Integer, Minutes                    │ Minutes Delayed at arrival, e.g, Delay in minutes before aircraft lands       │\n",
      "╘══════════════════╧═════════════════════╧═════════════════════════════════════╧═══════════════════════════════════════════════════════════════════════════════╛\n"
     ]
    }
   ],
   "source": [
    "# Creating table of features\n",
    "table = [['Name','Data Type','Units','Description'],\n",
    "         ['Age', 'Numeric', 'Integer','The actual age of the passengers'],\n",
    "         ['ID', 'Nominal', 'Integer', 'Passenger identifier, unique ID number'],\n",
    "         ['Gender', 'Binary', 'Male or Female', 'Gender of the passengers (Female, Male)'],\n",
    "         ['Type of Travel', 'Nominal Categorical', 'Personal or Business', 'Purpose of the flight of the passengers (Personal Travel, Business Travel)'],\n",
    "         ['Class', 'Nominal Categorical', 'Business, Eco or Eco Plus', 'Travel class in the plane of the passengers (Business, Eco, Eco Plus)' ],\n",
    "         ['Customer Type', 'Nominal Categorical', 'Loyal Customer or Disloyal Customer', 'The type of customer and how loyal they are to the airline'],\n",
    "         ['Flight Distance','Numeric', 'Integer, Km', 'The flight distance of the journey in Kilometers (km)' ],\n",
    "         ['Flight Cancelled', 'Nominal Categorical', 'Boolean, Yes or No', ' Whether the Flight was cancelled or not (yes or no)'  ],\n",
    "         ['Departure Delay', 'Numeric', 'Integer, Minutes', 'Minutes delayed at departure, e.g, Delay in minutes before aircraft takes-off ' ],\n",
    "         ['Arrival Delay', 'Numeric', 'Integer, Minutes', 'Minutes Delayed at arrival, e.g, Delay in minutes before aircraft lands']\n",
    "         ]\n",
    "\n",
    "print(tabulate(table, headers='firstrow', tablefmt='fancy_grid'))"
   ]
  },
  {
   "cell_type": "markdown",
   "metadata": {},
   "source": [
    "\n",
    "\n",
    "#### **Target Feature:** <a name=\"tf\"></a>\n",
    "\n",
    "- 'satisfied' : The airline customer was satisfied with their cumulative experience.\n",
    "- 'neutral or dissastisfied: The airline customer was NOT satisfied with their cumulative experience.\n",
    "\n",
    "\n",
    "The target feature for this project is the satisfaction level of the airline customers , meaning the supervised learning task contain a binary target that defines whether or not an airline customer is satsified (Satisfied , neutral/dissatisfied) based off the descriptive variables.\n"
   ]
  },
  {
   "cell_type": "markdown",
   "metadata": {},
   "source": [
    "\n",
    "\n",
    "### Goals & Objectives: <a name=\"gao\"></a>\n",
    "\n",
    "The airline industry is extremely competetive with lots of various running costs and often very fine profit margins. Therefore, these airline surveys are important as they can be used to generate models that are able to predict what the most important features of an airlines service are. Once the significant features are determined they can be used to ascertain what is important to passenger. This allows an airline to priotise spending into specific sectors of thier buisness and ensures they are able to offer the best service that is tailored the largest number of people and which parts of ther service offering they can cut down costs on while ensuring minimal impact on customer satisfaction.\n",
    "\n",
    "*The Main objectives of this project are as follows:*\n",
    "1. Identify the features that act as the best predictors for customer satisfaction in airlines. \n",
    "2. Subsequently, identify which features can be cut down on to increase profit margins.\n",
    "3. Predict whether a customer is satisfied with thier airline experience based on basic customer features and survey response awnsers.\n"
   ]
  },
  {
   "cell_type": "markdown",
   "metadata": {},
   "source": [
    "\n",
    "\n",
    "### Data Cleaning & Preprocessing: <a name=\"dprep\"></a>\n",
    "\n",
    "\n",
    "##### Data Cleaning Steps: <a name = \"prepsteps\"></a>\n",
    "- Check datatypes and data quality issues \n",
    "- Check for outliers and missing values \n",
    "- Remove redundant features\n",
    "- Rename columns\n",
    "- Randomly sample data "
   ]
  },
  {
   "cell_type": "code",
   "execution_count": 273,
   "metadata": {},
   "outputs": [
    {
     "data": {
      "text/plain": [
       "Index(['id', 'satisfaction_v2', 'Gender', 'Customer Type', 'Age',\n",
       "       'Type of Travel', 'Class', 'Flight Distance', 'Seat comfort',\n",
       "       'Departure/Arrival time convenient', 'Food and drink', 'Gate location',\n",
       "       'Inflight wifi service', 'Inflight entertainment', 'Online support',\n",
       "       'Ease of Online booking', 'On-board service', 'Leg room service',\n",
       "       'Baggage handling', 'Checkin service', 'Cleanliness', 'Online boarding',\n",
       "       'Departure Delay in Minutes', 'Arrival Delay in Minutes'],\n",
       "      dtype='object')"
      ]
     },
     "execution_count": 273,
     "metadata": {},
     "output_type": "execute_result"
    }
   ],
   "source": [
    "# CHECK COLUMN NAMES\n",
    "df.columns\n"
   ]
  },
  {
   "cell_type": "markdown",
   "metadata": {},
   "source": [
    "The column containing the target feature (satissfaction) is named irregularly , additionally the id column is a redunant fetaure as it is purely used to uniquely identify passenegers and therefore has no use in a machine learning dataset."
   ]
  },
  {
   "cell_type": "code",
   "execution_count": 274,
   "metadata": {},
   "outputs": [],
   "source": [
    "# Renaming columns for consistency\n",
    "df=df.rename(columns={'satisfaction_v2':'Satisfaction',\n",
    "                        'id': 'Id',\n",
    "                      'Seat comfort'    : 'Seat Comfort',\n",
    "            'Departure/Arrival time convenient' : 'Departure/Arrival Time Convenient',\n",
    "             'Food and drink' : 'Food and Drink',\n",
    "             'Gate location' : 'Gate Location' ,\n",
    "            'Inflight wifi service' : 'Inflight Wifi Service',\n",
    "             'Inflight entertainment' : 'Inflight Entertainment' ,\n",
    "             'Online support' : 'Online Support',\n",
    "            'Ease of Online booking' : 'Ease of Online Booking',\n",
    "             'On-board service' : 'On-board Service',\n",
    "             'Leg room service' : 'Leg Room Service',\n",
    "            'Baggage handling' : 'Baggage Handling',\n",
    "             'Checkin service' : 'Check-in Service',\n",
    "             'Cleanliness' : 'Cleanliness',\n",
    "             'Online boarding': 'Online Boarding'})\n",
    "\n",
    "# Setting new order of cols, moved target variable 'Satisfaction' to the back\n",
    "new_cols = ['Id', 'Gender', 'Customer Type', 'Age',\n",
    "       'Type of Travel', 'Class', 'Flight Distance','Departure Delay in Minutes',\n",
    "       'Arrival Delay in Minutes', 'Seat Comfort',\n",
    "       'Departure/Arrival Time Convenient', 'Food and Drink', 'Gate Location',\n",
    "       'Inflight Wifi Service', 'Inflight Entertainment', 'Online Support',\n",
    "       'Ease of Online Booking', 'On-board Service', 'Leg Room Service',\n",
    "       'Baggage Handling', 'Check-in Service', 'Cleanliness',\n",
    "       'Online Boarding', 'Satisfaction']\n",
    "\n",
    "\n",
    "df=df.reindex(columns=new_cols) # reorder columns so target feature is at the end \n",
    "\n",
    "airplane_df = df.drop(columns=[\"Id\"])   # Dropping Id as its unnecessary for our needs"
   ]
  },
  {
   "cell_type": "markdown",
   "metadata": {},
   "source": [
    "Check data types:"
   ]
  },
  {
   "cell_type": "code",
   "execution_count": 275,
   "metadata": {},
   "outputs": [
    {
     "name": "stdout",
     "output_type": "stream",
     "text": [
      "Gender                                object\n",
      "Customer Type                         object\n",
      "Age                                    int64\n",
      "Type of Travel                        object\n",
      "Class                                 object\n",
      "Flight Distance                        int64\n",
      "Departure Delay in Minutes             int64\n",
      "Arrival Delay in Minutes             float64\n",
      "Seat Comfort                           int64\n",
      "Departure/Arrival Time Convenient      int64\n",
      "Food and Drink                         int64\n",
      "Gate Location                          int64\n",
      "Inflight Wifi Service                  int64\n",
      "Inflight Entertainment                 int64\n",
      "Online Support                         int64\n",
      "Ease of Online Booking                 int64\n",
      "On-board Service                       int64\n",
      "Leg Room Service                       int64\n",
      "Baggage Handling                       int64\n",
      "Check-in Service                       int64\n",
      "Cleanliness                            int64\n",
      "Online Boarding                        int64\n",
      "Satisfaction                          object\n",
      "dtype: object\n"
     ]
    }
   ],
   "source": [
    "print(airplane_df.dtypes)"
   ]
  },
  {
   "cell_type": "markdown",
   "metadata": {},
   "source": [
    "As the departure delay in minutes is a continuous variable, the corresponding datatype should be float. Otherwise all remaining features have the correct corresponding datatype."
   ]
  },
  {
   "cell_type": "code",
   "execution_count": 276,
   "metadata": {},
   "outputs": [
    {
     "name": "stdout",
     "output_type": "stream",
     "text": [
      "Gender                                object\n",
      "Customer Type                         object\n",
      "Age                                    int64\n",
      "Type of Travel                        object\n",
      "Class                                 object\n",
      "Flight Distance                        int64\n",
      "Departure Delay in Minutes           float64\n",
      "Arrival Delay in Minutes             float64\n",
      "Seat Comfort                           int64\n",
      "Departure/Arrival Time Convenient      int64\n",
      "Food and Drink                         int64\n",
      "Gate Location                          int64\n",
      "Inflight Wifi Service                  int64\n",
      "Inflight Entertainment                 int64\n",
      "Online Support                         int64\n",
      "Ease of Online Booking                 int64\n",
      "On-board Service                       int64\n",
      "Leg Room Service                       int64\n",
      "Baggage Handling                       int64\n",
      "Check-in Service                       int64\n",
      "Cleanliness                            int64\n",
      "Online Boarding                        int64\n",
      "Satisfaction                          object\n",
      "dtype: object\n"
     ]
    }
   ],
   "source": [
    "# Changing data type of 'Depature Delay in Minutes from int to float\n",
    "airplane_df['Departure Delay in Minutes'] = airplane_df['Departure Delay in Minutes'].astype(float)\n",
    "print(airplane_df.dtypes)"
   ]
  },
  {
   "cell_type": "markdown",
   "metadata": {},
   "source": [
    "As 0 represents not applicable, any rows containing this value, specifically in the columns listed below will be removed: -\n",
    "-  Inflight wifi service\n",
    "-  Inflight service\n",
    "-  Online boarding\n",
    "-  Online Support\n",
    "-  Ease of Online booking\n",
    "-  Inflight entertainment\n",
    "-  Food and drink\n",
    "-  Seat comfort\n",
    "-  On-board service\n",
    "-  Leg room service\n",
    "-  Departure/Arrival time\n",
    "-  Baggage handling\n",
    "-  Gate location\n",
    "-  Cleanliness\n",
    "-  Check-in service\n"
   ]
  },
  {
   "cell_type": "code",
   "execution_count": 277,
   "metadata": {},
   "outputs": [
    {
     "name": "stdout",
     "output_type": "stream",
     "text": [
      "Number of rows to be dropped: 21006\n"
     ]
    }
   ],
   "source": [
    "# Setting columns to be worked on\n",
    "cols = ['Seat Comfort', 'Departure/Arrival Time Convenient',\n",
    "       'Food and Drink', 'Gate Location', 'Inflight Wifi Service',\n",
    "       'Inflight Entertainment', 'Online Support', 'Ease of Online Booking',\n",
    "       'On-board Service', 'Leg Room Service', 'Baggage Handling',\n",
    "       'Check-in Service', 'Cleanliness', 'Online Boarding']\n",
    "\n",
    "\n",
    "drops = []  # This list will hold the index of rows to be dropped\n",
    "\n",
    "# looping through df using the selected cols and appending the index if the value is equal to 0\n",
    "for i in airplane_df[cols].iterrows():  \n",
    "    for j in i[1]:\n",
    "        if j == 0:\n",
    "            drops.append(i[0])\n",
    "\n",
    "\n",
    "print(f'Number of rows to be dropped: {len(drops)}')"
   ]
  },
  {
   "cell_type": "markdown",
   "metadata": {},
   "source": [
    "As the number of rows contianing a '0' is only 21,006, it is insignificant in number and will therefore have minimal effect on the outcomes of the analysis"
   ]
  },
  {
   "cell_type": "code",
   "execution_count": 278,
   "metadata": {},
   "outputs": [],
   "source": [
    "# Dropping the rows containing the 0 using its index\n",
    "airplane_df.drop(airplane_df.index[drops], inplace=True )\n"
   ]
  },
  {
   "cell_type": "code",
   "execution_count": 279,
   "metadata": {},
   "outputs": [
    {
     "name": "stdout",
     "output_type": "stream",
     "text": [
      "Column name is: Seat Comfort and it value is: \n",
      " 3    28145\n",
      "2    27619\n",
      "4    27088\n",
      "1    19723\n",
      "5    17036\n",
      "Name: Seat Comfort, dtype: int64\n",
      "Column name is: Departure/Arrival Time Convenient and it value is: \n",
      " 4    28280\n",
      "5    25561\n",
      "3    22754\n",
      "2    22548\n",
      "1    20468\n",
      "Name: Departure/Arrival Time Convenient, dtype: int64\n",
      "Column name is: Food and Drink and it value is: \n",
      " 3    27276\n",
      "2    26293\n",
      "4    26167\n",
      "1    20276\n",
      "5    19599\n",
      "Name: Food and Drink, dtype: int64\n",
      "Column name is: Gate Location and it value is: \n",
      " 3    30591\n",
      "4    27580\n",
      "2    22560\n",
      "1    20643\n",
      "5    18237\n",
      "Name: Gate Location, dtype: int64\n",
      "Column name is: Inflight Wifi Service and it value is: \n",
      " 4    29374\n",
      "5    26652\n",
      "3    25384\n",
      "2    24909\n",
      "1    13292\n",
      "Name: Inflight Wifi Service, dtype: int64\n",
      "Column name is: Inflight Entertainment and it value is: \n",
      " 4    39660\n",
      "5    28040\n",
      "3    22941\n",
      "2    18081\n",
      "1    10889\n",
      "Name: Inflight Entertainment, dtype: int64\n",
      "Column name is: Online Support and it value is: \n",
      " 4    38810\n",
      "5    33037\n",
      "3    19799\n",
      "2    15581\n",
      "1    12384\n",
      "Name: Online Support, dtype: int64\n",
      "Column name is: Ease of Online Booking and it value is: \n",
      " 4    37709\n",
      "5    32022\n",
      "3    20225\n",
      "2    17910\n",
      "1    11745\n",
      "Name: Ease of Online Booking, dtype: int64\n",
      "Column name is: On-board Service and it value is: \n",
      " 4    38041\n",
      "5    29371\n",
      "3    24418\n",
      "2    15801\n",
      "1    11980\n",
      "Name: On-board Service, dtype: int64\n",
      "Column name is: Leg Room Service and it value is: \n",
      " 4    37525\n",
      "5    32194\n",
      "3    20384\n",
      "2    19641\n",
      "1     9867\n",
      "Name: Leg Room Service, dtype: int64\n",
      "Column name is: Baggage Handling and it value is: \n",
      " 4    45016\n",
      "5    32794\n",
      "3    22830\n",
      "2    12161\n",
      "1     6810\n",
      "Name: Baggage Handling, dtype: int64\n",
      "Column name is: Check-in Service and it value is: \n",
      " 4    33673\n",
      "3    32774\n",
      "5    24496\n",
      "2    14397\n",
      "1    14271\n",
      "Name: Check-in Service, dtype: int64\n",
      "Column name is: Cleanliness and it value is: \n",
      " 4    45434\n",
      "5    32991\n",
      "3    22323\n",
      "2    12176\n",
      "1     6687\n",
      "Name: Cleanliness, dtype: int64\n",
      "Column name is: Online Boarding and it value is: \n",
      " 4    32758\n",
      "3    28357\n",
      "5    27764\n",
      "2    16835\n",
      "1    13897\n",
      "Name: Online Boarding, dtype: int64\n"
     ]
    }
   ],
   "source": [
    "# Checking the df to see the changes have occured\n",
    "for i in airplane_df[cols].columns:\n",
    "    x = airplane_df[i].value_counts()\n",
    "    print(\"Column name is:\",i,\"and it value is:\",'\\n',x)"
   ]
  },
  {
   "cell_type": "markdown",
   "metadata": {},
   "source": [
    "- Below some of the value names are changed for consistency and to ensure clarity"
   ]
  },
  {
   "cell_type": "code",
   "execution_count": 280,
   "metadata": {},
   "outputs": [],
   "source": [
    "# Changing the value names of some values for clarity\n",
    "airplane_df['Customer Type'] = airplane_df['Customer Type'].replace('disloyal Customer', 'Disloyal')\n",
    "airplane_df['Customer Type'] = airplane_df['Customer Type'].replace('Loyal Customer', 'Loyal')\n",
    "airplane_df['Type of Travel'] = airplane_df['Type of Travel'].replace('Personal Travel', 'Personal')\n",
    "airplane_df['Type of Travel'] = airplane_df['Type of Travel'].replace('Business travel', 'Business')\n",
    "airplane_df['Satisfaction'] = airplane_df['Satisfaction'].replace('neutral or dissatisfied', 'Dissatisfied')\n",
    "airplane_df['Satisfaction'] = airplane_df['Satisfaction'].replace('satisfied', 'Satisfied')"
   ]
  },
  {
   "cell_type": "markdown",
   "metadata": {},
   "source": [
    "To avoid future discrepancies , the unique values for each categorical feature is displayed to check for whitespaces , case errors ect. "
   ]
  },
  {
   "cell_type": "code",
   "execution_count": 281,
   "metadata": {},
   "outputs": [
    {
     "name": "stdout",
     "output_type": "stream",
     "text": [
      "Variable        |        Unique values\n",
      "----------------------------------------\n",
      "Gender          | ['Male' 'Female']\n",
      "Customer Type   | ['Loyal' 'Disloyal']\n",
      "Type of Travel  | ['Personal' 'Business']\n",
      "Class           | ['Eco' 'Business' 'Eco Plus']\n",
      "Satisfaction    | ['Dissatisfied' 'Satisfied']\n"
     ]
    }
   ],
   "source": [
    "\n",
    "Objectdata = airplane_df.columns[airplane_df.dtypes==object].tolist()\n",
    "print('Variable','|'.center(15), 'Unique values')\n",
    "print('----------------------------------------')\n",
    "for x in Objectdata:\n",
    "    print(x,'|'.rjust(16-len(x)),airplane_df[x].unique())"
   ]
  },
  {
   "cell_type": "markdown",
   "metadata": {},
   "source": [
    "As seen above no discrepancies were found in the categorical data features.\n",
    "\n",
    "Missing values are displayed: \n",
    "- As 356 rows only account for 0.3% of the data, it can be removed without causing any substantial impact to the overall dataset "
   ]
  },
  {
   "cell_type": "code",
   "execution_count": 282,
   "metadata": {},
   "outputs": [
    {
     "name": "stdout",
     "output_type": "stream",
     "text": [
      "Total Number of Missing Values: 356\n"
     ]
    },
    {
     "data": {
      "text/plain": [
       "Gender                                 0\n",
       "Customer Type                          0\n",
       "Age                                    0\n",
       "Type of Travel                         0\n",
       "Class                                  0\n",
       "Flight Distance                        0\n",
       "Departure Delay in Minutes             0\n",
       "Arrival Delay in Minutes             356\n",
       "Seat Comfort                           0\n",
       "Departure/Arrival Time Convenient      0\n",
       "Food and Drink                         0\n",
       "Gate Location                          0\n",
       "Inflight Wifi Service                  0\n",
       "Inflight Entertainment                 0\n",
       "Online Support                         0\n",
       "Ease of Online Booking                 0\n",
       "On-board Service                       0\n",
       "Leg Room Service                       0\n",
       "Baggage Handling                       0\n",
       "Check-in Service                       0\n",
       "Cleanliness                            0\n",
       "Online Boarding                        0\n",
       "Satisfaction                           0\n",
       "dtype: int64"
      ]
     },
     "execution_count": 282,
     "metadata": {},
     "output_type": "execute_result"
    }
   ],
   "source": [
    "print(f'Total Number of Missing Values: {airplane_df.isnull().sum(axis=1).sum()}')\n",
    "airplane_df.isnull().sum(axis=0)"
   ]
  },
  {
   "cell_type": "code",
   "execution_count": 283,
   "metadata": {},
   "outputs": [
    {
     "name": "stdout",
     "output_type": "stream",
     "text": [
      "\n",
      "Number of missing values for each column/ feature:\n",
      "\n",
      "Total Number of Missing Values: 0\n",
      "Gender                               0\n",
      "Customer Type                        0\n",
      "Age                                  0\n",
      "Type of Travel                       0\n",
      "Class                                0\n",
      "Flight Distance                      0\n",
      "Departure Delay in Minutes           0\n",
      "Arrival Delay in Minutes             0\n",
      "Seat Comfort                         0\n",
      "Departure/Arrival Time Convenient    0\n",
      "Food and Drink                       0\n",
      "Gate Location                        0\n",
      "Inflight Wifi Service                0\n",
      "Inflight Entertainment               0\n",
      "Online Support                       0\n",
      "Ease of Online Booking               0\n",
      "On-board Service                     0\n",
      "Leg Room Service                     0\n",
      "Baggage Handling                     0\n",
      "Check-in Service                     0\n",
      "Cleanliness                          0\n",
      "Online Boarding                      0\n",
      "Satisfaction                         0\n",
      "dtype: int64\n"
     ]
    }
   ],
   "source": [
    "# Count missing values in each column\n",
    "print(f\"\\nNumber of missing values for each column/ feature:\")\n",
    "airplane_df = airplane_df.dropna()  # Dropping Missing Values\n",
    "\n",
    "\n",
    "print(f'\\nTotal Number of Missing Values: {airplane_df.isnull().sum(axis=1).sum()}')    # Verifying the change has occured\n",
    "\n",
    "\n",
    "\n",
    "print(airplane_df.isnull().sum())   # Verifying they have been removed\n"
   ]
  },
  {
   "cell_type": "markdown",
   "metadata": {},
   "source": [
    "In order to check for outliers in the numeric data , the summary statistics for each is displayed"
   ]
  },
  {
   "cell_type": "code",
   "execution_count": 284,
   "metadata": {},
   "outputs": [
    {
     "data": {
      "text/html": [
       "<div>\n",
       "<style scoped>\n",
       "    .dataframe tbody tr th:only-of-type {\n",
       "        vertical-align: middle;\n",
       "    }\n",
       "\n",
       "    .dataframe tbody tr th {\n",
       "        vertical-align: top;\n",
       "    }\n",
       "\n",
       "    .dataframe thead th {\n",
       "        text-align: right;\n",
       "    }\n",
       "</style>\n",
       "<table border=\"1\" class=\"dataframe\">\n",
       "  <thead>\n",
       "    <tr style=\"text-align: right;\">\n",
       "      <th></th>\n",
       "      <th>count</th>\n",
       "      <th>mean</th>\n",
       "      <th>std</th>\n",
       "      <th>min</th>\n",
       "      <th>25%</th>\n",
       "      <th>50%</th>\n",
       "      <th>75%</th>\n",
       "      <th>90%</th>\n",
       "      <th>95%</th>\n",
       "      <th>99%</th>\n",
       "      <th>max</th>\n",
       "    </tr>\n",
       "  </thead>\n",
       "  <tbody>\n",
       "    <tr>\n",
       "      <th>Age</th>\n",
       "      <td>119255.0</td>\n",
       "      <td>39.856157</td>\n",
       "      <td>15.027477</td>\n",
       "      <td>7.0</td>\n",
       "      <td>28.0</td>\n",
       "      <td>40.0</td>\n",
       "      <td>51.0</td>\n",
       "      <td>59.0</td>\n",
       "      <td>64.0</td>\n",
       "      <td>70.0</td>\n",
       "      <td>85.0</td>\n",
       "    </tr>\n",
       "    <tr>\n",
       "      <th>Flight Distance</th>\n",
       "      <td>119255.0</td>\n",
       "      <td>1994.709144</td>\n",
       "      <td>1038.057310</td>\n",
       "      <td>50.0</td>\n",
       "      <td>1359.0</td>\n",
       "      <td>1941.0</td>\n",
       "      <td>2571.0</td>\n",
       "      <td>3426.0</td>\n",
       "      <td>3849.0</td>\n",
       "      <td>4854.0</td>\n",
       "      <td>6951.0</td>\n",
       "    </tr>\n",
       "    <tr>\n",
       "      <th>Departure Delay in Minutes</th>\n",
       "      <td>119255.0</td>\n",
       "      <td>14.824552</td>\n",
       "      <td>38.158017</td>\n",
       "      <td>0.0</td>\n",
       "      <td>0.0</td>\n",
       "      <td>0.0</td>\n",
       "      <td>12.5</td>\n",
       "      <td>44.0</td>\n",
       "      <td>77.0</td>\n",
       "      <td>180.0</td>\n",
       "      <td>1592.0</td>\n",
       "    </tr>\n",
       "    <tr>\n",
       "      <th>Arrival Delay in Minutes</th>\n",
       "      <td>119255.0</td>\n",
       "      <td>15.273758</td>\n",
       "      <td>38.679817</td>\n",
       "      <td>0.0</td>\n",
       "      <td>0.0</td>\n",
       "      <td>0.0</td>\n",
       "      <td>13.0</td>\n",
       "      <td>45.0</td>\n",
       "      <td>79.0</td>\n",
       "      <td>183.0</td>\n",
       "      <td>1584.0</td>\n",
       "    </tr>\n",
       "    <tr>\n",
       "      <th>Seat Comfort</th>\n",
       "      <td>119255.0</td>\n",
       "      <td>2.950451</td>\n",
       "      <td>1.297718</td>\n",
       "      <td>1.0</td>\n",
       "      <td>2.0</td>\n",
       "      <td>3.0</td>\n",
       "      <td>4.0</td>\n",
       "      <td>5.0</td>\n",
       "      <td>5.0</td>\n",
       "      <td>5.0</td>\n",
       "      <td>5.0</td>\n",
       "    </tr>\n",
       "    <tr>\n",
       "      <th>Departure/Arrival Time Convenient</th>\n",
       "      <td>119255.0</td>\n",
       "      <td>3.132758</td>\n",
       "      <td>1.395171</td>\n",
       "      <td>1.0</td>\n",
       "      <td>2.0</td>\n",
       "      <td>3.0</td>\n",
       "      <td>4.0</td>\n",
       "      <td>5.0</td>\n",
       "      <td>5.0</td>\n",
       "      <td>5.0</td>\n",
       "      <td>5.0</td>\n",
       "    </tr>\n",
       "    <tr>\n",
       "      <th>Food and Drink</th>\n",
       "      <td>119255.0</td>\n",
       "      <td>2.987455</td>\n",
       "      <td>1.331106</td>\n",
       "      <td>1.0</td>\n",
       "      <td>2.0</td>\n",
       "      <td>3.0</td>\n",
       "      <td>4.0</td>\n",
       "      <td>5.0</td>\n",
       "      <td>5.0</td>\n",
       "      <td>5.0</td>\n",
       "      <td>5.0</td>\n",
       "    </tr>\n",
       "    <tr>\n",
       "      <th>Gate Location</th>\n",
       "      <td>119255.0</td>\n",
       "      <td>3.001828</td>\n",
       "      <td>1.311234</td>\n",
       "      <td>1.0</td>\n",
       "      <td>2.0</td>\n",
       "      <td>3.0</td>\n",
       "      <td>4.0</td>\n",
       "      <td>5.0</td>\n",
       "      <td>5.0</td>\n",
       "      <td>5.0</td>\n",
       "      <td>5.0</td>\n",
       "    </tr>\n",
       "    <tr>\n",
       "      <th>Inflight Wifi Service</th>\n",
       "      <td>119255.0</td>\n",
       "      <td>3.260836</td>\n",
       "      <td>1.312094</td>\n",
       "      <td>1.0</td>\n",
       "      <td>2.0</td>\n",
       "      <td>3.0</td>\n",
       "      <td>4.0</td>\n",
       "      <td>5.0</td>\n",
       "      <td>5.0</td>\n",
       "      <td>5.0</td>\n",
       "      <td>5.0</td>\n",
       "    </tr>\n",
       "    <tr>\n",
       "      <th>Inflight Entertainment</th>\n",
       "      <td>119255.0</td>\n",
       "      <td>3.467385</td>\n",
       "      <td>1.251510</td>\n",
       "      <td>1.0</td>\n",
       "      <td>3.0</td>\n",
       "      <td>4.0</td>\n",
       "      <td>4.0</td>\n",
       "      <td>5.0</td>\n",
       "      <td>5.0</td>\n",
       "      <td>5.0</td>\n",
       "      <td>5.0</td>\n",
       "    </tr>\n",
       "    <tr>\n",
       "      <th>Online Support</th>\n",
       "      <td>119255.0</td>\n",
       "      <td>3.539902</td>\n",
       "      <td>1.296922</td>\n",
       "      <td>1.0</td>\n",
       "      <td>3.0</td>\n",
       "      <td>4.0</td>\n",
       "      <td>5.0</td>\n",
       "      <td>5.0</td>\n",
       "      <td>5.0</td>\n",
       "      <td>5.0</td>\n",
       "      <td>5.0</td>\n",
       "    </tr>\n",
       "    <tr>\n",
       "      <th>Ease of Online Booking</th>\n",
       "      <td>119255.0</td>\n",
       "      <td>3.504692</td>\n",
       "      <td>1.293870</td>\n",
       "      <td>1.0</td>\n",
       "      <td>3.0</td>\n",
       "      <td>4.0</td>\n",
       "      <td>5.0</td>\n",
       "      <td>5.0</td>\n",
       "      <td>5.0</td>\n",
       "      <td>5.0</td>\n",
       "      <td>5.0</td>\n",
       "    </tr>\n",
       "    <tr>\n",
       "      <th>On-board Service</th>\n",
       "      <td>119255.0</td>\n",
       "      <td>3.476751</td>\n",
       "      <td>1.267173</td>\n",
       "      <td>1.0</td>\n",
       "      <td>3.0</td>\n",
       "      <td>4.0</td>\n",
       "      <td>4.0</td>\n",
       "      <td>5.0</td>\n",
       "      <td>5.0</td>\n",
       "      <td>5.0</td>\n",
       "      <td>5.0</td>\n",
       "    </tr>\n",
       "    <tr>\n",
       "      <th>Leg Room Service</th>\n",
       "      <td>119255.0</td>\n",
       "      <td>3.523022</td>\n",
       "      <td>1.269207</td>\n",
       "      <td>1.0</td>\n",
       "      <td>3.0</td>\n",
       "      <td>4.0</td>\n",
       "      <td>5.0</td>\n",
       "      <td>5.0</td>\n",
       "      <td>5.0</td>\n",
       "      <td>5.0</td>\n",
       "      <td>5.0</td>\n",
       "    </tr>\n",
       "    <tr>\n",
       "      <th>Baggage Handling</th>\n",
       "      <td>119255.0</td>\n",
       "      <td>3.708893</td>\n",
       "      <td>1.140020</td>\n",
       "      <td>1.0</td>\n",
       "      <td>3.0</td>\n",
       "      <td>4.0</td>\n",
       "      <td>5.0</td>\n",
       "      <td>5.0</td>\n",
       "      <td>5.0</td>\n",
       "      <td>5.0</td>\n",
       "      <td>5.0</td>\n",
       "    </tr>\n",
       "    <tr>\n",
       "      <th>Check-in Service</th>\n",
       "      <td>119255.0</td>\n",
       "      <td>3.332011</td>\n",
       "      <td>1.260195</td>\n",
       "      <td>1.0</td>\n",
       "      <td>3.0</td>\n",
       "      <td>3.0</td>\n",
       "      <td>4.0</td>\n",
       "      <td>5.0</td>\n",
       "      <td>5.0</td>\n",
       "      <td>5.0</td>\n",
       "      <td>5.0</td>\n",
       "    </tr>\n",
       "    <tr>\n",
       "      <th>Cleanliness</th>\n",
       "      <td>119255.0</td>\n",
       "      <td>3.717915</td>\n",
       "      <td>1.137143</td>\n",
       "      <td>1.0</td>\n",
       "      <td>3.0</td>\n",
       "      <td>4.0</td>\n",
       "      <td>5.0</td>\n",
       "      <td>5.0</td>\n",
       "      <td>5.0</td>\n",
       "      <td>5.0</td>\n",
       "      <td>5.0</td>\n",
       "    </tr>\n",
       "    <tr>\n",
       "      <th>Online Boarding</th>\n",
       "      <td>119255.0</td>\n",
       "      <td>3.365041</td>\n",
       "      <td>1.293982</td>\n",
       "      <td>1.0</td>\n",
       "      <td>2.0</td>\n",
       "      <td>4.0</td>\n",
       "      <td>4.0</td>\n",
       "      <td>5.0</td>\n",
       "      <td>5.0</td>\n",
       "      <td>5.0</td>\n",
       "      <td>5.0</td>\n",
       "    </tr>\n",
       "  </tbody>\n",
       "</table>\n",
       "</div>"
      ],
      "text/plain": [
       "                                      count         mean          std   min  \\\n",
       "Age                                119255.0    39.856157    15.027477   7.0   \n",
       "Flight Distance                    119255.0  1994.709144  1038.057310  50.0   \n",
       "Departure Delay in Minutes         119255.0    14.824552    38.158017   0.0   \n",
       "Arrival Delay in Minutes           119255.0    15.273758    38.679817   0.0   \n",
       "Seat Comfort                       119255.0     2.950451     1.297718   1.0   \n",
       "Departure/Arrival Time Convenient  119255.0     3.132758     1.395171   1.0   \n",
       "Food and Drink                     119255.0     2.987455     1.331106   1.0   \n",
       "Gate Location                      119255.0     3.001828     1.311234   1.0   \n",
       "Inflight Wifi Service              119255.0     3.260836     1.312094   1.0   \n",
       "Inflight Entertainment             119255.0     3.467385     1.251510   1.0   \n",
       "Online Support                     119255.0     3.539902     1.296922   1.0   \n",
       "Ease of Online Booking             119255.0     3.504692     1.293870   1.0   \n",
       "On-board Service                   119255.0     3.476751     1.267173   1.0   \n",
       "Leg Room Service                   119255.0     3.523022     1.269207   1.0   \n",
       "Baggage Handling                   119255.0     3.708893     1.140020   1.0   \n",
       "Check-in Service                   119255.0     3.332011     1.260195   1.0   \n",
       "Cleanliness                        119255.0     3.717915     1.137143   1.0   \n",
       "Online Boarding                    119255.0     3.365041     1.293982   1.0   \n",
       "\n",
       "                                      25%     50%     75%     90%     95%  \\\n",
       "Age                                  28.0    40.0    51.0    59.0    64.0   \n",
       "Flight Distance                    1359.0  1941.0  2571.0  3426.0  3849.0   \n",
       "Departure Delay in Minutes            0.0     0.0    12.5    44.0    77.0   \n",
       "Arrival Delay in Minutes              0.0     0.0    13.0    45.0    79.0   \n",
       "Seat Comfort                          2.0     3.0     4.0     5.0     5.0   \n",
       "Departure/Arrival Time Convenient     2.0     3.0     4.0     5.0     5.0   \n",
       "Food and Drink                        2.0     3.0     4.0     5.0     5.0   \n",
       "Gate Location                         2.0     3.0     4.0     5.0     5.0   \n",
       "Inflight Wifi Service                 2.0     3.0     4.0     5.0     5.0   \n",
       "Inflight Entertainment                3.0     4.0     4.0     5.0     5.0   \n",
       "Online Support                        3.0     4.0     5.0     5.0     5.0   \n",
       "Ease of Online Booking                3.0     4.0     5.0     5.0     5.0   \n",
       "On-board Service                      3.0     4.0     4.0     5.0     5.0   \n",
       "Leg Room Service                      3.0     4.0     5.0     5.0     5.0   \n",
       "Baggage Handling                      3.0     4.0     5.0     5.0     5.0   \n",
       "Check-in Service                      3.0     3.0     4.0     5.0     5.0   \n",
       "Cleanliness                           3.0     4.0     5.0     5.0     5.0   \n",
       "Online Boarding                       2.0     4.0     4.0     5.0     5.0   \n",
       "\n",
       "                                      99%     max  \n",
       "Age                                  70.0    85.0  \n",
       "Flight Distance                    4854.0  6951.0  \n",
       "Departure Delay in Minutes          180.0  1592.0  \n",
       "Arrival Delay in Minutes            183.0  1584.0  \n",
       "Seat Comfort                          5.0     5.0  \n",
       "Departure/Arrival Time Convenient     5.0     5.0  \n",
       "Food and Drink                        5.0     5.0  \n",
       "Gate Location                         5.0     5.0  \n",
       "Inflight Wifi Service                 5.0     5.0  \n",
       "Inflight Entertainment                5.0     5.0  \n",
       "Online Support                        5.0     5.0  \n",
       "Ease of Online Booking                5.0     5.0  \n",
       "On-board Service                      5.0     5.0  \n",
       "Leg Room Service                      5.0     5.0  \n",
       "Baggage Handling                      5.0     5.0  \n",
       "Check-in Service                      5.0     5.0  \n",
       "Cleanliness                           5.0     5.0  \n",
       "Online Boarding                       5.0     5.0  "
      ]
     },
     "execution_count": 284,
     "metadata": {},
     "output_type": "execute_result"
    }
   ],
   "source": [
    "airplane_df.describe(include = ['int64', 'float64'], percentiles = [.25, .5, .75, .9, .95, .99]).T"
   ]
  },
  {
   "cell_type": "markdown",
   "metadata": {},
   "source": [
    "- Above, it is evident that there are outliers in the Flight Distance, Departure Delay in Minutes and Arrival Delay in Minutes.\n",
    "- Although under normal circumstances these might not be removed, due to these features being important in being able to ascertain which features contribute most to satisfaction.\n",
    "- However, higher delay times might lead to passengers disregarding the other features and soley basing their disatisfaction on the length of the delay.\n",
    "- The only exception to this is flight distance. By keeping the outliers in flight distance we might be able to see a greater divide in what provides satisfaction to passengers as they are on the aircraft for longer.\n",
    "- For this reason, only the outliers in Departure and Arrival delay will be removed.\n",
    "- They will be removed using z score, any value more than 3 standard deviations (99.97%) away from the mean will be removed, for both the upper and lower bounds."
   ]
  },
  {
   "cell_type": "code",
   "execution_count": 285,
   "metadata": {},
   "outputs": [],
   "source": [
    "\n",
    "df = airplane_df.copy() # Copying df\n",
    "standard_deviations = 3    # Setting how many std away from the mean we want to remove\n",
    "\n",
    "# calculating the z score and then finding the absoloute value and then removing if more than 3 std away from mean\n",
    "df = df[df[['Arrival Delay in Minutes', 'Departure Delay in Minutes']].apply(lambda x: np.abs(x - x.mean()) / x.std() < standard_deviations).all(axis=1)]   \n",
    "\n"
   ]
  },
  {
   "cell_type": "code",
   "execution_count": 286,
   "metadata": {},
   "outputs": [
    {
     "data": {
      "text/html": [
       "<div>\n",
       "<style scoped>\n",
       "    .dataframe tbody tr th:only-of-type {\n",
       "        vertical-align: middle;\n",
       "    }\n",
       "\n",
       "    .dataframe tbody tr th {\n",
       "        vertical-align: top;\n",
       "    }\n",
       "\n",
       "    .dataframe thead th {\n",
       "        text-align: right;\n",
       "    }\n",
       "</style>\n",
       "<table border=\"1\" class=\"dataframe\">\n",
       "  <thead>\n",
       "    <tr style=\"text-align: right;\">\n",
       "      <th></th>\n",
       "      <th>count</th>\n",
       "      <th>mean</th>\n",
       "      <th>std</th>\n",
       "      <th>min</th>\n",
       "      <th>25%</th>\n",
       "      <th>50%</th>\n",
       "      <th>75%</th>\n",
       "      <th>90%</th>\n",
       "      <th>95%</th>\n",
       "      <th>99%</th>\n",
       "      <th>max</th>\n",
       "    </tr>\n",
       "  </thead>\n",
       "  <tbody>\n",
       "    <tr>\n",
       "      <th>Arrival Delay in Minutes</th>\n",
       "      <td>116463.0</td>\n",
       "      <td>10.83575</td>\n",
       "      <td>21.457425</td>\n",
       "      <td>0.0</td>\n",
       "      <td>0.0</td>\n",
       "      <td>0.0</td>\n",
       "      <td>12.0</td>\n",
       "      <td>37.0</td>\n",
       "      <td>60.0</td>\n",
       "      <td>103.0</td>\n",
       "      <td>131.0</td>\n",
       "    </tr>\n",
       "    <tr>\n",
       "      <th>Departure Delay in Minutes</th>\n",
       "      <td>116463.0</td>\n",
       "      <td>10.49074</td>\n",
       "      <td>21.200168</td>\n",
       "      <td>0.0</td>\n",
       "      <td>0.0</td>\n",
       "      <td>0.0</td>\n",
       "      <td>11.0</td>\n",
       "      <td>36.0</td>\n",
       "      <td>59.0</td>\n",
       "      <td>102.0</td>\n",
       "      <td>129.0</td>\n",
       "    </tr>\n",
       "  </tbody>\n",
       "</table>\n",
       "</div>"
      ],
      "text/plain": [
       "                               count      mean        std  min  25%  50%  \\\n",
       "Arrival Delay in Minutes    116463.0  10.83575  21.457425  0.0  0.0  0.0   \n",
       "Departure Delay in Minutes  116463.0  10.49074  21.200168  0.0  0.0  0.0   \n",
       "\n",
       "                             75%   90%   95%    99%    max  \n",
       "Arrival Delay in Minutes    12.0  37.0  60.0  103.0  131.0  \n",
       "Departure Delay in Minutes  11.0  36.0  59.0  102.0  129.0  "
      ]
     },
     "execution_count": 286,
     "metadata": {},
     "output_type": "execute_result"
    }
   ],
   "source": [
    "# Confirming the outlier removal has taken place\n",
    "df[['Arrival Delay in Minutes', 'Departure Delay in Minutes']].describe(include= ['int64', 'float64'], percentiles = [.25, .5, .75, .9, .95, .99]).T"
   ]
  },
  {
   "cell_type": "code",
   "execution_count": 287,
   "metadata": {},
   "outputs": [
    {
     "name": "stdout",
     "output_type": "stream",
     "text": [
      "Dataframe shape before outlier removal: (119255, 23)\n",
      "Dataframe shape after outlier removal: (116463, 23)\n",
      "Number of rows contianing outliers removed: 2792\n"
     ]
    }
   ],
   "source": [
    "print(f'Dataframe shape before outlier removal: {airplane_df.shape}')\n",
    "print(f'Dataframe shape after outlier removal: {df.shape}')\n",
    "print(f'Number of rows contianing outliers removed: {airplane_df.shape[0] - df.shape[0]}')\n",
    "airplane_df = df.copy()     # Changing back to airplane_df name"
   ]
  },
  {
   "cell_type": "markdown",
   "metadata": {},
   "source": [
    "- As the data contains more than 5000 rows , in order to simplfy the dataset to make it less compuatationally intensive , 5000 randomly sampled rows are generated."
   ]
  },
  {
   "cell_type": "code",
   "execution_count": 288,
   "metadata": {},
   "outputs": [
    {
     "name": "stdout",
     "output_type": "stream",
     "text": [
      "Number of rows in df: 5000\n",
      "Number of cols in df: 23\n"
     ]
    },
    {
     "data": {
      "text/html": [
       "<div>\n",
       "<style scoped>\n",
       "    .dataframe tbody tr th:only-of-type {\n",
       "        vertical-align: middle;\n",
       "    }\n",
       "\n",
       "    .dataframe tbody tr th {\n",
       "        vertical-align: top;\n",
       "    }\n",
       "\n",
       "    .dataframe thead th {\n",
       "        text-align: right;\n",
       "    }\n",
       "</style>\n",
       "<table border=\"1\" class=\"dataframe\">\n",
       "  <thead>\n",
       "    <tr style=\"text-align: right;\">\n",
       "      <th></th>\n",
       "      <th>Gender</th>\n",
       "      <th>Customer Type</th>\n",
       "      <th>Age</th>\n",
       "      <th>Type of Travel</th>\n",
       "      <th>Class</th>\n",
       "      <th>Flight Distance</th>\n",
       "      <th>Departure Delay in Minutes</th>\n",
       "      <th>Arrival Delay in Minutes</th>\n",
       "      <th>Seat Comfort</th>\n",
       "      <th>Departure/Arrival Time Convenient</th>\n",
       "      <th>...</th>\n",
       "      <th>Inflight Entertainment</th>\n",
       "      <th>Online Support</th>\n",
       "      <th>Ease of Online Booking</th>\n",
       "      <th>On-board Service</th>\n",
       "      <th>Leg Room Service</th>\n",
       "      <th>Baggage Handling</th>\n",
       "      <th>Check-in Service</th>\n",
       "      <th>Cleanliness</th>\n",
       "      <th>Online Boarding</th>\n",
       "      <th>Satisfaction</th>\n",
       "    </tr>\n",
       "  </thead>\n",
       "  <tbody>\n",
       "    <tr>\n",
       "      <th>103625</th>\n",
       "      <td>Female</td>\n",
       "      <td>Loyal</td>\n",
       "      <td>51</td>\n",
       "      <td>Business</td>\n",
       "      <td>Business</td>\n",
       "      <td>1036</td>\n",
       "      <td>8.0</td>\n",
       "      <td>3.0</td>\n",
       "      <td>5</td>\n",
       "      <td>2</td>\n",
       "      <td>...</td>\n",
       "      <td>4</td>\n",
       "      <td>5</td>\n",
       "      <td>4</td>\n",
       "      <td>4</td>\n",
       "      <td>4</td>\n",
       "      <td>4</td>\n",
       "      <td>3</td>\n",
       "      <td>4</td>\n",
       "      <td>5</td>\n",
       "      <td>Satisfied</td>\n",
       "    </tr>\n",
       "    <tr>\n",
       "      <th>18186</th>\n",
       "      <td>Female</td>\n",
       "      <td>Loyal</td>\n",
       "      <td>51</td>\n",
       "      <td>Personal</td>\n",
       "      <td>Business</td>\n",
       "      <td>607</td>\n",
       "      <td>0.0</td>\n",
       "      <td>0.0</td>\n",
       "      <td>4</td>\n",
       "      <td>4</td>\n",
       "      <td>...</td>\n",
       "      <td>5</td>\n",
       "      <td>5</td>\n",
       "      <td>4</td>\n",
       "      <td>4</td>\n",
       "      <td>4</td>\n",
       "      <td>4</td>\n",
       "      <td>5</td>\n",
       "      <td>4</td>\n",
       "      <td>4</td>\n",
       "      <td>Satisfied</td>\n",
       "    </tr>\n",
       "    <tr>\n",
       "      <th>15055</th>\n",
       "      <td>Male</td>\n",
       "      <td>Loyal</td>\n",
       "      <td>37</td>\n",
       "      <td>Personal</td>\n",
       "      <td>Eco</td>\n",
       "      <td>2103</td>\n",
       "      <td>0.0</td>\n",
       "      <td>0.0</td>\n",
       "      <td>2</td>\n",
       "      <td>4</td>\n",
       "      <td>...</td>\n",
       "      <td>2</td>\n",
       "      <td>2</td>\n",
       "      <td>5</td>\n",
       "      <td>3</td>\n",
       "      <td>4</td>\n",
       "      <td>5</td>\n",
       "      <td>5</td>\n",
       "      <td>5</td>\n",
       "      <td>5</td>\n",
       "      <td>Dissatisfied</td>\n",
       "    </tr>\n",
       "    <tr>\n",
       "      <th>78943</th>\n",
       "      <td>Male</td>\n",
       "      <td>Loyal</td>\n",
       "      <td>17</td>\n",
       "      <td>Business</td>\n",
       "      <td>Business</td>\n",
       "      <td>2392</td>\n",
       "      <td>33.0</td>\n",
       "      <td>29.0</td>\n",
       "      <td>2</td>\n",
       "      <td>2</td>\n",
       "      <td>...</td>\n",
       "      <td>3</td>\n",
       "      <td>2</td>\n",
       "      <td>2</td>\n",
       "      <td>3</td>\n",
       "      <td>5</td>\n",
       "      <td>5</td>\n",
       "      <td>4</td>\n",
       "      <td>5</td>\n",
       "      <td>2</td>\n",
       "      <td>Satisfied</td>\n",
       "    </tr>\n",
       "    <tr>\n",
       "      <th>26161</th>\n",
       "      <td>Female</td>\n",
       "      <td>Loyal</td>\n",
       "      <td>44</td>\n",
       "      <td>Personal</td>\n",
       "      <td>Eco</td>\n",
       "      <td>734</td>\n",
       "      <td>13.0</td>\n",
       "      <td>10.0</td>\n",
       "      <td>2</td>\n",
       "      <td>2</td>\n",
       "      <td>...</td>\n",
       "      <td>4</td>\n",
       "      <td>4</td>\n",
       "      <td>5</td>\n",
       "      <td>5</td>\n",
       "      <td>5</td>\n",
       "      <td>5</td>\n",
       "      <td>3</td>\n",
       "      <td>5</td>\n",
       "      <td>3</td>\n",
       "      <td>Satisfied</td>\n",
       "    </tr>\n",
       "    <tr>\n",
       "      <th>77250</th>\n",
       "      <td>Male</td>\n",
       "      <td>Loyal</td>\n",
       "      <td>33</td>\n",
       "      <td>Business</td>\n",
       "      <td>Business</td>\n",
       "      <td>3502</td>\n",
       "      <td>13.0</td>\n",
       "      <td>12.0</td>\n",
       "      <td>2</td>\n",
       "      <td>4</td>\n",
       "      <td>...</td>\n",
       "      <td>2</td>\n",
       "      <td>2</td>\n",
       "      <td>2</td>\n",
       "      <td>1</td>\n",
       "      <td>3</td>\n",
       "      <td>3</td>\n",
       "      <td>1</td>\n",
       "      <td>3</td>\n",
       "      <td>2</td>\n",
       "      <td>Dissatisfied</td>\n",
       "    </tr>\n",
       "    <tr>\n",
       "      <th>105860</th>\n",
       "      <td>Female</td>\n",
       "      <td>Loyal</td>\n",
       "      <td>60</td>\n",
       "      <td>Business</td>\n",
       "      <td>Business</td>\n",
       "      <td>414</td>\n",
       "      <td>31.0</td>\n",
       "      <td>42.0</td>\n",
       "      <td>2</td>\n",
       "      <td>2</td>\n",
       "      <td>...</td>\n",
       "      <td>4</td>\n",
       "      <td>4</td>\n",
       "      <td>4</td>\n",
       "      <td>4</td>\n",
       "      <td>4</td>\n",
       "      <td>4</td>\n",
       "      <td>5</td>\n",
       "      <td>4</td>\n",
       "      <td>5</td>\n",
       "      <td>Satisfied</td>\n",
       "    </tr>\n",
       "    <tr>\n",
       "      <th>111230</th>\n",
       "      <td>Male</td>\n",
       "      <td>Loyal</td>\n",
       "      <td>36</td>\n",
       "      <td>Business</td>\n",
       "      <td>Business</td>\n",
       "      <td>84</td>\n",
       "      <td>0.0</td>\n",
       "      <td>0.0</td>\n",
       "      <td>3</td>\n",
       "      <td>3</td>\n",
       "      <td>...</td>\n",
       "      <td>4</td>\n",
       "      <td>3</td>\n",
       "      <td>4</td>\n",
       "      <td>4</td>\n",
       "      <td>5</td>\n",
       "      <td>3</td>\n",
       "      <td>2</td>\n",
       "      <td>4</td>\n",
       "      <td>1</td>\n",
       "      <td>Satisfied</td>\n",
       "    </tr>\n",
       "    <tr>\n",
       "      <th>37153</th>\n",
       "      <td>Male</td>\n",
       "      <td>Loyal</td>\n",
       "      <td>37</td>\n",
       "      <td>Personal</td>\n",
       "      <td>Eco Plus</td>\n",
       "      <td>1798</td>\n",
       "      <td>0.0</td>\n",
       "      <td>0.0</td>\n",
       "      <td>4</td>\n",
       "      <td>5</td>\n",
       "      <td>...</td>\n",
       "      <td>4</td>\n",
       "      <td>5</td>\n",
       "      <td>5</td>\n",
       "      <td>1</td>\n",
       "      <td>4</td>\n",
       "      <td>2</td>\n",
       "      <td>1</td>\n",
       "      <td>5</td>\n",
       "      <td>5</td>\n",
       "      <td>Satisfied</td>\n",
       "    </tr>\n",
       "    <tr>\n",
       "      <th>28265</th>\n",
       "      <td>Female</td>\n",
       "      <td>Loyal</td>\n",
       "      <td>68</td>\n",
       "      <td>Personal</td>\n",
       "      <td>Eco</td>\n",
       "      <td>334</td>\n",
       "      <td>8.0</td>\n",
       "      <td>11.0</td>\n",
       "      <td>4</td>\n",
       "      <td>4</td>\n",
       "      <td>...</td>\n",
       "      <td>5</td>\n",
       "      <td>5</td>\n",
       "      <td>5</td>\n",
       "      <td>5</td>\n",
       "      <td>5</td>\n",
       "      <td>5</td>\n",
       "      <td>4</td>\n",
       "      <td>5</td>\n",
       "      <td>4</td>\n",
       "      <td>Satisfied</td>\n",
       "    </tr>\n",
       "  </tbody>\n",
       "</table>\n",
       "<p>10 rows × 23 columns</p>\n",
       "</div>"
      ],
      "text/plain": [
       "        Gender Customer Type  Age Type of Travel     Class  Flight Distance  \\\n",
       "103625  Female         Loyal   51       Business  Business             1036   \n",
       "18186   Female         Loyal   51       Personal  Business              607   \n",
       "15055     Male         Loyal   37       Personal       Eco             2103   \n",
       "78943     Male         Loyal   17       Business  Business             2392   \n",
       "26161   Female         Loyal   44       Personal       Eco              734   \n",
       "77250     Male         Loyal   33       Business  Business             3502   \n",
       "105860  Female         Loyal   60       Business  Business              414   \n",
       "111230    Male         Loyal   36       Business  Business               84   \n",
       "37153     Male         Loyal   37       Personal  Eco Plus             1798   \n",
       "28265   Female         Loyal   68       Personal       Eco              334   \n",
       "\n",
       "        Departure Delay in Minutes  Arrival Delay in Minutes  Seat Comfort  \\\n",
       "103625                         8.0                       3.0             5   \n",
       "18186                          0.0                       0.0             4   \n",
       "15055                          0.0                       0.0             2   \n",
       "78943                         33.0                      29.0             2   \n",
       "26161                         13.0                      10.0             2   \n",
       "77250                         13.0                      12.0             2   \n",
       "105860                        31.0                      42.0             2   \n",
       "111230                         0.0                       0.0             3   \n",
       "37153                          0.0                       0.0             4   \n",
       "28265                          8.0                      11.0             4   \n",
       "\n",
       "        Departure/Arrival Time Convenient  ...  Inflight Entertainment  \\\n",
       "103625                                  2  ...                       4   \n",
       "18186                                   4  ...                       5   \n",
       "15055                                   4  ...                       2   \n",
       "78943                                   2  ...                       3   \n",
       "26161                                   2  ...                       4   \n",
       "77250                                   4  ...                       2   \n",
       "105860                                  2  ...                       4   \n",
       "111230                                  3  ...                       4   \n",
       "37153                                   5  ...                       4   \n",
       "28265                                   4  ...                       5   \n",
       "\n",
       "        Online Support  Ease of Online Booking  On-board Service  \\\n",
       "103625               5                       4                 4   \n",
       "18186                5                       4                 4   \n",
       "15055                2                       5                 3   \n",
       "78943                2                       2                 3   \n",
       "26161                4                       5                 5   \n",
       "77250                2                       2                 1   \n",
       "105860               4                       4                 4   \n",
       "111230               3                       4                 4   \n",
       "37153                5                       5                 1   \n",
       "28265                5                       5                 5   \n",
       "\n",
       "        Leg Room Service  Baggage Handling  Check-in Service  Cleanliness  \\\n",
       "103625                 4                 4                 3            4   \n",
       "18186                  4                 4                 5            4   \n",
       "15055                  4                 5                 5            5   \n",
       "78943                  5                 5                 4            5   \n",
       "26161                  5                 5                 3            5   \n",
       "77250                  3                 3                 1            3   \n",
       "105860                 4                 4                 5            4   \n",
       "111230                 5                 3                 2            4   \n",
       "37153                  4                 2                 1            5   \n",
       "28265                  5                 5                 4            5   \n",
       "\n",
       "        Online Boarding  Satisfaction  \n",
       "103625                5     Satisfied  \n",
       "18186                 4     Satisfied  \n",
       "15055                 5  Dissatisfied  \n",
       "78943                 2     Satisfied  \n",
       "26161                 3     Satisfied  \n",
       "77250                 2  Dissatisfied  \n",
       "105860                5     Satisfied  \n",
       "111230                1     Satisfied  \n",
       "37153                 5     Satisfied  \n",
       "28265                 4     Satisfied  \n",
       "\n",
       "[10 rows x 23 columns]"
      ]
     },
     "execution_count": 288,
     "metadata": {},
     "output_type": "execute_result"
    }
   ],
   "source": [
    "airplane_df = airplane_df.sample(n=5000, random_state=111)\n",
    "print(f'Number of rows in df: {airplane_df.shape[0]}')  \n",
    "print(f'Number of cols in df: {airplane_df.shape[1]}')\n",
    "airplane_df.sample(10, random_state=111)"
   ]
  },
  {
   "cell_type": "markdown",
   "metadata": {},
   "source": [
    "<span style='font-family:\"Times New Roman\"'> \n",
    "\n",
    "### Data Exploration & Visualisation: <a name=\"dvis\"></a>\n",
    "<span styel=''>"
   ]
  },
  {
   "cell_type": "markdown",
   "metadata": {},
   "source": [
    "## Plotting Requirements for Phase 1\n",
    "\n",
    "\n",
    "## Additional plotting instructions are as follows\n",
    "\n",
    "1. For plotting, you a  re free to use whatever Python module you like: Matplotlib, Seaborn, Altair, Plotly, etc.\n",
    "2. Your plots must be meaningful and they need to make sense with respect to the goals and objectives of your project.\n",
    "3. As long as your plots are meaningful and relevant, there are no restrictions on the plot types. That is, you can have a mix of box-plots, histograms, line plots, scatter plots etc.\n",
    "4. For each plot in your report, you will need to label the x- and y-axes as appropriate and also add a meaningful title."
   ]
  },
  {
   "cell_type": "markdown",
   "metadata": {},
   "source": [
    "## One-variable plots <a name=\"1v\"></a>\n",
    "\n",
    "### Figure 1: Histogram of Flight distance\n",
    "- The histogram shows most of the flights are around the 2000km mark in distance \n",
    "- Histogram is skewed to the right with the majority flights less than 3000km flight distance\n",
    "- The histogram is Bi-Modal with the first peak at 400km and the secon peak is at 1900km\n",
    "- There is an outlier at about 6900 km\n"
   ]
  },
  {
   "cell_type": "code",
   "execution_count": 304,
   "metadata": {},
   "outputs": [
    {
     "data": {
      "image/png": "[encoded data removed]",
      "text/plain": [
       "<Figure size 1080x576 with 1 Axes>"
      ]
     },
     "metadata": {
      "needs_background": "light"
     },
     "output_type": "display_data"
    }
   ],
   "source": [
    "plt.figure(figsize = (15,8))\n",
    "sns.histplot(airplane_df[\"Flight Distance\"],kde = False,color=['#ee6c4d'], binwidth= 100).set(title = \"Flight Distance Histogram\", xlabel=\"Flight Distance (km)\", ylabel=\"Frequency\")\n",
    "plt.title('Figure 1: Histogram of Flight Distance', fontsize = 15)\n",
    "\n",
    "plt.show()"
   ]
  },
  {
   "cell_type": "markdown",
   "metadata": {},
   "source": [
    "### Figure 2: Bar chart of satisfaction levels\n",
    "- There is a roughly even split between satisfied and disatisfied\n",
    "- There is 444 more satisfied survey respondants than not satisfied"
   ]
  },
  {
   "cell_type": "code",
   "execution_count": 305,
   "metadata": {},
   "outputs": [
    {
     "data": {
      "text/plain": [
       "<Figure size 1080x576 with 0 Axes>"
      ]
     },
     "metadata": {},
     "output_type": "display_data"
    },
    {
     "data": {
      "image/png": "[encoded data removed]",
      "text/plain": [
       "<Figure size 360x360 with 1 Axes>"
      ]
     },
     "metadata": {
      "needs_background": "light"
     },
     "output_type": "display_data"
    }
   ],
   "source": [
    "plt.figure(figsize = (15,8))\n",
    "count = airplane_df.groupby([\"Satisfaction\"]).size().reset_index(name=\"Frequency\")\n",
    "g = sns.catplot(x = \"Satisfaction\", y = \"Frequency\", kind=\"bar\", data=count,palette=['#ee6c4d', '#98c1d9'])\n",
    "ax = g.facet_axis(0, 0)\n",
    "\n",
    "# Adding Data Labels\n",
    "for c in ax.containers:\n",
    "    labels = [f'{(v.get_height()):.2f}' for v in c]\n",
    "    ax.bar_label(c, labels=labels, label_type='edge')\n",
    "plt.title('Figure 2: Bar chart of Satisfaction Frequency', fontsize = 15)\n",
    "plt.show()"
   ]
  },
  {
   "cell_type": "markdown",
   "metadata": {},
   "source": [
    "### Figure 3: Histogram of Passenger Age\n",
    "- This is a bimodal histogram with the majority of passengers between 20 and 30 years old or around 40 years old\n",
    "- The histogram shows roughly symetrical distribution of age among the passengers"
   ]
  },
  {
   "cell_type": "code",
   "execution_count": 306,
   "metadata": {},
   "outputs": [
    {
     "data": {
      "image/png": "[encoded data removed]",
      "text/plain": [
       "<Figure size 1080x576 with 1 Axes>"
      ]
     },
     "metadata": {
      "needs_background": "light"
     },
     "output_type": "display_data"
    }
   ],
   "source": [
    "plt.figure(figsize = (15,8))\n",
    "sns.histplot(airplane_df[\"Age\"],kde = False,color=\"#98c1d9\").set( xlabel=\"Age (years)\", ylabel=\"Frequency\")\n",
    "plt.title('Figure 3:Passenger Age histogram', fontsize = 15)\n",
    "plt.show()"
   ]
  },
  {
   "cell_type": "markdown",
   "metadata": {},
   "source": [
    "### Figure 4: Bar Chart of Travel Type\n",
    "- There is almost double the amount of passengers, 40%, travelling for business than those who are travelling for personal reasons.\n",
    "- There is 1948 more business passengers than personal travellers.\n"
   ]
  },
  {
   "cell_type": "code",
   "execution_count": 317,
   "metadata": {},
   "outputs": [
    {
     "data": {
      "text/plain": [
       "<Figure size 1080x576 with 0 Axes>"
      ]
     },
     "metadata": {},
     "output_type": "display_data"
    },
    {
     "data": {
      "image/png": "[encoded data removed]",
      "text/plain": [
       "<Figure size 360x360 with 1 Axes>"
      ]
     },
     "metadata": {
      "needs_background": "light"
     },
     "output_type": "display_data"
    }
   ],
   "source": [
    "plt.figure(figsize = (15,8))\n",
    "count = airplane_df.groupby([\"Type of Travel\"]).size().reset_index(name=\"Frequency\")\n",
    "g = sns.catplot(x = \"Type of Travel\", y = \"Frequency\", kind=\"bar\", data=count,palette=['#ee6c4d', '#98c1d9'])\n",
    "plt.title('Figure 4: Bar chart of Type of Travel Frequency', fontsize = 15)\n",
    "ax = g.facet_axis(0, 0)\n",
    "\n",
    "# Adding Data Labels\n",
    "for c in ax.containers:\n",
    "    labels = [f'{(v.get_height()):.2f}' for v in c]\n",
    "    ax.bar_label(c, labels=labels, label_type='edge')\n",
    "plt.show()"
   ]
  },
  {
   "cell_type": "markdown",
   "metadata": {},
   "source": [
    "## Two-variable plots <a name=\"2v\"></a>"
   ]
  },
  {
   "cell_type": "markdown",
   "metadata": {},
   "source": [
    "### Figure 5: Box plot of Flight Distance by Satisfaction\n",
    "- We can see that the dissatisfied, has a higher median than the satisfied boxplot with regard to Flight Distance.\n",
    "  - This supports the hypothesis that longer flights lead to more time for passengers to become dissatisfied.\n",
    "- The descriptive statistics show that there are less dissastisfied passengers (count = 2,278) than satisfied passengers (count = 2,722)\n",
    "  - Their means are relatively the same with dissastisfied passengers having travelled on average 100km more than satisfied passengers. This also links back to the hypothesis of longer flight distances produce more dissastisfied passenegers.\n",
    "  - There is a greater variance with regard to flight distance in satisfied passengers (std = 1126.32km) than dissastisfied passengers (std = 870.96km). This means that there is a greater spread in flight distance among satisfied passengers.\n",
    "  - The most notable figure of the quartiles is the 1st quartile, the first quartile for satisfied passengers is 1,013.75km while for dissastisfied passengers it was 1533.25km. This also supports the hypothesis of longer flights lead to more dissastisfied passengers as it is clearly evident here that the less distance a passenger has to travel the more likely they are to be satisfied.\n",
    "- In Figure 5, through visual analysis we can see that Flight Distance does not have a significant impact on satisfaction.\n"
   ]
  },
  {
   "cell_type": "code",
   "execution_count": 318,
   "metadata": {},
   "outputs": [
    {
     "data": {
      "text/html": [
       "<div>\n",
       "<style scoped>\n",
       "    .dataframe tbody tr th:only-of-type {\n",
       "        vertical-align: middle;\n",
       "    }\n",
       "\n",
       "    .dataframe tbody tr th {\n",
       "        vertical-align: top;\n",
       "    }\n",
       "\n",
       "    .dataframe thead th {\n",
       "        text-align: right;\n",
       "    }\n",
       "</style>\n",
       "<table border=\"1\" class=\"dataframe\">\n",
       "  <thead>\n",
       "    <tr style=\"text-align: right;\">\n",
       "      <th>Satisfaction</th>\n",
       "      <th>Dissatisfied</th>\n",
       "      <th>Satisfied</th>\n",
       "    </tr>\n",
       "  </thead>\n",
       "  <tbody>\n",
       "    <tr>\n",
       "      <th>count</th>\n",
       "      <td>2,278.00</td>\n",
       "      <td>2,722.00</td>\n",
       "    </tr>\n",
       "    <tr>\n",
       "      <th>mean</th>\n",
       "      <td>2,006.17</td>\n",
       "      <td>1,905.31</td>\n",
       "    </tr>\n",
       "    <tr>\n",
       "      <th>std</th>\n",
       "      <td>870.96</td>\n",
       "      <td>1,126.32</td>\n",
       "    </tr>\n",
       "    <tr>\n",
       "      <th>min</th>\n",
       "      <td>55.00</td>\n",
       "      <td>50.00</td>\n",
       "    </tr>\n",
       "    <tr>\n",
       "      <th>25%</th>\n",
       "      <td>1,533.25</td>\n",
       "      <td>1,013.75</td>\n",
       "    </tr>\n",
       "    <tr>\n",
       "      <th>50%</th>\n",
       "      <td>1,940.50</td>\n",
       "      <td>1,851.50</td>\n",
       "    </tr>\n",
       "    <tr>\n",
       "      <th>75%</th>\n",
       "      <td>2,426.25</td>\n",
       "      <td>2,603.75</td>\n",
       "    </tr>\n",
       "    <tr>\n",
       "      <th>max</th>\n",
       "      <td>6,595.00</td>\n",
       "      <td>6,734.00</td>\n",
       "    </tr>\n",
       "  </tbody>\n",
       "</table>\n",
       "</div>"
      ],
      "text/plain": [
       "Satisfaction Dissatisfied Satisfied\n",
       "count            2,278.00  2,722.00\n",
       "mean             2,006.17  1,905.31\n",
       "std                870.96  1,126.32\n",
       "min                 55.00     50.00\n",
       "25%              1,533.25  1,013.75\n",
       "50%              1,940.50  1,851.50\n",
       "75%              2,426.25  2,603.75\n",
       "max              6,595.00  6,734.00"
      ]
     },
     "execution_count": 318,
     "metadata": {},
     "output_type": "execute_result"
    }
   ],
   "source": [
    "airplane_df['Flight Distance'].groupby(airplane_df['Satisfaction']).describe().T.applymap('{:,.2f}'.format)"
   ]
  },
  {
   "cell_type": "code",
   "execution_count": 319,
   "metadata": {},
   "outputs": [
    {
     "data": {
      "image/png": "[encoded data removed]",
      "text/plain": [
       "<Figure size 1080x576 with 1 Axes>"
      ]
     },
     "metadata": {
      "needs_background": "light"
     },
     "output_type": "display_data"
    }
   ],
   "source": [
    "# Plotting satisfaction by flight distance\n",
    "plt.figure(figsize = (15,8))\n",
    "sns.boxplot(airplane_df['Satisfaction'], airplane_df['Flight Distance'],palette=['#ee6c4d', '#98c1d9'])\n",
    "plt.title('Figure 5: Boxplot of Flight Distance by Satisfaction', fontsize = 15)\n",
    "plt.show()"
   ]
  },
  {
   "cell_type": "markdown",
   "metadata": {},
   "source": [
    "### Figure 6: Bar-Chart of Satisfaction by Class\n",
    "\n",
    "- Passengers travelling in Business Class are more likely to be satisfied overall.\n",
    "- Conversely, passengers travelling in economy are more likely to be dissastisfied.\n",
    "- Passengers in economy plus vary less, with only a 92 person difference. \n",
    "- Therefore, it is evident that Economy Plus is not a deciding factor in Satisfaction whereas Business Class and Economy are deciding factors."
   ]
  },
  {
   "cell_type": "code",
   "execution_count": 324,
   "metadata": {},
   "outputs": [
    {
     "data": {
      "text/plain": [
       "<Figure size 1080x576 with 0 Axes>"
      ]
     },
     "metadata": {},
     "output_type": "display_data"
    },
    {
     "data": {
      "image/png": "[encoded data removed]",
      "text/plain": [
       "<Figure size 440.375x360 with 1 Axes>"
      ]
     },
     "metadata": {
      "needs_background": "light"
     },
     "output_type": "display_data"
    }
   ],
   "source": [
    "plt.figure(figsize = (15,8))\n",
    "count = airplane_df.groupby([\"Class\", \"Satisfaction\"]).size().reset_index(name=\"Frequency\")\n",
    "g = sns.catplot(x = \"Satisfaction\", y = \"Frequency\",  hue= \"Class\", kind=\"bar\", data=count,palette=['#ee6c4d', '#98c1d9',\"#293241\"])\n",
    "plt.title('Firgure 6: Satisfaction Frequency based on Class', fontsize = 15);\n",
    "\n",
    "ax = g.facet_axis(0, 0)\n",
    "\n",
    "# Adding Data Labels\n",
    "for c in ax.containers:\n",
    "    labels = [f'{(v.get_height()):.2f}' for v in c]\n",
    "    ax.bar_label(c, labels=labels, label_type='edge')\n",
    "\n",
    "plt.show();"
   ]
  },
  {
   "cell_type": "markdown",
   "metadata": {},
   "source": [
    "### Figure 7: Stacked Bar-Chart of Satisfaction by Customer type\n",
    "- We can see that that Loyal customers have a much higher percentage of satisfied customers with 61.88% of loyal customers being satisfied compared to 16.75% of disloyal customers \n",
    "- This figure shows their is a strong postive relationship between customer satisfaction and customer loyalty irrespective of the other features."
   ]
  },
  {
   "cell_type": "code",
   "execution_count": 336,
   "metadata": {},
   "outputs": [
    {
     "data": {
      "image/png": "[encoded data removed]",
      "text/plain": [
       "<Figure size 1080x576 with 1 Axes>"
      ]
     },
     "metadata": {
      "needs_background": "light"
     },
     "output_type": "display_data"
    }
   ],
   "source": [
    "\n",
    "plt.figure(figsize=(15,8))\n",
    "count = airplane_df.groupby([\"Customer Type\",\"Satisfaction\"]).size().reset_index(name=\"frequency\")\n",
    "count_1 = count[0:2]\n",
    "count_1['Percentage'] = (count_1.frequency / count_1.frequency.sum())* 100\n",
    "count_2 = count[2:4]\n",
    "count_2['Percentage'] = (count_2.frequency / count_2.frequency.sum())* 100\n",
    "count = pd.concat([count_1,count_2])\n",
    "sns.histplot(\n",
    "    count,\n",
    "    x='Customer Type',\n",
    "    # Use the value variable here to turn histogram counts into weighted\n",
    "    # values.\n",
    "    weights='Percentage',\n",
    "    hue='Satisfaction',\n",
    "    multiple='stack',\n",
    "    palette=['#ee6c4d', '#98c1d9'],\n",
    "    # Add white borders to the bars.\n",
    "    edgecolor='white',\n",
    "    # Shrink the bars a bit so they don't touch.\n",
    "    shrink=0.8\n",
    "    \n",
    ").set( xlabel=\"Customer Type\", ylabel=\"Precentage\")\n",
    "\n",
    "\n",
    "\n",
    "plt.title('Figure 7: Satisfaction Frequency based on customer type', fontsize = 15);"
   ]
  },
  {
   "cell_type": "markdown",
   "metadata": {},
   "source": [
    "### Figure 8: Box Plot of Age by Ease of Online booking\n",
    "-   Through visual inspection it is evident tht age has minimal impact on Ease of Online Booking.\n",
    "-   Therefore, we can assume that all groups Age groups are able to use the online booking service faily equally"
   ]
  },
  {
   "cell_type": "code",
   "execution_count": 354,
   "metadata": {},
   "outputs": [
    {
     "data": {
      "text/plain": [
       "<Figure size 1080x576 with 0 Axes>"
      ]
     },
     "metadata": {},
     "output_type": "display_data"
    },
    {
     "data": {
      "image/png": "[encoded data removed]",
      "text/plain": [
       "<Figure size 360x360 with 1 Axes>"
      ]
     },
     "metadata": {
      "needs_background": "light"
     },
     "output_type": "display_data"
    }
   ],
   "source": [
    "plt.figure(figsize = (15,8))\n",
    "g =sns.catplot(x = \"Ease of Online Booking\", y = \"Age\", kind = 'box', data=airplane_df, ci = None)\n",
    "plt.title('Firgure 8: Ease of Online Booking Frequency based on Age', fontsize = 15);\n",
    "\n",
    "\n",
    "ax = g.facet_axis(0, 0)\n",
    "\n",
    "# Adding Data Labels\n",
    "for c in ax.containers:\n",
    "    labels = [f'{(v.get_height()):.2f}' for v in c]\n",
    "    ax.bar_label(c, labels=labels, label_type='edge')\n",
    "\n",
    "plt.show();"
   ]
  },
  {
   "cell_type": "markdown",
   "metadata": {},
   "source": [
    "## Three-variable plots <a name=\"3v\"></a>\n",
    "\n",
    "### Figure 9: Faceted barplot of seat comfort effect on satisfaction across class\n",
    "- The barplot shows for business class passengers that as seat comfort increases they are more likely to be satisfied. However, Business class passengers are likely to be satisfied regardless of seat comfort.\n",
    "- Only in economy is it likely that passengers will be satisfied if they are also satisfied with seat comfort"
   ]
  },
  {
   "cell_type": "code",
   "execution_count": 368,
   "metadata": {},
   "outputs": [
    {
     "data": {
      "text/plain": [
       "Text(0.5, 0.98, 'Figure 9: Faceted barplot of leg room service by seat comfort and satisfaction')"
      ]
     },
     "execution_count": 368,
     "metadata": {},
     "output_type": "execute_result"
    },
    {
     "data": {
      "text/plain": [
       "<Figure size 1440x1440 with 0 Axes>"
      ]
     },
     "metadata": {},
     "output_type": "display_data"
    },
    {
     "data": {
      "image/png": "[encoded data removed]",
      "text/plain": [
       "<Figure size 634.25x180 with 3 Axes>"
      ]
     },
     "metadata": {
      "needs_background": "light"
     },
     "output_type": "display_data"
    }
   ],
   "source": [
    "#Seat comfort rating vs class\n",
    "plt.figure(figsize = (20,20))\n",
    "count1 = airplane_df.groupby([\"Seat Comfort\", \"Class\", \"Satisfaction\"]).size().reset_index(name=\"frequency\")\n",
    "plot = sns.FacetGrid(count1, col=\"Class\", height=2.5, col_wrap=3)\n",
    "plot.map_dataframe(sns.barplot, x=\"Seat Comfort\",y =\"frequency\" ,hue=\"Satisfaction\",palette=['#ee6c4d', '#98c1d9'])\n",
    "plot.fig.subplots_adjust(top=0.8)\n",
    "plot.add_legend() \n",
    "plot.fig.suptitle('Figure 9: Faceted barplot of leg room service by seat comfort and satisfaction')\n"
   ]
  },
  {
   "cell_type": "markdown",
   "metadata": {},
   "source": [
    "### Figure 10: Side-by-side boxplots of Flight Distance by Satisfaction and Age group\n",
    " - As seen in figure 10 below as the age group increases so does the disparity in mean and median flight distances between satisfied and dissatisfied customers from the ages 0 to 75.\n",
    "- In the 25-35 age group , satisfied customers on average travel 201 km more , whilst in the 35-45 , 45-65 and 65-75 age groups satisfied customers travel on average 37 , 133 and 457 km less respectively than dissatisfied customers\n",
    "- This proves that flight distance is a significant factor in determining satisfaction across all age groups especially in the older age groups"
   ]
  },
  {
   "cell_type": "code",
   "execution_count": 361,
   "metadata": {},
   "outputs": [
    {
     "data": {
      "text/plain": [
       "<Figure size 1080x576 with 0 Axes>"
      ]
     },
     "metadata": {},
     "output_type": "display_data"
    }
   ],
   "source": [
    "plt.figure(figsize = (15,8))\n",
    "category = pd.cut(airplane_df.Age,bins=[0,18,25,35,45,65,75,99],labels=[\"0-18\",\"18-25\",\"25-35\",\"35-45\",\"45-65\",\"65-75\",\"75-...\"])\n",
    "airplane_df.insert(3,'Age Group',category)\n"
   ]
  },
  {
   "cell_type": "code",
   "execution_count": 362,
   "metadata": {},
   "outputs": [
    {
     "name": "stdout",
     "output_type": "stream",
     "text": [
      "Age Group  Satisfaction\n",
      "0-18       Dissatisfied    2071.0\n",
      "           Satisfied       2014.0\n",
      "18-25      Dissatisfied    2084.0\n",
      "           Satisfied       2198.0\n",
      "25-35      Dissatisfied    2074.5\n",
      "           Satisfied       2229.0\n",
      "35-45      Dissatisfied    1787.0\n",
      "           Satisfied       1810.0\n",
      "45-65      Dissatisfied    1776.0\n",
      "           Satisfied       1565.0\n",
      "65-75      Dissatisfied    1672.0\n",
      "           Satisfied        750.5\n",
      "75-...     Dissatisfied    1858.5\n",
      "           Satisfied       1793.0\n",
      "Name: Flight Distance, dtype: float64\n",
      "Age Group  Satisfaction\n",
      "0-18       Dissatisfied    2192.318182\n",
      "           Satisfied       2170.707182\n",
      "18-25      Dissatisfied    2219.184659\n",
      "           Satisfied       2484.960784\n",
      "25-35      Dissatisfied    2247.225000\n",
      "           Satisfied       2448.955257\n",
      "35-45      Dissatisfied    1864.095541\n",
      "           Satisfied       1827.601379\n",
      "45-65      Dissatisfied    1761.595000\n",
      "           Satisfied       1628.595608\n",
      "65-75      Dissatisfied    1649.376471\n",
      "           Satisfied       1192.878788\n",
      "75-...     Dissatisfied    1832.625000\n",
      "           Satisfied       1322.666667\n",
      "Name: Flight Distance, dtype: float64\n"
     ]
    },
    {
     "data": {
      "image/png": "[encoded data removed]",
      "text/plain": [
       "<Figure size 1080x576 with 1 Axes>"
      ]
     },
     "metadata": {
      "needs_background": "light"
     },
     "output_type": "display_data"
    }
   ],
   "source": [
    "\n",
    "plt.figure(figsize = (15,8))\n",
    "sns.boxplot(airplane_df['Age Group'], airplane_df['Flight Distance'],hue=airplane_df['Satisfaction'],palette=['#ee6c4d', '#98c1d9'])\n",
    "plt.title('Figure 10: Boxplot of flight distance broken down by Age Group and satisfaction ', fontsize = 15)\n",
    "\n",
    "medians = airplane_df.groupby(['Age Group','Satisfaction'])['Flight Distance'].median()\n",
    "means = airplane_df.groupby(['Age Group','Satisfaction'])['Flight Distance'].mean()\n",
    "print(medians)\n",
    "print(means)"
   ]
  },
  {
   "cell_type": "markdown",
   "metadata": {},
   "source": [
    "### Figure 11: Faceted barplot of leg room service by seat comfort and satisfaction\n",
    "\n",
    "- Passengers who rated seat comfort highly generally also rated the legroom service highly while also being satisfied with their flight\n",
    "- This suggests having good leg room service results in also having good seat comfort\n",
    "- Similarly, passengers who rated the leg room as neutral or less were more likely to rate seat comfort more poorly and be dissatisfied with their flight"
   ]
  },
  {
   "cell_type": "code",
   "execution_count": 360,
   "metadata": {},
   "outputs": [
    {
     "data": {
      "text/plain": [
       "Text(0.5, 0.98, 'Figure 11: Faceted barplot of leg room service by seat comfort and satisfaction')"
      ]
     },
     "execution_count": 360,
     "metadata": {},
     "output_type": "execute_result"
    },
    {
     "data": {
      "text/plain": [
       "<Figure size 1080x576 with 0 Axes>"
      ]
     },
     "metadata": {},
     "output_type": "display_data"
    },
    {
     "data": {
      "image/png": "[encoded data removed]",
      "text/plain": [
       "<Figure size 634.25x360 with 5 Axes>"
      ]
     },
     "metadata": {
      "needs_background": "light"
     },
     "output_type": "display_data"
    }
   ],
   "source": [
    "#Seat comfort rating vs leg room service vs satisfaction\n",
    "plt.figure(figsize = (15,8))\n",
    "count1 = airplane_df.groupby([\"Seat Comfort\", \"Leg Room Service\", \"Satisfaction\"]).size().reset_index(name=\"frequency\")\n",
    "plot = sns.FacetGrid(count1, col=\"Leg Room Service\", height=2.5, col_wrap=3)\n",
    "plot.map_dataframe(sns.barplot, x=\"Seat Comfort\",y =\"frequency\" ,hue=\"Satisfaction\",palette=['#ee6c4d', '#98c1d9'])\n",
    "plot.fig.subplots_adjust(top=0.87)\n",
    "plot.add_legend() \n",
    "plot.fig.suptitle('Figure 11: Faceted barplot of leg room service by seat comfort and satisfaction')\n",
    "\n"
   ]
  },
  {
   "cell_type": "markdown",
   "metadata": {},
   "source": [
    "### Figure 12: Side by side Boxplots of onboard service by age\n",
    "\n",
    "- Here there is a fairly even distribution of age and how passengers rated their inflight service\n",
    "- It is evident that there is a minimal variation and thus effect of on-board service & age in comparison to Satisfaction.\n",
    "- This indicates age does not affect the way passengers value in flight service"
   ]
  },
  {
   "cell_type": "code",
   "execution_count": 364,
   "metadata": {},
   "outputs": [
    {
     "data": {
      "image/png": "[encoded data removed]",
      "text/plain": [
       "<Figure size 1080x576 with 1 Axes>"
      ]
     },
     "metadata": {
      "needs_background": "light"
     },
     "output_type": "display_data"
    }
   ],
   "source": [
    "plt.figure(figsize = (15,8))\n",
    "count1 = airplane_df.groupby([\"Age\", \"On-board Service\", \"Satisfaction\"]).size().reset_index(name=\"frequency\")\n",
    "a = sns.boxplot(data= count1, x=\"On-board Service\", y = \"Age\", hue= \"Satisfaction\",palette=['#ee6c4d', '#98c1d9'])\n",
    "#sns.catplot(data = count1, x = \"Seat comfort\", y = \"frequency\", col= \"Leg room service\", kind = \"bar\", hue= \"Satisfaction\")\n",
    "plt.title('Firgure 12: Boxplots of Age broken down by On-board service and satisfaction', fontsize = 15);\n",
    "plt.show(a);\n"
   ]
  },
  {
   "cell_type": "markdown",
   "metadata": {},
   "source": [
    "<span style='font-family:\"Times New Roman\"'> \n",
    "\n",
    "# Literature Review: <a name=\"lr\"></a>\n",
    "\n",
    "Survival and being able to maintain market-share in an industry as competitive as the airline industry is a feat that has become primarily dependent on the perceived quality of passenger service (Walia, 2021) . (Prentice & Correia Loureiro, 2017) Proposes the importance of customer satisfaction has increased exponentially with the adoption of various digital medias as the views of satisfied and dissatisfied customers spread rapidly, meaning customer satisfaction has the potential to make or break a buisness by increasing its profitability or tarnishing the reputation of the airlines themselves. As presented in (Fadi et al., 2020) , service quality has been found to be an essential factor in the makeup of an airlines image, acting as an alternative form of advertisement. Maintaining this positive company image has ultimately been found necessary to maintain customer attention and uniqueness in an already saturated market (Ah-Hyun & Park, 2020). In addtion to overall company image, studies conducted by (Lainamngern & Sawmong, 2019)  ,  (Namukasa, 2013)  and (Karunaratna A.C & Wickramaratne C, 2018) all report that perceived and actual service quality is also directly and positively correlated with passenger satisfaction, which inturn exhibits the same relationship with passenger loyalty as demonstrated in *figure 1* below. \n",
    "\n",
    "\n",
    "\n",
    "<center><img src=\"fig1.png\" width=500 height=200 /> \n",
    "\n",
    "*fig 1.*</center>\n",
    "\n",
    "Passenger loyalty is an immensely derisible consumer characteristic as it is heavily associated with consumer behaviours such as word-of-mouth, repurchase intention and positive feedback to the service provider (Saha & Theingi, 2009). Meaning, a loyal customer is much more likely to refer and spread positive comments on the service itself and much more willing to buy the service again, increasing profitability overall. Measuring the service quality from the consumers perspective is therefore essentials for airline companies to influence the behavioural intentions of their consumer base. Using customer relationship strategies coupld with machine learning models allows airlines to break down this complex concept of service quality and customer satisfaction into more tangible subclasses: \n",
    "    \n",
    "    (1)\tWhich service features have the strongest and weakest correlation with customer satisfaction?\n",
    "    (2)\tWhat is the most influential and financially viable service recovery method?\n",
    "    (3)\tWhich features can be restricted without reducing overall customer satisfaction? \n",
    "    (4)\tWhat customer characteristics are strongly associated with loyalty and satisfaction?\n",
    "1.\tThis allows airline companies to help mitigate and identify possible or even upcoming points of service failures which will have the most devastating effects on customer satisfaction, allowing for a more targeted approach. As pain points are undoubtably always going to arise, having a good recovery strategy in place in these areas is highly recommended by (Ali et al., 2020) to reduce overall customer dissatisfaction and increase retention. \n",
    "\n",
    "2.\tAs competitive airlines are always looking for areas of possible future investments that will be the most impactful in terms of customer retention and satisfaction, understating the most viable route for these investments allows these companies to make business decisions informed via the customers perspective(Tsafarakis et al., 2018). As customer satisfaction is a dynamic parameter that changes based on multiple societal and market influences a system which can categorise perceived service quality shortcomings as they change is ideal. \n",
    "\n",
    "3.\tBeing able to identify the general customers level of tolerance in terms of the received standard of service allows airlines to direct resources away from areas that do not substantially reduce overall satisfaction so that they can be invested in more viable areas. (Johnston, 1995) \n",
    "\n",
    "4.\tThese features allow for airline to create more successful customer profiles which accurately represent their most profitable consumer bases. In general, this allows for more targeted marketing campaigns which is proven to greatly increase purchase intent (Camilleri, 2018).\n",
    "\n",
    "Many classification algorithms have already been implemented and easily exhibit the capability of correctly predicting overall travel satisfaction with probabilities as high as 95.92% (Hayadi et al., 2021). These algorithms such as those demonstrated in (Kumar & Zymbler, 2019) and (Park et al., 2022) are capable of categorising customer and service features based on  overall satisfaction and subsequently model the complex relationships these features have with each other to aid in making more data-driven business decisions in the airline industry. Therefore, the application and implementation of Machine learning models have proven to be a significant tool in being able to identify, classify and predict the major factors contributing to customer satisfaction.\n",
    "\n",
    "<span styel=''>\n"
   ]
  },
  {
   "cell_type": "markdown",
   "metadata": {},
   "source": [
    "<span style='font-family:\"Times New Roman\"'> \n",
    "\n",
    "### Summary & conclusion: <a name=\"sum\"></a>\n",
    "<span styel=''>"
   ]
  },
  {
   "cell_type": "markdown",
   "metadata": {},
   "source": [
    "\n",
    "Being able to comprehensively understand the factors that directly relate to customer satisfaction is a crucial feature in a service driven industry like the airline industry, as it allows for companies to make important resource management and marketing decisions with the customers perspective in mind. A model that reliably predicts a customer’s satisfaction based on survey results and customers features would be instrumental in creating a compressive customer-focused business strategy. Our goal for this project is to attempt to create a model for predicting whether a customer is satisfied or not using the airline satisfaction dataset and analyse its reliability. \n",
    "\n",
    "The main components of the first phase of this project are data preparation which involves cleaning and pre-processing our data and data visualisation to further explore the data. We first dropped the `id`’ variable as its contents is redundant for our task. We then checked the data for missing values which were found to be present in the `arrival delay` variable and were subsequently imputed as they account for less than 5% of the data (0.3%). Outliers were then also identified and removed in the `Flight Distance`, `Departure Delay in Minutes and Arrival Delay in Minutes` variables. Finally , in order to reduce the computational intensity of our data we randomly sampled 5000 rows from the initial dataset.\n",
    "\n",
    "Several one, two and three variable visualisations were generated to get a greater understanding of the dataset. These visualisations show there is more satisfied passengers compared to neutral or dissatisfied. Key findings from the visualisations is that customers who fly buisness class are far more likely to be satisfied while passengers in economy class are far more likely to be dissatisfied. It was also found that passengers loyal to the airline were far more likely to be satisfied with their flight compared to disloyal passengers. It was found that flight distance had little impact on whether passengers were satisfied or not. Particularly amoungst the various age groups, flight distance had a very similar impact on satisfaction for all age groups. It was found that generally customers who rated the leg room service highly on the flight also rated the overall seat comfort highly as well. We found that age generally had little impact on whether a customer will be satisffied or not while class had a much bigger impact."
   ]
  },
  {
   "cell_type": "markdown",
   "metadata": {},
   "source": [
    "<span style='font-family:\"Times New Roman\"'> \n",
    "\n",
    "### References: <a name=\"ref\"></a>\n",
    "\n",
    "\n",
    "1. Ah-Hyun, O. H., & Park, H.-Y. (2020). Marketing Strategies for Improving Customer Attitude Using Airline Advertising Model: Focusing on Corporate Image and Brand Loyalty. Journal of Distribution Science, 18(4), 13–26. https://doi.org/10.15722/JDS.18.4.202004.13\n",
    "2. Ali, S. R. O., Said, N. S. M., Jislan, F., Mat, K. A., & Aznan, W. N. M. W. (2020). The Relationship between Service Failure and Service Recovery with Airline Passenger Satisfaction. Journal of Physics: Conference Series, 1529(2), 022062. https://doi.org/10.1088/1742-6596/1529/2/022062\n",
    "3. Camilleri, M. A. (2018). Market Segmentation, Targeting and Positioning. 69–83. https://doi.org/10.1007/978-3-319-49849-2_4\n",
    "4. Fadi, A., Khalid, D., Akram, S., & Abrar, A. (2020). Drivers of Customer Satisfaction in Airline Industry in (The) Sultanate of Oman: A Conceptual Study. 13th Annual Conference of the EuroMed Academy of Business.\n",
    "5. Hayadi, B. H., Kim, J.-M., Hulliyah, K., & Sukmana, H. T. (2021). Predicting Airline Passenger Satisfaction with Classification Algorithms. International Journal of Informatics and Information Systems, 4(1), 82–94. https://doi.org/10.47738/IJIIS.V4I1.80\n",
    "6. Johnston, R. (1995). The zone of tolerance Exploring the relationship between service transactions and satisfaction with the overall service. International Journal of Service Industry Management, 6(2), 46–61. https://doi.org/10.1108/09564239510084941/FULL/PDF\n",
    "7. Karunaratna A.C, & Wickramaratne C. (2018). The Impact of Service Quality on Passenger Satisfaction in Airport Services: A Case on International Passengers. Proceedings of the 7 Th International Conference on Management and Economics.\n",
    "8. Kumar, S., & Zymbler, M. (2019). A machine learning approach to analyze customer satisfaction from airline tweets. Journal of Big Data, 6(1), 1–16. https://doi.org/10.1186/S40537-019-0224-1/TABLES/4\n",
    "9. Lainamngern, S., & Sawmong, S. (2019). How customer relationship management, perceived risk, perceived service quality, and passenger trust affect a full-service airline’s passenger satisfaction. Journal of Business and Retail Management Research (JBRMR), 13. www.jbrmr.com\n",
    "10. Namukasa, J. (2013). The influence of airline service quality on passenger satisfaction and loyalty the case of Uganda airline industry. TQM Journal, 25(5), 520–532. https://doi.org/10.1108/TQM-11-2012-0092/FULL/PDF\n",
    "11. Park, S. H., Kim, M. Y., Kim, Y. J., & Park, Y. H. (2022). A Deep Learning Approach to Analyze Airline Customer Propensities: The Case of South Korea. Applied Sciences 2022, Vol. 12, Page 1916, 12(4), 1916. https://doi.org/10.3390/APP12041916\n",
    "12. (PDF) An Analysis of the Impact of Service Quality and Passenger Satisfaction on Passenger Preference for Airlines : A Study of the Indian Aviation Sector. (n.d.). Retrieved April 5, 2022, from https://www.researchgate.net/publication/301678370_An_Analysis_of_the_Impact_of_Service_Quality_and_Passenger_Satisfaction_on_Passenger_Preference_for_Airlines_A_Study_of_the_Indian_Aviation_Sector\n",
    "13. Prentice, C., & Correia Loureiro, S. M. (2017). An asymmetrical approach to understanding configurations of customer loyalty in the airline industry. Journal of Retailing and Consumer Services, 38, 96–107. https://doi.org/10.1016/J.JRETCONSER.2017.05.005\n",
    "14. Saha, G. C., & Theingi. (2009). Service quality, satisfaction, and behavioural intentions: A study of low-cost airline carriers in Thailand. Managing Service Quality, 19(3), 350–372. https://doi.org/10.1108/09604520910955348/FULL/PDF\n",
    "15. Tsafarakis, S., Kokotas, T., & Pantouvakis, A. (2018). A multiple criteria approach for airline passenger satisfaction measurement and service quality improvement. Journal of Air Transport Management, 68, 61–75. https://doi.org/10.1016/J.JAIRTRAMAN.2017.09.010\n",
    " \n",
    "<span styel=''>"
   ]
  }
 ],
 "metadata": {
  "interpreter": {
   "hash": "cb659f68d287f80354e707379d7965895c7192ec42ea959a73a275e2a0963617"
  },
  "kernelspec": {
   "display_name": "Python 3.8.12 ('S3923076')",
   "language": "python",
   "name": "python3"
  },
  "language_info": {
   "codemirror_mode": {
    "name": "ipython",
    "version": 3
   },
   "file_extension": ".py",
   "mimetype": "text/x-python",
   "name": "python",
   "nbconvert_exporter": "python",
   "pygments_lexer": "ipython3",
   "version": "3.9.11"
  },
  "orig_nbformat": 4
 },
 "nbformat": 4,
 "nbformat_minor": 2
}
