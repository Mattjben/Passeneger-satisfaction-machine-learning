{
 "cells": [
  {
   "cell_type": "markdown",
   "metadata": {},
   "source": [
    "\n",
    "\n",
    "# **Predicting Airline Customer Satisfaction**\n",
    "## Phase 1: Data Preparation & Visualisation\n",
    "\n",
    "\n",
    "<center> Names & IDs of group members </center> \n",
    "\n",
    "Names  | IDs\n",
    "------------- | -------------\n",
    "Matthew Bentham  | S3923076\n",
    "John Murrowood  | S3923075\n",
    "Isxaq Warsame  |  S3658179\n",
    "\n",
    "\n",
    "\n",
    "__________\n",
    "\n",
    "### Table of contents:\n",
    "- [Introduction](#intro)\n",
    "   - [Data source](#ds)\n",
    "   - [Dataset detail](#dd)\n",
    "   - [Dataset features](#df)\n",
    "   - [Target Feature](#tf)\n",
    "- [Goals & Objectives](#gao) \n",
    "- [Data Cleaning & Preprocessing](#dprep)\n",
    "- [Data Exploration & Visualisation](#dvis)\n",
    "- [Literature Review](#lr)\n",
    "- [Summary & Conclusions](#sum)\n",
    "- [References](#ref)\n",
    "\n",
    "\n",
    "### INTRODUCTION <a name=\"intro\"></a>\n",
    "\n",
    "#### **Data source:** <a name=\"ds\"></a>\n",
    "\n",
    "The US airline passenger satisfaction survey dataset was sourced from kaggle, uploaded by John D 2018. This dataset contains survey results for whether a customer was satisfied with the flight or not as well as passenger and flight information. The dataset also contains information on what parts of the flight service they were satisfied with or not satisifed with.\n",
    "\n",
    "URL: [US Airline Passenger Satisfaction](https://www.kaggle.com/datasets/johndddddd/customer-satisfaction)\n",
    "\n",
    "#### **Dataset details:** <a name=\"dd\"></a>\n",
    "\n",
    "This dataset contains information on whether customers were satisfied or not during there domestic flight within the USA. There is personal details of each traveller including age, gender, type of travel (personal or buisness), as well as information on the flight including in-flight duration, gate departure and if the flight was delayed. There is also a rating for which cutomers enjoyed certain aspects of the flight such as inflight wifi, cleanliness, leg room and other things. These features will then be used for a classification problem to predict the target feature of whether a customer will be satisfied or not.\n",
    "\n",
    "The dataset has 24 features, split into descriptive features and survey response features, including the target feature and 129,880 observations before any pre processing is preformed on the dataset.\n",
    "\n",
    "##### **Dataset Retieval**\n",
    "- The data was downloaded from kaggle as a xlsx file. Link: [US Airline Passenger Satisfaction](https://www.kaggle.com/datasets/johndddddd/customer-satisfaction) \n",
    "- As the data file is in the same github directory as this report 'satisfaction.xlsx' can be read directly \n",
    "- The first 10 rows are displayed "
   ]
  },
  {
   "cell_type": "code",
   "execution_count": 2,
   "metadata": {},
   "outputs": [
    {
     "data": {
      "text/html": [
       "<div>\n",
       "<style scoped>\n",
       "    .dataframe tbody tr th:only-of-type {\n",
       "        vertical-align: middle;\n",
       "    }\n",
       "\n",
       "    .dataframe tbody tr th {\n",
       "        vertical-align: top;\n",
       "    }\n",
       "\n",
       "    .dataframe thead th {\n",
       "        text-align: right;\n",
       "    }\n",
       "</style>\n",
       "<table border=\"1\" class=\"dataframe\">\n",
       "  <thead>\n",
       "    <tr style=\"text-align: right;\">\n",
       "      <th></th>\n",
       "      <th>id</th>\n",
       "      <th>satisfaction_v2</th>\n",
       "      <th>Gender</th>\n",
       "      <th>Customer Type</th>\n",
       "      <th>Age</th>\n",
       "      <th>Type of Travel</th>\n",
       "      <th>Class</th>\n",
       "      <th>Flight Distance</th>\n",
       "      <th>Seat comfort</th>\n",
       "      <th>Departure/Arrival time convenient</th>\n",
       "      <th>...</th>\n",
       "      <th>Online support</th>\n",
       "      <th>Ease of Online booking</th>\n",
       "      <th>On-board service</th>\n",
       "      <th>Leg room service</th>\n",
       "      <th>Baggage handling</th>\n",
       "      <th>Checkin service</th>\n",
       "      <th>Cleanliness</th>\n",
       "      <th>Online boarding</th>\n",
       "      <th>Departure Delay in Minutes</th>\n",
       "      <th>Arrival Delay in Minutes</th>\n",
       "    </tr>\n",
       "  </thead>\n",
       "  <tbody>\n",
       "    <tr>\n",
       "      <th>0</th>\n",
       "      <td>11112</td>\n",
       "      <td>satisfied</td>\n",
       "      <td>Female</td>\n",
       "      <td>Loyal Customer</td>\n",
       "      <td>65</td>\n",
       "      <td>Personal Travel</td>\n",
       "      <td>Eco</td>\n",
       "      <td>265</td>\n",
       "      <td>0</td>\n",
       "      <td>0</td>\n",
       "      <td>...</td>\n",
       "      <td>2</td>\n",
       "      <td>3</td>\n",
       "      <td>3</td>\n",
       "      <td>0</td>\n",
       "      <td>3</td>\n",
       "      <td>5</td>\n",
       "      <td>3</td>\n",
       "      <td>2</td>\n",
       "      <td>0</td>\n",
       "      <td>0.0</td>\n",
       "    </tr>\n",
       "    <tr>\n",
       "      <th>1</th>\n",
       "      <td>110278</td>\n",
       "      <td>satisfied</td>\n",
       "      <td>Male</td>\n",
       "      <td>Loyal Customer</td>\n",
       "      <td>47</td>\n",
       "      <td>Personal Travel</td>\n",
       "      <td>Business</td>\n",
       "      <td>2464</td>\n",
       "      <td>0</td>\n",
       "      <td>0</td>\n",
       "      <td>...</td>\n",
       "      <td>2</td>\n",
       "      <td>3</td>\n",
       "      <td>4</td>\n",
       "      <td>4</td>\n",
       "      <td>4</td>\n",
       "      <td>2</td>\n",
       "      <td>3</td>\n",
       "      <td>2</td>\n",
       "      <td>310</td>\n",
       "      <td>305.0</td>\n",
       "    </tr>\n",
       "    <tr>\n",
       "      <th>2</th>\n",
       "      <td>103199</td>\n",
       "      <td>satisfied</td>\n",
       "      <td>Female</td>\n",
       "      <td>Loyal Customer</td>\n",
       "      <td>15</td>\n",
       "      <td>Personal Travel</td>\n",
       "      <td>Eco</td>\n",
       "      <td>2138</td>\n",
       "      <td>0</td>\n",
       "      <td>0</td>\n",
       "      <td>...</td>\n",
       "      <td>2</td>\n",
       "      <td>2</td>\n",
       "      <td>3</td>\n",
       "      <td>3</td>\n",
       "      <td>4</td>\n",
       "      <td>4</td>\n",
       "      <td>4</td>\n",
       "      <td>2</td>\n",
       "      <td>0</td>\n",
       "      <td>0.0</td>\n",
       "    </tr>\n",
       "    <tr>\n",
       "      <th>3</th>\n",
       "      <td>47462</td>\n",
       "      <td>satisfied</td>\n",
       "      <td>Female</td>\n",
       "      <td>Loyal Customer</td>\n",
       "      <td>60</td>\n",
       "      <td>Personal Travel</td>\n",
       "      <td>Eco</td>\n",
       "      <td>623</td>\n",
       "      <td>0</td>\n",
       "      <td>0</td>\n",
       "      <td>...</td>\n",
       "      <td>3</td>\n",
       "      <td>1</td>\n",
       "      <td>1</td>\n",
       "      <td>0</td>\n",
       "      <td>1</td>\n",
       "      <td>4</td>\n",
       "      <td>1</td>\n",
       "      <td>3</td>\n",
       "      <td>0</td>\n",
       "      <td>0.0</td>\n",
       "    </tr>\n",
       "    <tr>\n",
       "      <th>4</th>\n",
       "      <td>120011</td>\n",
       "      <td>satisfied</td>\n",
       "      <td>Female</td>\n",
       "      <td>Loyal Customer</td>\n",
       "      <td>70</td>\n",
       "      <td>Personal Travel</td>\n",
       "      <td>Eco</td>\n",
       "      <td>354</td>\n",
       "      <td>0</td>\n",
       "      <td>0</td>\n",
       "      <td>...</td>\n",
       "      <td>4</td>\n",
       "      <td>2</td>\n",
       "      <td>2</td>\n",
       "      <td>0</td>\n",
       "      <td>2</td>\n",
       "      <td>4</td>\n",
       "      <td>2</td>\n",
       "      <td>5</td>\n",
       "      <td>0</td>\n",
       "      <td>0.0</td>\n",
       "    </tr>\n",
       "    <tr>\n",
       "      <th>5</th>\n",
       "      <td>100744</td>\n",
       "      <td>satisfied</td>\n",
       "      <td>Male</td>\n",
       "      <td>Loyal Customer</td>\n",
       "      <td>30</td>\n",
       "      <td>Personal Travel</td>\n",
       "      <td>Eco</td>\n",
       "      <td>1894</td>\n",
       "      <td>0</td>\n",
       "      <td>0</td>\n",
       "      <td>...</td>\n",
       "      <td>2</td>\n",
       "      <td>2</td>\n",
       "      <td>5</td>\n",
       "      <td>4</td>\n",
       "      <td>5</td>\n",
       "      <td>5</td>\n",
       "      <td>4</td>\n",
       "      <td>2</td>\n",
       "      <td>0</td>\n",
       "      <td>0.0</td>\n",
       "    </tr>\n",
       "    <tr>\n",
       "      <th>6</th>\n",
       "      <td>32838</td>\n",
       "      <td>satisfied</td>\n",
       "      <td>Female</td>\n",
       "      <td>Loyal Customer</td>\n",
       "      <td>66</td>\n",
       "      <td>Personal Travel</td>\n",
       "      <td>Eco</td>\n",
       "      <td>227</td>\n",
       "      <td>0</td>\n",
       "      <td>0</td>\n",
       "      <td>...</td>\n",
       "      <td>5</td>\n",
       "      <td>5</td>\n",
       "      <td>5</td>\n",
       "      <td>0</td>\n",
       "      <td>5</td>\n",
       "      <td>5</td>\n",
       "      <td>5</td>\n",
       "      <td>3</td>\n",
       "      <td>17</td>\n",
       "      <td>15.0</td>\n",
       "    </tr>\n",
       "    <tr>\n",
       "      <th>7</th>\n",
       "      <td>32864</td>\n",
       "      <td>satisfied</td>\n",
       "      <td>Male</td>\n",
       "      <td>Loyal Customer</td>\n",
       "      <td>10</td>\n",
       "      <td>Personal Travel</td>\n",
       "      <td>Eco</td>\n",
       "      <td>1812</td>\n",
       "      <td>0</td>\n",
       "      <td>0</td>\n",
       "      <td>...</td>\n",
       "      <td>2</td>\n",
       "      <td>2</td>\n",
       "      <td>3</td>\n",
       "      <td>3</td>\n",
       "      <td>4</td>\n",
       "      <td>5</td>\n",
       "      <td>4</td>\n",
       "      <td>2</td>\n",
       "      <td>0</td>\n",
       "      <td>0.0</td>\n",
       "    </tr>\n",
       "    <tr>\n",
       "      <th>8</th>\n",
       "      <td>53786</td>\n",
       "      <td>satisfied</td>\n",
       "      <td>Female</td>\n",
       "      <td>Loyal Customer</td>\n",
       "      <td>56</td>\n",
       "      <td>Personal Travel</td>\n",
       "      <td>Business</td>\n",
       "      <td>73</td>\n",
       "      <td>0</td>\n",
       "      <td>0</td>\n",
       "      <td>...</td>\n",
       "      <td>5</td>\n",
       "      <td>4</td>\n",
       "      <td>4</td>\n",
       "      <td>0</td>\n",
       "      <td>1</td>\n",
       "      <td>5</td>\n",
       "      <td>4</td>\n",
       "      <td>4</td>\n",
       "      <td>0</td>\n",
       "      <td>0.0</td>\n",
       "    </tr>\n",
       "    <tr>\n",
       "      <th>9</th>\n",
       "      <td>7243</td>\n",
       "      <td>satisfied</td>\n",
       "      <td>Male</td>\n",
       "      <td>Loyal Customer</td>\n",
       "      <td>22</td>\n",
       "      <td>Personal Travel</td>\n",
       "      <td>Eco</td>\n",
       "      <td>1556</td>\n",
       "      <td>0</td>\n",
       "      <td>0</td>\n",
       "      <td>...</td>\n",
       "      <td>2</td>\n",
       "      <td>2</td>\n",
       "      <td>2</td>\n",
       "      <td>4</td>\n",
       "      <td>5</td>\n",
       "      <td>3</td>\n",
       "      <td>4</td>\n",
       "      <td>2</td>\n",
       "      <td>30</td>\n",
       "      <td>26.0</td>\n",
       "    </tr>\n",
       "  </tbody>\n",
       "</table>\n",
       "<p>10 rows × 24 columns</p>\n",
       "</div>"
      ],
      "text/plain": [
       "       id satisfaction_v2  Gender   Customer Type  Age   Type of Travel  \\\n",
       "0   11112       satisfied  Female  Loyal Customer   65  Personal Travel   \n",
       "1  110278       satisfied    Male  Loyal Customer   47  Personal Travel   \n",
       "2  103199       satisfied  Female  Loyal Customer   15  Personal Travel   \n",
       "3   47462       satisfied  Female  Loyal Customer   60  Personal Travel   \n",
       "4  120011       satisfied  Female  Loyal Customer   70  Personal Travel   \n",
       "5  100744       satisfied    Male  Loyal Customer   30  Personal Travel   \n",
       "6   32838       satisfied  Female  Loyal Customer   66  Personal Travel   \n",
       "7   32864       satisfied    Male  Loyal Customer   10  Personal Travel   \n",
       "8   53786       satisfied  Female  Loyal Customer   56  Personal Travel   \n",
       "9    7243       satisfied    Male  Loyal Customer   22  Personal Travel   \n",
       "\n",
       "      Class  Flight Distance  Seat comfort  Departure/Arrival time convenient  \\\n",
       "0       Eco              265             0                                  0   \n",
       "1  Business             2464             0                                  0   \n",
       "2       Eco             2138             0                                  0   \n",
       "3       Eco              623             0                                  0   \n",
       "4       Eco              354             0                                  0   \n",
       "5       Eco             1894             0                                  0   \n",
       "6       Eco              227             0                                  0   \n",
       "7       Eco             1812             0                                  0   \n",
       "8  Business               73             0                                  0   \n",
       "9       Eco             1556             0                                  0   \n",
       "\n",
       "   ...  Online support  Ease of Online booking  On-board service  \\\n",
       "0  ...               2                       3                 3   \n",
       "1  ...               2                       3                 4   \n",
       "2  ...               2                       2                 3   \n",
       "3  ...               3                       1                 1   \n",
       "4  ...               4                       2                 2   \n",
       "5  ...               2                       2                 5   \n",
       "6  ...               5                       5                 5   \n",
       "7  ...               2                       2                 3   \n",
       "8  ...               5                       4                 4   \n",
       "9  ...               2                       2                 2   \n",
       "\n",
       "   Leg room service  Baggage handling  Checkin service  Cleanliness  \\\n",
       "0                 0                 3                5            3   \n",
       "1                 4                 4                2            3   \n",
       "2                 3                 4                4            4   \n",
       "3                 0                 1                4            1   \n",
       "4                 0                 2                4            2   \n",
       "5                 4                 5                5            4   \n",
       "6                 0                 5                5            5   \n",
       "7                 3                 4                5            4   \n",
       "8                 0                 1                5            4   \n",
       "9                 4                 5                3            4   \n",
       "\n",
       "   Online boarding  Departure Delay in Minutes  Arrival Delay in Minutes  \n",
       "0                2                           0                       0.0  \n",
       "1                2                         310                     305.0  \n",
       "2                2                           0                       0.0  \n",
       "3                3                           0                       0.0  \n",
       "4                5                           0                       0.0  \n",
       "5                2                           0                       0.0  \n",
       "6                3                          17                      15.0  \n",
       "7                2                           0                       0.0  \n",
       "8                4                           0                       0.0  \n",
       "9                2                          30                      26.0  \n",
       "\n",
       "[10 rows x 24 columns]"
      ]
     },
     "execution_count": 2,
     "metadata": {},
     "output_type": "execute_result"
    }
   ],
   "source": [
    "# Reading in required packages, and setting up warnings filter\n",
    "import warnings\n",
    "warnings.filterwarnings(\"ignore\")\n",
    "import numpy as np\n",
    "import pandas as pd\n",
    "import sklearn\n",
    "import seaborn as sns\n",
    "import matplotlib.pyplot as plt\n",
    "from tabulate import tabulate\n",
    "\n",
    "\n",
    "\n",
    "df_name  = 'satisfaction.xlsx'\n",
    "df = pd.read_excel(df_name)\n",
    "df.head(10)"
   ]
  },
  {
   "cell_type": "markdown",
   "metadata": {},
   "source": []
  },
  {
   "cell_type": "markdown",
   "metadata": {},
   "source": [
    "\n",
    "\n",
    "#### **Dataset features:** <a name=\"df\"></a>\n",
    "\n"
   ]
  },
  {
   "cell_type": "markdown",
   "metadata": {},
   "source": [
    "The 24 input Descriptive features: \n",
    "- **Age**:  The actual age of the passengers \n",
    "- **ID**:   Passenger id unique ID number\n",
    "- **Gender**:   Gender of the passengers (Female, Male)\n",
    "- **Type of Travel**:   Purpose of the flight of the passengers (Personal Travel, Business Travel)\n",
    "- **Class**: Travel class in the plane of the passengers (Business, Eco, Eco Plus)\n",
    "- **Customer Type**: The customer type (Loyal customer, disloyal customer)\n",
    "- **Flight distance**: The flight distance of this journey \n",
    "- **Flight cancelled**: Whether the Flight cancelled or not (Yes, No)\n",
    "- **Departure Delay in Minutes (m)**: Minutes delayed when departure \n",
    "- **Arrival Delay in Minutes (m)**: Minutes delayed when Arrival, Int \n",
    "\n",
    "**Survery response features:** Satisfaction level , Int , On a scale of [0,5]\n",
    "- Ordinal in nature, the meaning of the numbers is listed below and below that are the response features themselves.\n",
    "- **0** being **Not Applicable**,\n",
    "- **1** being **Very Dissatisfied**,\n",
    "- **2** being **Dissatisfied**,\n",
    "- **3** being **Neutral**,\n",
    "- **4** being **Satisfied**,\n",
    "- **5** being **Very Satisfied**\n",
    "- **The Survey Response Features are listed below:**\n",
    "  -  Inflight wifi service (0:Not Applicable;1-5)\n",
    "  -  Inflight service\n",
    "  -  Online boarding\n",
    "  -  Ease of Online booking\n",
    "  -  Inflight entertainment\n",
    "  -  Food and drink\n",
    "  -  Seat comfort\n",
    "  -  On-board service\n",
    "  -  Leg room service\n",
    "  -  Departure/Arrival time\n",
    "  -  Baggage handling\n",
    "  -  Gate location\n",
    "  -  Cleanliness\n",
    "  -  Check-in service\n"
   ]
  },
  {
   "cell_type": "code",
   "execution_count": 3,
   "metadata": {},
   "outputs": [
    {
     "name": "stdout",
     "output_type": "stream",
     "text": [
      "╒══════════════════╤═════════════════════╤═════════════════════════════════════╤═══════════════════════════════════════════════════════════════════════════════╕\n",
      "│ Name             │ Data Type           │ Units                               │ Description                                                                   │\n",
      "╞══════════════════╪═════════════════════╪═════════════════════════════════════╪═══════════════════════════════════════════════════════════════════════════════╡\n",
      "│ Age              │ Numeric             │ Integer                             │ The actual age of the passengers                                              │\n",
      "├──────────────────┼─────────────────────┼─────────────────────────────────────┼───────────────────────────────────────────────────────────────────────────────┤\n",
      "│ ID               │ Nominal             │ Integer                             │ Passenger identifier, unique ID number                                        │\n",
      "├──────────────────┼─────────────────────┼─────────────────────────────────────┼───────────────────────────────────────────────────────────────────────────────┤\n",
      "│ Gender           │ Binary              │ Male or Female                      │ Gender of the passengers (Female, Male)                                       │\n",
      "├──────────────────┼─────────────────────┼─────────────────────────────────────┼───────────────────────────────────────────────────────────────────────────────┤\n",
      "│ Type of Travel   │ Nominal Categorical │ Personal or Business                │ Purpose of the flight of the passengers (Personal Travel, Business Travel)    │\n",
      "├──────────────────┼─────────────────────┼─────────────────────────────────────┼───────────────────────────────────────────────────────────────────────────────┤\n",
      "│ Class            │ Nominal Categorical │ Business, Eco or Eco Plus           │ Travel class in the plane of the passengers (Business, Eco, Eco Plus)         │\n",
      "├──────────────────┼─────────────────────┼─────────────────────────────────────┼───────────────────────────────────────────────────────────────────────────────┤\n",
      "│ Customer Type    │ Nominal Categorical │ Loyal Customer or Disloyal Customer │ The type of customer and how loyal they are to the airline                    │\n",
      "├──────────────────┼─────────────────────┼─────────────────────────────────────┼───────────────────────────────────────────────────────────────────────────────┤\n",
      "│ Flight Distance  │ Numeric             │ Integer, Km                         │ The flight distance of the journey in Kilometers (km)                         │\n",
      "├──────────────────┼─────────────────────┼─────────────────────────────────────┼───────────────────────────────────────────────────────────────────────────────┤\n",
      "│ Flight Cancelled │ Nominal Categorical │ Boolean, Yes or No                  │ Whether the Flight was cancelled or not (yes or no)                           │\n",
      "├──────────────────┼─────────────────────┼─────────────────────────────────────┼───────────────────────────────────────────────────────────────────────────────┤\n",
      "│ Departure Delay  │ Numeric             │ Integer, Minutes                    │ Minutes delayed at departure, e.g, Delay in minutes before aircraft takes-off │\n",
      "├──────────────────┼─────────────────────┼─────────────────────────────────────┼───────────────────────────────────────────────────────────────────────────────┤\n",
      "│ Arrival Delay    │ Numeric             │ Integer, Minutes                    │ Minutes Delayed at arrival, e.g, Delay in minutes before aircraft lands       │\n",
      "╘══════════════════╧═════════════════════╧═════════════════════════════════════╧═══════════════════════════════════════════════════════════════════════════════╛\n"
     ]
    }
   ],
   "source": [
    "# Creating table of features\n",
    "table = [['Name','Data Type','Units','Description'],\n",
    "         ['Age', 'Numeric', 'Integer','The actual age of the passengers'],\n",
    "         ['ID', 'Nominal', 'Integer', 'Passenger identifier, unique ID number'],\n",
    "         ['Gender', 'Binary', 'Male or Female', 'Gender of the passengers (Female, Male)'],\n",
    "         ['Type of Travel', 'Nominal Categorical', 'Personal or Business', 'Purpose of the flight of the passengers (Personal Travel, Business Travel)'],\n",
    "         ['Class', 'Nominal Categorical', 'Business, Eco or Eco Plus', 'Travel class in the plane of the passengers (Business, Eco, Eco Plus)' ],\n",
    "         ['Customer Type', 'Nominal Categorical', 'Loyal Customer or Disloyal Customer', 'The type of customer and how loyal they are to the airline'],\n",
    "         ['Flight Distance','Numeric', 'Integer, Km', 'The flight distance of the journey in Kilometers (km)' ],\n",
    "         ['Flight Cancelled', 'Nominal Categorical', 'Boolean, Yes or No', ' Whether the Flight was cancelled or not (yes or no)'  ],\n",
    "         ['Departure Delay', 'Numeric', 'Integer, Minutes', 'Minutes delayed at departure, e.g, Delay in minutes before aircraft takes-off ' ],\n",
    "         ['Arrival Delay', 'Numeric', 'Integer, Minutes', 'Minutes Delayed at arrival, e.g, Delay in minutes before aircraft lands']\n",
    "         ]\n",
    "\n",
    "print(tabulate(table, headers='firstrow', tablefmt='fancy_grid'))"
   ]
  },
  {
   "cell_type": "markdown",
   "metadata": {},
   "source": [
    "\n",
    "\n",
    "#### **Target Feature:** <a name=\"tf\"></a>\n",
    "\n",
    "- 'satisfied' : The airline customer was satisfied with their cumulative experience.\n",
    "- 'neutral or dissastisfied: The airline customer was NOT satisfied with their cumulative experience.\n",
    "\n",
    "\n",
    "The target feature for this project is the satisfaction level of the airline customers , meaning the supervised learning task contain a binary target that defines whether or not an airline customer is satsified (Satisfied , neutral/dissatisfied) based off the descriptive variables.\n"
   ]
  },
  {
   "cell_type": "markdown",
   "metadata": {},
   "source": [
    "\n",
    "\n",
    "### Goals & Objectives: <a name=\"gao\"></a>\n",
    "\n",
    "The airline industry is extremely competetive with lots of various running costs and often very fine profit margins. Therefore, these airline surveys are important as they can be used to generate models that are able to predict what the most important features of an airlines service are. Once the significant features are determined they can be used to ascertain what is important to passenger. This allows an airline to priotise spending into specific sectors of thier buisness and ensures they are able to offer the best service that is tailored the largest number of people and which parts of ther service offering they can cut down costs on while ensuring minimal impact on customer satisfaction.\n",
    "\n",
    "*The Main objectives of this project are as follows:*\n",
    "1. Identify the features that act as the best predictors for customer satisfaction in airlines. \n",
    "2. Subsequently, identify which features can be cut down on to increase profit margins.\n",
    "3. Predict whether a customer is satisfied with thier airline experience based on basic customer features and survey response awnsers.\n"
   ]
  },
  {
   "cell_type": "markdown",
   "metadata": {},
   "source": [
    "\n",
    "\n",
    "### Data Cleaning & Preprocessing: <a name=\"dprep\"></a>\n",
    "\n",
    "\n",
    "##### Data Cleaning Steps: <a name = \"prepsteps\"></a>\n",
    "- Check datatypes and data quality issues \n",
    "- Check for outliers and missing values \n",
    "- Remove redundant features\n",
    "- Rename columns\n",
    "- Randomly sample data "
   ]
  },
  {
   "cell_type": "code",
   "execution_count": 4,
   "metadata": {},
   "outputs": [
    {
     "data": {
      "text/plain": [
       "Index(['id', 'satisfaction_v2', 'Gender', 'Customer Type', 'Age',\n",
       "       'Type of Travel', 'Class', 'Flight Distance', 'Seat comfort',\n",
       "       'Departure/Arrival time convenient', 'Food and drink', 'Gate location',\n",
       "       'Inflight wifi service', 'Inflight entertainment', 'Online support',\n",
       "       'Ease of Online booking', 'On-board service', 'Leg room service',\n",
       "       'Baggage handling', 'Checkin service', 'Cleanliness', 'Online boarding',\n",
       "       'Departure Delay in Minutes', 'Arrival Delay in Minutes'],\n",
       "      dtype='object')"
      ]
     },
     "execution_count": 4,
     "metadata": {},
     "output_type": "execute_result"
    }
   ],
   "source": [
    "# CHECK COLUMN NAMES\n",
    "df.columns\n"
   ]
  },
  {
   "cell_type": "markdown",
   "metadata": {},
   "source": [
    "The column containing the target feature (satissfaction) is named irregularly , additionally the id column is a redunant fetaure as it is purely used to uniquely identify passenegers and therefore has no use in a machine learning dataset."
   ]
  },
  {
   "cell_type": "code",
   "execution_count": 5,
   "metadata": {},
   "outputs": [],
   "source": [
    "# reorder columns so target feature is at the end \n",
    "df=df.rename(columns={'satisfaction_v2':'Satisfaction'})\n",
    "new_cols = ['id', 'Gender', 'Customer Type', 'Age',\n",
    "            'Type of Travel', 'Class', 'Flight Distance', 'Seat comfort',\n",
    "            'Departure/Arrival time convenient', 'Food and drink', 'Gate location',\n",
    "            'Inflight wifi service', 'Inflight entertainment', 'Online support',\n",
    "            'Ease of Online booking', 'On-board service', 'Leg room service',\n",
    "            'Baggage handling', 'Checkin service', 'Cleanliness', 'Online boarding',\n",
    "            'Departure Delay in Minutes', 'Arrival Delay in Minutes','Satisfaction']\n",
    "#rename columns + remove redunant column\n",
    "df=df.reindex(columns=new_cols)\n",
    "\n",
    "airplane_df = df.drop(columns=[\"id\"])"
   ]
  },
  {
   "cell_type": "markdown",
   "metadata": {},
   "source": [
    "Check data types:"
   ]
  },
  {
   "cell_type": "code",
   "execution_count": 6,
   "metadata": {},
   "outputs": [
    {
     "name": "stdout",
     "output_type": "stream",
     "text": [
      "Gender                                object\n",
      "Customer Type                         object\n",
      "Age                                    int64\n",
      "Type of Travel                        object\n",
      "Class                                 object\n",
      "Flight Distance                        int64\n",
      "Seat comfort                           int64\n",
      "Departure/Arrival time convenient      int64\n",
      "Food and drink                         int64\n",
      "Gate location                          int64\n",
      "Inflight wifi service                  int64\n",
      "Inflight entertainment                 int64\n",
      "Online support                         int64\n",
      "Ease of Online booking                 int64\n",
      "On-board service                       int64\n",
      "Leg room service                       int64\n",
      "Baggage handling                       int64\n",
      "Checkin service                        int64\n",
      "Cleanliness                            int64\n",
      "Online boarding                        int64\n",
      "Departure Delay in Minutes             int64\n",
      "Arrival Delay in Minutes             float64\n",
      "Satisfaction                          object\n",
      "dtype: object\n"
     ]
    }
   ],
   "source": [
    "print(airplane_df.dtypes)"
   ]
  },
  {
   "cell_type": "markdown",
   "metadata": {},
   "source": [
    "As the departure delay in minutes is a continuous variable, the corresponding datatype should be float. Otherwise all remaining features have the correct corresponding datatype."
   ]
  },
  {
   "cell_type": "code",
   "execution_count": 7,
   "metadata": {},
   "outputs": [
    {
     "name": "stdout",
     "output_type": "stream",
     "text": [
      "Gender                                object\n",
      "Customer Type                         object\n",
      "Age                                    int64\n",
      "Type of Travel                        object\n",
      "Class                                 object\n",
      "Flight Distance                        int64\n",
      "Seat comfort                           int64\n",
      "Departure/Arrival time convenient      int64\n",
      "Food and drink                         int64\n",
      "Gate location                          int64\n",
      "Inflight wifi service                  int64\n",
      "Inflight entertainment                 int64\n",
      "Online support                         int64\n",
      "Ease of Online booking                 int64\n",
      "On-board service                       int64\n",
      "Leg room service                       int64\n",
      "Baggage handling                       int64\n",
      "Checkin service                        int64\n",
      "Cleanliness                            int64\n",
      "Online boarding                        int64\n",
      "Departure Delay in Minutes           float64\n",
      "Arrival Delay in Minutes             float64\n",
      "Satisfaction                          object\n",
      "dtype: object\n"
     ]
    }
   ],
   "source": [
    "# Changing data type of 'Depature Delay in Minutes from int to float\n",
    "airplane_df['Departure Delay in Minutes'] = airplane_df['Departure Delay in Minutes'].astype(float)\n",
    "print(airplane_df.dtypes)"
   ]
  },
  {
   "cell_type": "markdown",
   "metadata": {},
   "source": [
    "To avoid future discrepancies , the unique values for each categorical feature is displayed to check for whitespaces , case errors ect. "
   ]
  },
  {
   "cell_type": "code",
   "execution_count": 8,
   "metadata": {},
   "outputs": [
    {
     "name": "stdout",
     "output_type": "stream",
     "text": [
      "Variable        |        Unique values\n",
      "----------------------------------------\n",
      "Gender          | ['Female' 'Male']\n",
      "Customer Type   | ['Loyal Customer' 'disloyal Customer']\n",
      "Type of Travel  | ['Personal Travel' 'Business travel']\n",
      "Class           | ['Eco' 'Business' 'Eco Plus']\n",
      "Satisfaction    | ['satisfied' 'neutral or dissatisfied']\n"
     ]
    }
   ],
   "source": [
    "\n",
    "Objectdata = airplane_df.columns[airplane_df.dtypes==object].tolist()\n",
    "print('Variable','|'.center(15), 'Unique values')\n",
    "print('----------------------------------------')\n",
    "for x in Objectdata:\n",
    "    print(x,'|'.rjust(16-len(x)),airplane_df[x].unique())\n",
    "    \n",
    "    "
   ]
  },
  {
   "cell_type": "markdown",
   "metadata": {},
   "source": [
    "As seen above no discrepancies were found in the categorical data features.\n",
    "\n",
    "missing values are displayed: as 393 rows only account for 0.3% of the data it can be removed without causing any substantial impact to the overall dataset "
   ]
  },
  {
   "cell_type": "code",
   "execution_count": 9,
   "metadata": {},
   "outputs": [
    {
     "name": "stdout",
     "output_type": "stream",
     "text": [
      "\n",
      "Number of missing values for each column/ feature:\n",
      "Gender                               0\n",
      "Customer Type                        0\n",
      "Age                                  0\n",
      "Type of Travel                       0\n",
      "Class                                0\n",
      "Flight Distance                      0\n",
      "Seat comfort                         0\n",
      "Departure/Arrival time convenient    0\n",
      "Food and drink                       0\n",
      "Gate location                        0\n",
      "Inflight wifi service                0\n",
      "Inflight entertainment               0\n",
      "Online support                       0\n",
      "Ease of Online booking               0\n",
      "On-board service                     0\n",
      "Leg room service                     0\n",
      "Baggage handling                     0\n",
      "Checkin service                      0\n",
      "Cleanliness                          0\n",
      "Online boarding                      0\n",
      "Departure Delay in Minutes           0\n",
      "Arrival Delay in Minutes             0\n",
      "Satisfaction                         0\n",
      "dtype: int64\n"
     ]
    }
   ],
   "source": [
    "# Count missing values in each column\n",
    "print(f\"\\nNumber of missing values for each column/ feature:\")\n",
    "airplane_df = airplane_df.dropna()  # Dropping Missing Values\n",
    "print(airplane_df.isnull().sum())   # Verifying they have been removed\n"
   ]
  },
  {
   "cell_type": "markdown",
   "metadata": {},
   "source": [
    "In order to check for outliers in the numeric data , the summary statistics for each is displayed"
   ]
  },
  {
   "cell_type": "code",
   "execution_count": 10,
   "metadata": {},
   "outputs": [
    {
     "data": {
      "text/html": [
       "<div>\n",
       "<style scoped>\n",
       "    .dataframe tbody tr th:only-of-type {\n",
       "        vertical-align: middle;\n",
       "    }\n",
       "\n",
       "    .dataframe tbody tr th {\n",
       "        vertical-align: top;\n",
       "    }\n",
       "\n",
       "    .dataframe thead th {\n",
       "        text-align: right;\n",
       "    }\n",
       "</style>\n",
       "<table border=\"1\" class=\"dataframe\">\n",
       "  <thead>\n",
       "    <tr style=\"text-align: right;\">\n",
       "      <th></th>\n",
       "      <th>count</th>\n",
       "      <th>mean</th>\n",
       "      <th>std</th>\n",
       "      <th>min</th>\n",
       "      <th>25%</th>\n",
       "      <th>50%</th>\n",
       "      <th>75%</th>\n",
       "      <th>90%</th>\n",
       "      <th>95%</th>\n",
       "      <th>99%</th>\n",
       "      <th>max</th>\n",
       "    </tr>\n",
       "  </thead>\n",
       "  <tbody>\n",
       "    <tr>\n",
       "      <th>Age</th>\n",
       "      <td>129487.0</td>\n",
       "      <td>39.428761</td>\n",
       "      <td>15.117597</td>\n",
       "      <td>7.0</td>\n",
       "      <td>27.0</td>\n",
       "      <td>40.0</td>\n",
       "      <td>51.0</td>\n",
       "      <td>59.0</td>\n",
       "      <td>64.0</td>\n",
       "      <td>70.00</td>\n",
       "      <td>85.0</td>\n",
       "    </tr>\n",
       "    <tr>\n",
       "      <th>Flight Distance</th>\n",
       "      <td>129487.0</td>\n",
       "      <td>1981.008974</td>\n",
       "      <td>1026.884131</td>\n",
       "      <td>50.0</td>\n",
       "      <td>1359.0</td>\n",
       "      <td>1924.0</td>\n",
       "      <td>2543.0</td>\n",
       "      <td>3399.0</td>\n",
       "      <td>3830.0</td>\n",
       "      <td>4819.14</td>\n",
       "      <td>6951.0</td>\n",
       "    </tr>\n",
       "    <tr>\n",
       "      <th>Seat comfort</th>\n",
       "      <td>129487.0</td>\n",
       "      <td>2.838586</td>\n",
       "      <td>1.392873</td>\n",
       "      <td>0.0</td>\n",
       "      <td>2.0</td>\n",
       "      <td>3.0</td>\n",
       "      <td>4.0</td>\n",
       "      <td>5.0</td>\n",
       "      <td>5.0</td>\n",
       "      <td>5.00</td>\n",
       "      <td>5.0</td>\n",
       "    </tr>\n",
       "    <tr>\n",
       "      <th>Departure/Arrival time convenient</th>\n",
       "      <td>129487.0</td>\n",
       "      <td>2.990277</td>\n",
       "      <td>1.527183</td>\n",
       "      <td>0.0</td>\n",
       "      <td>2.0</td>\n",
       "      <td>3.0</td>\n",
       "      <td>4.0</td>\n",
       "      <td>5.0</td>\n",
       "      <td>5.0</td>\n",
       "      <td>5.00</td>\n",
       "      <td>5.0</td>\n",
       "    </tr>\n",
       "    <tr>\n",
       "      <th>Food and drink</th>\n",
       "      <td>129487.0</td>\n",
       "      <td>2.852024</td>\n",
       "      <td>1.443587</td>\n",
       "      <td>0.0</td>\n",
       "      <td>2.0</td>\n",
       "      <td>3.0</td>\n",
       "      <td>4.0</td>\n",
       "      <td>5.0</td>\n",
       "      <td>5.0</td>\n",
       "      <td>5.00</td>\n",
       "      <td>5.0</td>\n",
       "    </tr>\n",
       "    <tr>\n",
       "      <th>Gate location</th>\n",
       "      <td>129487.0</td>\n",
       "      <td>2.990377</td>\n",
       "      <td>1.305917</td>\n",
       "      <td>0.0</td>\n",
       "      <td>2.0</td>\n",
       "      <td>3.0</td>\n",
       "      <td>4.0</td>\n",
       "      <td>5.0</td>\n",
       "      <td>5.0</td>\n",
       "      <td>5.00</td>\n",
       "      <td>5.0</td>\n",
       "    </tr>\n",
       "    <tr>\n",
       "      <th>Inflight wifi service</th>\n",
       "      <td>129487.0</td>\n",
       "      <td>3.249160</td>\n",
       "      <td>1.318765</td>\n",
       "      <td>0.0</td>\n",
       "      <td>2.0</td>\n",
       "      <td>3.0</td>\n",
       "      <td>4.0</td>\n",
       "      <td>5.0</td>\n",
       "      <td>5.0</td>\n",
       "      <td>5.00</td>\n",
       "      <td>5.0</td>\n",
       "    </tr>\n",
       "    <tr>\n",
       "      <th>Inflight entertainment</th>\n",
       "      <td>129487.0</td>\n",
       "      <td>3.383745</td>\n",
       "      <td>1.345959</td>\n",
       "      <td>0.0</td>\n",
       "      <td>2.0</td>\n",
       "      <td>4.0</td>\n",
       "      <td>4.0</td>\n",
       "      <td>5.0</td>\n",
       "      <td>5.0</td>\n",
       "      <td>5.00</td>\n",
       "      <td>5.0</td>\n",
       "    </tr>\n",
       "    <tr>\n",
       "      <th>Online support</th>\n",
       "      <td>129487.0</td>\n",
       "      <td>3.519967</td>\n",
       "      <td>1.306326</td>\n",
       "      <td>0.0</td>\n",
       "      <td>3.0</td>\n",
       "      <td>4.0</td>\n",
       "      <td>5.0</td>\n",
       "      <td>5.0</td>\n",
       "      <td>5.0</td>\n",
       "      <td>5.00</td>\n",
       "      <td>5.0</td>\n",
       "    </tr>\n",
       "    <tr>\n",
       "      <th>Ease of Online booking</th>\n",
       "      <td>129487.0</td>\n",
       "      <td>3.472171</td>\n",
       "      <td>1.305573</td>\n",
       "      <td>0.0</td>\n",
       "      <td>2.0</td>\n",
       "      <td>4.0</td>\n",
       "      <td>5.0</td>\n",
       "      <td>5.0</td>\n",
       "      <td>5.0</td>\n",
       "      <td>5.00</td>\n",
       "      <td>5.0</td>\n",
       "    </tr>\n",
       "    <tr>\n",
       "      <th>On-board service</th>\n",
       "      <td>129487.0</td>\n",
       "      <td>3.465143</td>\n",
       "      <td>1.270755</td>\n",
       "      <td>0.0</td>\n",
       "      <td>3.0</td>\n",
       "      <td>4.0</td>\n",
       "      <td>4.0</td>\n",
       "      <td>5.0</td>\n",
       "      <td>5.0</td>\n",
       "      <td>5.00</td>\n",
       "      <td>5.0</td>\n",
       "    </tr>\n",
       "    <tr>\n",
       "      <th>Leg room service</th>\n",
       "      <td>129487.0</td>\n",
       "      <td>3.486118</td>\n",
       "      <td>1.292079</td>\n",
       "      <td>0.0</td>\n",
       "      <td>2.0</td>\n",
       "      <td>4.0</td>\n",
       "      <td>5.0</td>\n",
       "      <td>5.0</td>\n",
       "      <td>5.0</td>\n",
       "      <td>5.00</td>\n",
       "      <td>5.0</td>\n",
       "    </tr>\n",
       "    <tr>\n",
       "      <th>Baggage handling</th>\n",
       "      <td>129487.0</td>\n",
       "      <td>3.695460</td>\n",
       "      <td>1.156487</td>\n",
       "      <td>1.0</td>\n",
       "      <td>3.0</td>\n",
       "      <td>4.0</td>\n",
       "      <td>5.0</td>\n",
       "      <td>5.0</td>\n",
       "      <td>5.0</td>\n",
       "      <td>5.00</td>\n",
       "      <td>5.0</td>\n",
       "    </tr>\n",
       "    <tr>\n",
       "      <th>Checkin service</th>\n",
       "      <td>129487.0</td>\n",
       "      <td>3.340729</td>\n",
       "      <td>1.260561</td>\n",
       "      <td>0.0</td>\n",
       "      <td>3.0</td>\n",
       "      <td>3.0</td>\n",
       "      <td>4.0</td>\n",
       "      <td>5.0</td>\n",
       "      <td>5.0</td>\n",
       "      <td>5.00</td>\n",
       "      <td>5.0</td>\n",
       "    </tr>\n",
       "    <tr>\n",
       "      <th>Cleanliness</th>\n",
       "      <td>129487.0</td>\n",
       "      <td>3.705886</td>\n",
       "      <td>1.151683</td>\n",
       "      <td>0.0</td>\n",
       "      <td>3.0</td>\n",
       "      <td>4.0</td>\n",
       "      <td>5.0</td>\n",
       "      <td>5.0</td>\n",
       "      <td>5.0</td>\n",
       "      <td>5.00</td>\n",
       "      <td>5.0</td>\n",
       "    </tr>\n",
       "    <tr>\n",
       "      <th>Online boarding</th>\n",
       "      <td>129487.0</td>\n",
       "      <td>3.352545</td>\n",
       "      <td>1.298624</td>\n",
       "      <td>0.0</td>\n",
       "      <td>2.0</td>\n",
       "      <td>4.0</td>\n",
       "      <td>4.0</td>\n",
       "      <td>5.0</td>\n",
       "      <td>5.0</td>\n",
       "      <td>5.00</td>\n",
       "      <td>5.0</td>\n",
       "    </tr>\n",
       "    <tr>\n",
       "      <th>Departure Delay in Minutes</th>\n",
       "      <td>129487.0</td>\n",
       "      <td>14.643385</td>\n",
       "      <td>37.932867</td>\n",
       "      <td>0.0</td>\n",
       "      <td>0.0</td>\n",
       "      <td>0.0</td>\n",
       "      <td>12.0</td>\n",
       "      <td>43.0</td>\n",
       "      <td>77.0</td>\n",
       "      <td>180.00</td>\n",
       "      <td>1592.0</td>\n",
       "    </tr>\n",
       "    <tr>\n",
       "      <th>Arrival Delay in Minutes</th>\n",
       "      <td>129487.0</td>\n",
       "      <td>15.091129</td>\n",
       "      <td>38.465650</td>\n",
       "      <td>0.0</td>\n",
       "      <td>0.0</td>\n",
       "      <td>0.0</td>\n",
       "      <td>13.0</td>\n",
       "      <td>44.0</td>\n",
       "      <td>78.0</td>\n",
       "      <td>182.00</td>\n",
       "      <td>1584.0</td>\n",
       "    </tr>\n",
       "  </tbody>\n",
       "</table>\n",
       "</div>"
      ],
      "text/plain": [
       "                                      count         mean          std   min  \\\n",
       "Age                                129487.0    39.428761    15.117597   7.0   \n",
       "Flight Distance                    129487.0  1981.008974  1026.884131  50.0   \n",
       "Seat comfort                       129487.0     2.838586     1.392873   0.0   \n",
       "Departure/Arrival time convenient  129487.0     2.990277     1.527183   0.0   \n",
       "Food and drink                     129487.0     2.852024     1.443587   0.0   \n",
       "Gate location                      129487.0     2.990377     1.305917   0.0   \n",
       "Inflight wifi service              129487.0     3.249160     1.318765   0.0   \n",
       "Inflight entertainment             129487.0     3.383745     1.345959   0.0   \n",
       "Online support                     129487.0     3.519967     1.306326   0.0   \n",
       "Ease of Online booking             129487.0     3.472171     1.305573   0.0   \n",
       "On-board service                   129487.0     3.465143     1.270755   0.0   \n",
       "Leg room service                   129487.0     3.486118     1.292079   0.0   \n",
       "Baggage handling                   129487.0     3.695460     1.156487   1.0   \n",
       "Checkin service                    129487.0     3.340729     1.260561   0.0   \n",
       "Cleanliness                        129487.0     3.705886     1.151683   0.0   \n",
       "Online boarding                    129487.0     3.352545     1.298624   0.0   \n",
       "Departure Delay in Minutes         129487.0    14.643385    37.932867   0.0   \n",
       "Arrival Delay in Minutes           129487.0    15.091129    38.465650   0.0   \n",
       "\n",
       "                                      25%     50%     75%     90%     95%  \\\n",
       "Age                                  27.0    40.0    51.0    59.0    64.0   \n",
       "Flight Distance                    1359.0  1924.0  2543.0  3399.0  3830.0   \n",
       "Seat comfort                          2.0     3.0     4.0     5.0     5.0   \n",
       "Departure/Arrival time convenient     2.0     3.0     4.0     5.0     5.0   \n",
       "Food and drink                        2.0     3.0     4.0     5.0     5.0   \n",
       "Gate location                         2.0     3.0     4.0     5.0     5.0   \n",
       "Inflight wifi service                 2.0     3.0     4.0     5.0     5.0   \n",
       "Inflight entertainment                2.0     4.0     4.0     5.0     5.0   \n",
       "Online support                        3.0     4.0     5.0     5.0     5.0   \n",
       "Ease of Online booking                2.0     4.0     5.0     5.0     5.0   \n",
       "On-board service                      3.0     4.0     4.0     5.0     5.0   \n",
       "Leg room service                      2.0     4.0     5.0     5.0     5.0   \n",
       "Baggage handling                      3.0     4.0     5.0     5.0     5.0   \n",
       "Checkin service                       3.0     3.0     4.0     5.0     5.0   \n",
       "Cleanliness                           3.0     4.0     5.0     5.0     5.0   \n",
       "Online boarding                       2.0     4.0     4.0     5.0     5.0   \n",
       "Departure Delay in Minutes            0.0     0.0    12.0    43.0    77.0   \n",
       "Arrival Delay in Minutes              0.0     0.0    13.0    44.0    78.0   \n",
       "\n",
       "                                       99%     max  \n",
       "Age                                  70.00    85.0  \n",
       "Flight Distance                    4819.14  6951.0  \n",
       "Seat comfort                          5.00     5.0  \n",
       "Departure/Arrival time convenient     5.00     5.0  \n",
       "Food and drink                        5.00     5.0  \n",
       "Gate location                         5.00     5.0  \n",
       "Inflight wifi service                 5.00     5.0  \n",
       "Inflight entertainment                5.00     5.0  \n",
       "Online support                        5.00     5.0  \n",
       "Ease of Online booking                5.00     5.0  \n",
       "On-board service                      5.00     5.0  \n",
       "Leg room service                      5.00     5.0  \n",
       "Baggage handling                      5.00     5.0  \n",
       "Checkin service                       5.00     5.0  \n",
       "Cleanliness                           5.00     5.0  \n",
       "Online boarding                       5.00     5.0  \n",
       "Departure Delay in Minutes          180.00  1592.0  \n",
       "Arrival Delay in Minutes            182.00  1584.0  "
      ]
     },
     "execution_count": 10,
     "metadata": {},
     "output_type": "execute_result"
    }
   ],
   "source": [
    "airplane_df.describe(include= ['int64', 'float64'], percentiles = [.25, .5, .75, .9, .95, .99]).T"
   ]
  },
  {
   "cell_type": "markdown",
   "metadata": {},
   "source": [
    "- Above, it is evident that there are outliers in the Flight Distance, Departure Delay in Minutes and Arrival Delay in Minutes.\n",
    "- Although under normal circumstances these might not be removed, as these features are important in being able to ascertain which features contribute most to satisfaction\n",
    "- However, higher delay times might lead to passengers disregarding the other features and soley basing their disatisfaction on the length of the delay.\n",
    "- The only exception to this is flight distance. By keeping the outliers in flight distance we might be able to see a greater divide in what provides satisfaction to passengers as they are on the aircraft for longer.\n",
    "- For this reason, only the outliers in Departure and Arrival delay will be removed.\n",
    "- They will be removed using z score, any value more than 3 standard deviations (99.97%) away from the mean will be removed, for both the upper and lower bounds."
   ]
  },
  {
   "cell_type": "code",
   "execution_count": 11,
   "metadata": {},
   "outputs": [],
   "source": [
    "\n",
    "df = airplane_df.copy() # Copying df\n",
    "standard_deviations = 3    # Setting how many std away from the mean we want to remove\n",
    "\n",
    "# calculating the z score and then finding the absoloute value and then removing if more than 3 std away from mean\n",
    "df = df[df[['Arrival Delay in Minutes', 'Departure Delay in Minutes']].apply(lambda x: np.abs(x - x.mean()) / x.std() < standard_deviations).all(axis=1)]   \n",
    "\n"
   ]
  },
  {
   "cell_type": "code",
   "execution_count": 12,
   "metadata": {},
   "outputs": [
    {
     "data": {
      "text/html": [
       "<div>\n",
       "<style scoped>\n",
       "    .dataframe tbody tr th:only-of-type {\n",
       "        vertical-align: middle;\n",
       "    }\n",
       "\n",
       "    .dataframe tbody tr th {\n",
       "        vertical-align: top;\n",
       "    }\n",
       "\n",
       "    .dataframe thead th {\n",
       "        text-align: right;\n",
       "    }\n",
       "</style>\n",
       "<table border=\"1\" class=\"dataframe\">\n",
       "  <thead>\n",
       "    <tr style=\"text-align: right;\">\n",
       "      <th></th>\n",
       "      <th>count</th>\n",
       "      <th>mean</th>\n",
       "      <th>std</th>\n",
       "      <th>min</th>\n",
       "      <th>25%</th>\n",
       "      <th>50%</th>\n",
       "      <th>75%</th>\n",
       "      <th>90%</th>\n",
       "      <th>95%</th>\n",
       "      <th>99%</th>\n",
       "      <th>max</th>\n",
       "    </tr>\n",
       "  </thead>\n",
       "  <tbody>\n",
       "    <tr>\n",
       "      <th>Arrival Delay in Minutes</th>\n",
       "      <td>126446.0</td>\n",
       "      <td>10.658534</td>\n",
       "      <td>21.242690</td>\n",
       "      <td>0.0</td>\n",
       "      <td>0.0</td>\n",
       "      <td>0.0</td>\n",
       "      <td>11.0</td>\n",
       "      <td>37.0</td>\n",
       "      <td>59.0</td>\n",
       "      <td>102.0</td>\n",
       "      <td>130.0</td>\n",
       "    </tr>\n",
       "    <tr>\n",
       "      <th>Departure Delay in Minutes</th>\n",
       "      <td>126446.0</td>\n",
       "      <td>10.317614</td>\n",
       "      <td>20.974479</td>\n",
       "      <td>0.0</td>\n",
       "      <td>0.0</td>\n",
       "      <td>0.0</td>\n",
       "      <td>10.0</td>\n",
       "      <td>36.0</td>\n",
       "      <td>58.0</td>\n",
       "      <td>101.0</td>\n",
       "      <td>128.0</td>\n",
       "    </tr>\n",
       "  </tbody>\n",
       "</table>\n",
       "</div>"
      ],
      "text/plain": [
       "                               count       mean        std  min  25%  50%  \\\n",
       "Arrival Delay in Minutes    126446.0  10.658534  21.242690  0.0  0.0  0.0   \n",
       "Departure Delay in Minutes  126446.0  10.317614  20.974479  0.0  0.0  0.0   \n",
       "\n",
       "                             75%   90%   95%    99%    max  \n",
       "Arrival Delay in Minutes    11.0  37.0  59.0  102.0  130.0  \n",
       "Departure Delay in Minutes  10.0  36.0  58.0  101.0  128.0  "
      ]
     },
     "execution_count": 12,
     "metadata": {},
     "output_type": "execute_result"
    }
   ],
   "source": [
    "# Confirming the outlier removal has taken place\n",
    "df[['Arrival Delay in Minutes', 'Departure Delay in Minutes']].describe(include= ['int64', 'float64'], percentiles = [.25, .5, .75, .9, .95, .99]).T"
   ]
  },
  {
   "cell_type": "code",
   "execution_count": 13,
   "metadata": {},
   "outputs": [
    {
     "name": "stdout",
     "output_type": "stream",
     "text": [
      "Dataframe shape before outlier removal: (129487, 23)\n",
      "Dataframe shape after outlier removal: (126446, 23)\n",
      "Number of rows contianing outliers removed: 3041\n"
     ]
    }
   ],
   "source": [
    "print(f'Dataframe shape before outlier removal: {airplane_df.shape}')\n",
    "print(f'Dataframe shape after outlier removal: {df.shape}')\n",
    "print(f'Number of rows contianing outliers removed: {airplane_df.shape[0] - df.shape[0]}')\n",
    "airplane_df = df.copy()     # Changing back to airplane_df name"
   ]
  },
  {
   "cell_type": "markdown",
   "metadata": {},
   "source": [
    "- As the data contains more than 5000 rows , in order to simplfy the dataset to make it less compuatationally intensive , 5000 randomly sampled rows are generated."
   ]
  },
  {
   "cell_type": "code",
   "execution_count": 14,
   "metadata": {},
   "outputs": [
    {
     "name": "stdout",
     "output_type": "stream",
     "text": [
      "Number of rows in df: 5000\n",
      "Number of cols in df: 23\n"
     ]
    },
    {
     "data": {
      "text/html": [
       "<div>\n",
       "<style scoped>\n",
       "    .dataframe tbody tr th:only-of-type {\n",
       "        vertical-align: middle;\n",
       "    }\n",
       "\n",
       "    .dataframe tbody tr th {\n",
       "        vertical-align: top;\n",
       "    }\n",
       "\n",
       "    .dataframe thead th {\n",
       "        text-align: right;\n",
       "    }\n",
       "</style>\n",
       "<table border=\"1\" class=\"dataframe\">\n",
       "  <thead>\n",
       "    <tr style=\"text-align: right;\">\n",
       "      <th></th>\n",
       "      <th>Gender</th>\n",
       "      <th>Customer Type</th>\n",
       "      <th>Age</th>\n",
       "      <th>Type of Travel</th>\n",
       "      <th>Class</th>\n",
       "      <th>Flight Distance</th>\n",
       "      <th>Seat comfort</th>\n",
       "      <th>Departure/Arrival time convenient</th>\n",
       "      <th>Food and drink</th>\n",
       "      <th>Gate location</th>\n",
       "      <th>...</th>\n",
       "      <th>Ease of Online booking</th>\n",
       "      <th>On-board service</th>\n",
       "      <th>Leg room service</th>\n",
       "      <th>Baggage handling</th>\n",
       "      <th>Checkin service</th>\n",
       "      <th>Cleanliness</th>\n",
       "      <th>Online boarding</th>\n",
       "      <th>Departure Delay in Minutes</th>\n",
       "      <th>Arrival Delay in Minutes</th>\n",
       "      <th>Satisfaction</th>\n",
       "    </tr>\n",
       "  </thead>\n",
       "  <tbody>\n",
       "    <tr>\n",
       "      <th>36000</th>\n",
       "      <td>Female</td>\n",
       "      <td>Loyal Customer</td>\n",
       "      <td>34</td>\n",
       "      <td>Personal Travel</td>\n",
       "      <td>Eco</td>\n",
       "      <td>1680</td>\n",
       "      <td>4</td>\n",
       "      <td>4</td>\n",
       "      <td>4</td>\n",
       "      <td>4</td>\n",
       "      <td>...</td>\n",
       "      <td>5</td>\n",
       "      <td>4</td>\n",
       "      <td>2</td>\n",
       "      <td>5</td>\n",
       "      <td>4</td>\n",
       "      <td>4</td>\n",
       "      <td>5</td>\n",
       "      <td>0.0</td>\n",
       "      <td>0.0</td>\n",
       "      <td>satisfied</td>\n",
       "    </tr>\n",
       "    <tr>\n",
       "      <th>52217</th>\n",
       "      <td>Female</td>\n",
       "      <td>disloyal Customer</td>\n",
       "      <td>37</td>\n",
       "      <td>Business travel</td>\n",
       "      <td>Eco</td>\n",
       "      <td>1511</td>\n",
       "      <td>3</td>\n",
       "      <td>3</td>\n",
       "      <td>2</td>\n",
       "      <td>4</td>\n",
       "      <td>...</td>\n",
       "      <td>3</td>\n",
       "      <td>1</td>\n",
       "      <td>2</td>\n",
       "      <td>3</td>\n",
       "      <td>2</td>\n",
       "      <td>4</td>\n",
       "      <td>3</td>\n",
       "      <td>15.0</td>\n",
       "      <td>7.0</td>\n",
       "      <td>neutral or dissatisfied</td>\n",
       "    </tr>\n",
       "    <tr>\n",
       "      <th>67955</th>\n",
       "      <td>Female</td>\n",
       "      <td>Loyal Customer</td>\n",
       "      <td>8</td>\n",
       "      <td>Business travel</td>\n",
       "      <td>Business</td>\n",
       "      <td>3950</td>\n",
       "      <td>1</td>\n",
       "      <td>2</td>\n",
       "      <td>3</td>\n",
       "      <td>2</td>\n",
       "      <td>...</td>\n",
       "      <td>4</td>\n",
       "      <td>4</td>\n",
       "      <td>4</td>\n",
       "      <td>4</td>\n",
       "      <td>1</td>\n",
       "      <td>2</td>\n",
       "      <td>1</td>\n",
       "      <td>0.0</td>\n",
       "      <td>12.0</td>\n",
       "      <td>neutral or dissatisfied</td>\n",
       "    </tr>\n",
       "    <tr>\n",
       "      <th>23828</th>\n",
       "      <td>Female</td>\n",
       "      <td>Loyal Customer</td>\n",
       "      <td>25</td>\n",
       "      <td>Personal Travel</td>\n",
       "      <td>Eco</td>\n",
       "      <td>1778</td>\n",
       "      <td>2</td>\n",
       "      <td>2</td>\n",
       "      <td>2</td>\n",
       "      <td>2</td>\n",
       "      <td>...</td>\n",
       "      <td>5</td>\n",
       "      <td>5</td>\n",
       "      <td>5</td>\n",
       "      <td>5</td>\n",
       "      <td>4</td>\n",
       "      <td>5</td>\n",
       "      <td>5</td>\n",
       "      <td>51.0</td>\n",
       "      <td>46.0</td>\n",
       "      <td>satisfied</td>\n",
       "    </tr>\n",
       "    <tr>\n",
       "      <th>54791</th>\n",
       "      <td>Male</td>\n",
       "      <td>disloyal Customer</td>\n",
       "      <td>37</td>\n",
       "      <td>Business travel</td>\n",
       "      <td>Business</td>\n",
       "      <td>2797</td>\n",
       "      <td>3</td>\n",
       "      <td>3</td>\n",
       "      <td>3</td>\n",
       "      <td>4</td>\n",
       "      <td>...</td>\n",
       "      <td>3</td>\n",
       "      <td>5</td>\n",
       "      <td>4</td>\n",
       "      <td>5</td>\n",
       "      <td>4</td>\n",
       "      <td>5</td>\n",
       "      <td>3</td>\n",
       "      <td>0.0</td>\n",
       "      <td>0.0</td>\n",
       "      <td>neutral or dissatisfied</td>\n",
       "    </tr>\n",
       "    <tr>\n",
       "      <th>86526</th>\n",
       "      <td>Female</td>\n",
       "      <td>Loyal Customer</td>\n",
       "      <td>40</td>\n",
       "      <td>Business travel</td>\n",
       "      <td>Business</td>\n",
       "      <td>393</td>\n",
       "      <td>1</td>\n",
       "      <td>1</td>\n",
       "      <td>5</td>\n",
       "      <td>1</td>\n",
       "      <td>...</td>\n",
       "      <td>3</td>\n",
       "      <td>3</td>\n",
       "      <td>3</td>\n",
       "      <td>3</td>\n",
       "      <td>3</td>\n",
       "      <td>3</td>\n",
       "      <td>5</td>\n",
       "      <td>0.0</td>\n",
       "      <td>0.0</td>\n",
       "      <td>satisfied</td>\n",
       "    </tr>\n",
       "    <tr>\n",
       "      <th>92058</th>\n",
       "      <td>Male</td>\n",
       "      <td>Loyal Customer</td>\n",
       "      <td>34</td>\n",
       "      <td>Business travel</td>\n",
       "      <td>Business</td>\n",
       "      <td>394</td>\n",
       "      <td>2</td>\n",
       "      <td>2</td>\n",
       "      <td>2</td>\n",
       "      <td>2</td>\n",
       "      <td>...</td>\n",
       "      <td>4</td>\n",
       "      <td>4</td>\n",
       "      <td>4</td>\n",
       "      <td>4</td>\n",
       "      <td>3</td>\n",
       "      <td>4</td>\n",
       "      <td>4</td>\n",
       "      <td>78.0</td>\n",
       "      <td>75.0</td>\n",
       "      <td>satisfied</td>\n",
       "    </tr>\n",
       "    <tr>\n",
       "      <th>112345</th>\n",
       "      <td>Female</td>\n",
       "      <td>Loyal Customer</td>\n",
       "      <td>43</td>\n",
       "      <td>Business travel</td>\n",
       "      <td>Business</td>\n",
       "      <td>678</td>\n",
       "      <td>5</td>\n",
       "      <td>5</td>\n",
       "      <td>5</td>\n",
       "      <td>5</td>\n",
       "      <td>...</td>\n",
       "      <td>4</td>\n",
       "      <td>4</td>\n",
       "      <td>5</td>\n",
       "      <td>4</td>\n",
       "      <td>5</td>\n",
       "      <td>4</td>\n",
       "      <td>3</td>\n",
       "      <td>3.0</td>\n",
       "      <td>0.0</td>\n",
       "      <td>satisfied</td>\n",
       "    </tr>\n",
       "    <tr>\n",
       "      <th>37930</th>\n",
       "      <td>Male</td>\n",
       "      <td>Loyal Customer</td>\n",
       "      <td>50</td>\n",
       "      <td>Personal Travel</td>\n",
       "      <td>Eco</td>\n",
       "      <td>1910</td>\n",
       "      <td>4</td>\n",
       "      <td>5</td>\n",
       "      <td>4</td>\n",
       "      <td>4</td>\n",
       "      <td>...</td>\n",
       "      <td>1</td>\n",
       "      <td>4</td>\n",
       "      <td>5</td>\n",
       "      <td>1</td>\n",
       "      <td>3</td>\n",
       "      <td>2</td>\n",
       "      <td>1</td>\n",
       "      <td>0.0</td>\n",
       "      <td>0.0</td>\n",
       "      <td>neutral or dissatisfied</td>\n",
       "    </tr>\n",
       "    <tr>\n",
       "      <th>49297</th>\n",
       "      <td>Male</td>\n",
       "      <td>disloyal Customer</td>\n",
       "      <td>27</td>\n",
       "      <td>Business travel</td>\n",
       "      <td>Eco</td>\n",
       "      <td>1718</td>\n",
       "      <td>2</td>\n",
       "      <td>3</td>\n",
       "      <td>2</td>\n",
       "      <td>2</td>\n",
       "      <td>...</td>\n",
       "      <td>5</td>\n",
       "      <td>4</td>\n",
       "      <td>5</td>\n",
       "      <td>2</td>\n",
       "      <td>3</td>\n",
       "      <td>3</td>\n",
       "      <td>5</td>\n",
       "      <td>0.0</td>\n",
       "      <td>0.0</td>\n",
       "      <td>neutral or dissatisfied</td>\n",
       "    </tr>\n",
       "  </tbody>\n",
       "</table>\n",
       "<p>10 rows × 23 columns</p>\n",
       "</div>"
      ],
      "text/plain": [
       "        Gender      Customer Type  Age   Type of Travel     Class  \\\n",
       "36000   Female     Loyal Customer   34  Personal Travel       Eco   \n",
       "52217   Female  disloyal Customer   37  Business travel       Eco   \n",
       "67955   Female     Loyal Customer    8  Business travel  Business   \n",
       "23828   Female     Loyal Customer   25  Personal Travel       Eco   \n",
       "54791     Male  disloyal Customer   37  Business travel  Business   \n",
       "86526   Female     Loyal Customer   40  Business travel  Business   \n",
       "92058     Male     Loyal Customer   34  Business travel  Business   \n",
       "112345  Female     Loyal Customer   43  Business travel  Business   \n",
       "37930     Male     Loyal Customer   50  Personal Travel       Eco   \n",
       "49297     Male  disloyal Customer   27  Business travel       Eco   \n",
       "\n",
       "        Flight Distance  Seat comfort  Departure/Arrival time convenient  \\\n",
       "36000              1680             4                                  4   \n",
       "52217              1511             3                                  3   \n",
       "67955              3950             1                                  2   \n",
       "23828              1778             2                                  2   \n",
       "54791              2797             3                                  3   \n",
       "86526               393             1                                  1   \n",
       "92058               394             2                                  2   \n",
       "112345              678             5                                  5   \n",
       "37930              1910             4                                  5   \n",
       "49297              1718             2                                  3   \n",
       "\n",
       "        Food and drink  Gate location  ...  Ease of Online booking  \\\n",
       "36000                4              4  ...                       5   \n",
       "52217                2              4  ...                       3   \n",
       "67955                3              2  ...                       4   \n",
       "23828                2              2  ...                       5   \n",
       "54791                3              4  ...                       3   \n",
       "86526                5              1  ...                       3   \n",
       "92058                2              2  ...                       4   \n",
       "112345               5              5  ...                       4   \n",
       "37930                4              4  ...                       1   \n",
       "49297                2              2  ...                       5   \n",
       "\n",
       "        On-board service  Leg room service  Baggage handling  Checkin service  \\\n",
       "36000                  4                 2                 5                4   \n",
       "52217                  1                 2                 3                2   \n",
       "67955                  4                 4                 4                1   \n",
       "23828                  5                 5                 5                4   \n",
       "54791                  5                 4                 5                4   \n",
       "86526                  3                 3                 3                3   \n",
       "92058                  4                 4                 4                3   \n",
       "112345                 4                 5                 4                5   \n",
       "37930                  4                 5                 1                3   \n",
       "49297                  4                 5                 2                3   \n",
       "\n",
       "        Cleanliness  Online boarding  Departure Delay in Minutes  \\\n",
       "36000             4                5                         0.0   \n",
       "52217             4                3                        15.0   \n",
       "67955             2                1                         0.0   \n",
       "23828             5                5                        51.0   \n",
       "54791             5                3                         0.0   \n",
       "86526             3                5                         0.0   \n",
       "92058             4                4                        78.0   \n",
       "112345            4                3                         3.0   \n",
       "37930             2                1                         0.0   \n",
       "49297             3                5                         0.0   \n",
       "\n",
       "        Arrival Delay in Minutes             Satisfaction  \n",
       "36000                        0.0                satisfied  \n",
       "52217                        7.0  neutral or dissatisfied  \n",
       "67955                       12.0  neutral or dissatisfied  \n",
       "23828                       46.0                satisfied  \n",
       "54791                        0.0  neutral or dissatisfied  \n",
       "86526                        0.0                satisfied  \n",
       "92058                       75.0                satisfied  \n",
       "112345                       0.0                satisfied  \n",
       "37930                        0.0  neutral or dissatisfied  \n",
       "49297                        0.0  neutral or dissatisfied  \n",
       "\n",
       "[10 rows x 23 columns]"
      ]
     },
     "execution_count": 14,
     "metadata": {},
     "output_type": "execute_result"
    }
   ],
   "source": [
    "airplane_df = airplane_df.sample(n=5000, random_state=111)\n",
    "print(f'Number of rows in df: {airplane_df.shape[0]}')  \n",
    "print(f'Number of cols in df: {airplane_df.shape[1]}')\n",
    "airplane_df.sample(10, random_state=111)"
   ]
  },
  {
   "cell_type": "markdown",
   "metadata": {},
   "source": [
    "<span style='font-family:\"Times New Roman\"'> \n",
    "\n",
    "### Data Exploration & Visualisation: <a name=\"dvis\"></a>\n",
    "<span styel=''>"
   ]
  },
  {
   "cell_type": "markdown",
   "metadata": {},
   "source": [
    "## Plotting Requirements for Phase 1\n",
    "\n",
    "The minimum number of different plots you need to include in your Phase 1 report for the data exploration & visualisation part as follows:\n",
    "\n",
    "    - A group of 3 members: at least 4 plots of each one of the following: one-variable plot two-variable plots, and three-variable plots (that is, minimum 4*3=12 plots in total)\n",
    "\n",
    "## Additional plotting instructions are as follows\n",
    "\n",
    "1. For plotting, you a  re free to use whatever Python module you like: Matplotlib, Seaborn, Altair, Plotly, etc.\n",
    "2. Your plots must be meaningful and they need to make sense with respect to the goals and objectives of your project.\n",
    "3. As long as your plots are meaningful and relevant, there are no restrictions on the plot types. That is, you can have a mix of box-plots, histograms, line plots, scatter plots etc.\n",
    "4. For each plot in your report, you will need to label the x- and y-axes as appropriate and also add a meaningful title."
   ]
  },
  {
   "cell_type": "markdown",
   "metadata": {},
   "source": [
    "## One-variable plots\n",
    "\n",
    "### Histogram of Flight distance\n",
    "- The histogram shows most of the flights around 2000km in distance \n",
    "- Histogram is right skewed with the majority flights less than 3000km flight distance\n",
    "- There is a local maximum of flights around 500km in length\n"
   ]
  },
  {
   "cell_type": "code",
   "execution_count": 15,
   "metadata": {},
   "outputs": [
    {
     "data": {
      "image/png": "[encoded data removed]",
      "text/plain": [
       "<Figure size 1080x576 with 1 Axes>"
      ]
     },
     "metadata": {
      "needs_background": "light"
     },
     "output_type": "display_data"
    },
    {
     "data": {
      "text/plain": [
       "<Figure size 1080x576 with 0 Axes>"
      ]
     },
     "metadata": {},
     "output_type": "display_data"
    }
   ],
   "source": [
    "plt.figure(figsize = (15,8))\n",
    "sns.histplot(airplane_df[\"Flight Distance\"],kde = False,color=['#ee6c4d']).set(title = \"Flight Distance Histogram\", xlabel=\"Flight Distance (km)\", ylabel=\"Frequency\")\n",
    "plt.figure(figsize = (15,8))\n",
    "plt.show()"
   ]
  },
  {
   "cell_type": "markdown",
   "metadata": {},
   "source": [
    "### Bar chart of satisfaction levels\n",
    "- There is a roughly even split between satisfied and neutral or disatisfied\n",
    "- There is 13146 more satisfied survey respondants than not satisfied"
   ]
  },
  {
   "cell_type": "code",
   "execution_count": 16,
   "metadata": {},
   "outputs": [
    {
     "data": {
      "text/plain": [
       "<Figure size 1080x576 with 0 Axes>"
      ]
     },
     "metadata": {},
     "output_type": "display_data"
    },
    {
     "data": {
      "image/png": "[encoded data removed]",
      "text/plain": [
       "<Figure size 360x360 with 1 Axes>"
      ]
     },
     "metadata": {
      "needs_background": "light"
     },
     "output_type": "display_data"
    }
   ],
   "source": [
    "plt.figure(figsize = (15,8))\n",
    "count = df.groupby([\"Satisfaction\"]).size().reset_index(name=\"Frequency\")\n",
    "sns.catplot(x = \"Satisfaction\", y = \"Frequency\", kind=\"bar\", data=count,palette=['#ee6c4d', '#98c1d9'])\n",
    "plt.title('Figure 1: Bar chart of Satisfaction Frequency', fontsize = 15)\n",
    "plt.show()"
   ]
  },
  {
   "cell_type": "markdown",
   "metadata": {},
   "source": [
    "### Histogram of Passenger Age\n",
    "- This is a bimodal histogram with the majority of passengers between 20 and 30 years old or around 40 years old\n",
    "- The histogram shows roughly symetrical distribution of age amoung the passengers"
   ]
  },
  {
   "cell_type": "code",
   "execution_count": 17,
   "metadata": {},
   "outputs": [
    {
     "data": {
      "image/png": "[encoded data removed]",
      "text/plain": [
       "<Figure size 1080x576 with 1 Axes>"
      ]
     },
     "metadata": {
      "needs_background": "light"
     },
     "output_type": "display_data"
    }
   ],
   "source": [
    "plt.figure(figsize = (15,8))\n",
    "sns.histplot(airplane_df[\"Age\"],kde = False,color=\"#98c1d9\").set( xlabel=\"Age (years)\", ylabel=\"Frequency\")\n",
    "plt.title('Figure 2:Passenger Age histogram', fontsize = 15)\n",
    "plt.show()"
   ]
  },
  {
   "cell_type": "markdown",
   "metadata": {},
   "source": [
    "### Bar Chart of travel type\n",
    "- There is almost double the amount of passengers travelling for buisness than those who are travelling for personal reasons\n"
   ]
  },
  {
   "cell_type": "code",
   "execution_count": 18,
   "metadata": {},
   "outputs": [
    {
     "data": {
      "text/plain": [
       "<Figure size 1080x576 with 0 Axes>"
      ]
     },
     "metadata": {},
     "output_type": "display_data"
    },
    {
     "data": {
      "image/png": "[encoded data removed]",
      "text/plain": [
       "<Figure size 360x360 with 1 Axes>"
      ]
     },
     "metadata": {
      "needs_background": "light"
     },
     "output_type": "display_data"
    }
   ],
   "source": [
    "plt.figure(figsize = (15,8))\n",
    "count = df.groupby([\"Type of Travel\"]).size().reset_index(name=\"Frequency\")\n",
    "sns.catplot(x = \"Type of Travel\", y = \"Frequency\", kind=\"bar\", data=count,palette=['#ee6c4d', '#98c1d9'])\n",
    "plt.title('Figure 3:Bar chart of Type of Travel Frequency', fontsize = 15)\n",
    "plt.show()"
   ]
  },
  {
   "cell_type": "markdown",
   "metadata": {},
   "source": [
    "## Two-variable plots"
   ]
  },
  {
   "cell_type": "markdown",
   "metadata": {},
   "source": [
    "### Box plot of Flight Distance by Satisfaction\n",
    "- We can see that the neutral or dissatisfied, (referred to from now as just dissastisfied), has a higher median than the satisfied boxplot with regard to Flight Distance.\n",
    "  - This supports the hypothesis that longer flights lead to more time for passengers to become dissatisfied.\n",
    "- The descriptive statistics show that there are less dissastisfied passengers (count = 2240) than satisfied passengers (count = 2760)\n",
    "  - Their means are relatively the same with dissastisfied passengers having travelled on average 92km more than satisfied passengers. This also links back to the hypothesis of longer flight distances produce more dissastisfied passenegers.\n",
    "  - There is a greater variance with regard to flight distance in satisfied passengers (std = 1151.72km) than dissastisfied passengers (std = 898.88km). This means that there is a greater spread in flight distance among satisfied passengers.\n",
    "  - The most notable figure of the quartiles is the 1st quartile, the first quartile for satisfied passengers is 1088km while for dissastisfied passengers it was 1511km. This also supports the hypothesis of longer flights lead to more dissastisfied passengers as it is clearly evident here that the less distance a passenger has to travel the more likely they are to be satisfied.\n",
    "- In Figure 2, through visual analysis we can see that Flight Distance does not have a significant impact on satisfaction.\n"
   ]
  },
  {
   "cell_type": "code",
   "execution_count": 19,
   "metadata": {},
   "outputs": [
    {
     "data": {
      "text/html": [
       "<div>\n",
       "<style scoped>\n",
       "    .dataframe tbody tr th:only-of-type {\n",
       "        vertical-align: middle;\n",
       "    }\n",
       "\n",
       "    .dataframe tbody tr th {\n",
       "        vertical-align: top;\n",
       "    }\n",
       "\n",
       "    .dataframe thead th {\n",
       "        text-align: right;\n",
       "    }\n",
       "</style>\n",
       "<table border=\"1\" class=\"dataframe\">\n",
       "  <thead>\n",
       "    <tr style=\"text-align: right;\">\n",
       "      <th>Satisfaction</th>\n",
       "      <th>neutral or dissatisfied</th>\n",
       "      <th>satisfied</th>\n",
       "    </tr>\n",
       "  </thead>\n",
       "  <tbody>\n",
       "    <tr>\n",
       "      <th>count</th>\n",
       "      <td>2,240.00</td>\n",
       "      <td>2,760.00</td>\n",
       "    </tr>\n",
       "    <tr>\n",
       "      <th>mean</th>\n",
       "      <td>2,036.07</td>\n",
       "      <td>1,944.98</td>\n",
       "    </tr>\n",
       "    <tr>\n",
       "      <th>std</th>\n",
       "      <td>898.88</td>\n",
       "      <td>1,151.72</td>\n",
       "    </tr>\n",
       "    <tr>\n",
       "      <th>min</th>\n",
       "      <td>52.00</td>\n",
       "      <td>51.00</td>\n",
       "    </tr>\n",
       "    <tr>\n",
       "      <th>25%</th>\n",
       "      <td>1,511.00</td>\n",
       "      <td>1,088.00</td>\n",
       "    </tr>\n",
       "    <tr>\n",
       "      <th>50%</th>\n",
       "      <td>1,966.50</td>\n",
       "      <td>1,843.00</td>\n",
       "    </tr>\n",
       "    <tr>\n",
       "      <th>75%</th>\n",
       "      <td>2,458.25</td>\n",
       "      <td>2,626.25</td>\n",
       "    </tr>\n",
       "    <tr>\n",
       "      <th>max</th>\n",
       "      <td>6,889.00</td>\n",
       "      <td>6,948.00</td>\n",
       "    </tr>\n",
       "  </tbody>\n",
       "</table>\n",
       "</div>"
      ],
      "text/plain": [
       "Satisfaction neutral or dissatisfied satisfied\n",
       "count                       2,240.00  2,760.00\n",
       "mean                        2,036.07  1,944.98\n",
       "std                           898.88  1,151.72\n",
       "min                            52.00     51.00\n",
       "25%                         1,511.00  1,088.00\n",
       "50%                         1,966.50  1,843.00\n",
       "75%                         2,458.25  2,626.25\n",
       "max                         6,889.00  6,948.00"
      ]
     },
     "execution_count": 19,
     "metadata": {},
     "output_type": "execute_result"
    }
   ],
   "source": [
    "airplane_df['Flight Distance'].groupby(airplane_df['Satisfaction']).describe().T.applymap('{:,.2f}'.format)"
   ]
  },
  {
   "cell_type": "code",
   "execution_count": 20,
   "metadata": {},
   "outputs": [
    {
     "data": {
      "image/png": "[encoded data removed]",
      "text/plain": [
       "<Figure size 1080x576 with 1 Axes>"
      ]
     },
     "metadata": {
      "needs_background": "light"
     },
     "output_type": "display_data"
    }
   ],
   "source": [
    "# Plotting satisfaction by flight distance\n",
    "plt.figure(figsize = (15,8))\n",
    "sns.boxplot(airplane_df['Satisfaction'], airplane_df['Flight Distance'],palette=['#ee6c4d', '#98c1d9'])\n",
    "plt.title('Figure 5: Boxplot of Flight Distance by Satisfaction', fontsize = 15)\n",
    "plt.show()"
   ]
  },
  {
   "cell_type": "markdown",
   "metadata": {},
   "source": [
    "### Bar-Chart of satisfaction by class\n",
    "\n",
    "- Passengers travelling in Buisness Class are more likely to be satisfied\n",
    "- Conversely, passengers travelling in economy are more likely to be neutral or dissatisfied\n",
    "- Passengers in economy plus are evenly split between satisfied or not"
   ]
  },
  {
   "cell_type": "code",
   "execution_count": 21,
   "metadata": {},
   "outputs": [
    {
     "data": {
      "text/plain": [
       "<Figure size 1080x576 with 0 Axes>"
      ]
     },
     "metadata": {},
     "output_type": "display_data"
    },
    {
     "data": {
      "image/png": "[encoded data removed]",
      "text/plain": [
       "<Figure size 440.375x360 with 1 Axes>"
      ]
     },
     "metadata": {
      "needs_background": "light"
     },
     "output_type": "display_data"
    }
   ],
   "source": [
    "plt.figure(figsize = (15,8))\n",
    "count = df.groupby([\"Class\", \"Satisfaction\"]).size().reset_index(name=\"Frequency\")\n",
    "sns.catplot(x = \"Satisfaction\", y = \"Frequency\",  hue= \"Class\", kind=\"bar\", data=count,palette=['#ee6c4d', '#98c1d9',\"#293241\"])\n",
    "plt.title('Firgure 6: Satisfaction Frequency based on Class', fontsize = 15);\n",
    "plt.show();"
   ]
  },
  {
   "cell_type": "markdown",
   "metadata": {},
   "source": [
    "### Stacked Bar-Chart of satisfaction by Customer type\n",
    "- We can see that that Loyal customers have a much higher percentage of satisfied customers with 62% of loyal customers being satisfied compared to 24% of disloyal customers \n",
    "- This figure shows their is a strong postive relationship between customer satisfaction and customer loyalty irrespective of the other features."
   ]
  },
  {
   "cell_type": "code",
   "execution_count": 22,
   "metadata": {},
   "outputs": [
    {
     "data": {
      "image/png": "[encoded data removed]",
      "text/plain": [
       "<Figure size 1080x576 with 1 Axes>"
      ]
     },
     "metadata": {
      "needs_background": "light"
     },
     "output_type": "display_data"
    }
   ],
   "source": [
    "\n",
    "plt.figure(figsize=(15,8))\n",
    "count = df.groupby([\"Customer Type\",\"Satisfaction\"]).size().reset_index(name=\"frequency\")\n",
    "count_1 = count[0:2]\n",
    "count_1['Percentage'] = (count_1.frequency / count_1.frequency.sum())* 100\n",
    "count_2 = count[2:4]\n",
    "count_2['Percentage'] = (count_2.frequency / count_2.frequency.sum())* 100\n",
    "count = pd.concat([count_1,count_2])\n",
    "sns.histplot(\n",
    "    count,\n",
    "    x='Customer Type',\n",
    "    # Use the value variable here to turn histogram counts into weighted\n",
    "    # values.\n",
    "    weights='Percentage',\n",
    "    hue='Satisfaction',\n",
    "    multiple='stack',\n",
    "    palette=['#ee6c4d', '#98c1d9'],\n",
    "    # Add white borders to the bars.\n",
    "    edgecolor='white',\n",
    "    # Shrink the bars a bit so they don't touch.\n",
    "    shrink=0.8\n",
    "    \n",
    ").set( xlabel=\"Customer Type\", ylabel=\"Precentage\")\n",
    "\n",
    "plt.title('Firgure 7: Satisfaction Frequency based on customer type', fontsize = 15);"
   ]
  },
  {
   "cell_type": "markdown",
   "metadata": {},
   "source": [
    "## Three-variable plots\n",
    "\n",
    "### Faceted barplot of seat comfort effect on satisfaction across class\n",
    "- The barplot shows seat comfort does not have a big effect on the satisfaction of passengers in buisness class\n",
    "- Only in economy is it likely that passengers will be satisfied if they are also satisfied with seat comfort"
   ]
  },
  {
   "cell_type": "code",
   "execution_count": 32,
   "metadata": {},
   "outputs": [
    {
     "data": {
      "text/plain": [
       "Text(0.5, 0.98, 'Figure 11: Faceted barplot of leg room service by seat comfort and satisfaction')"
      ]
     },
     "execution_count": 32,
     "metadata": {},
     "output_type": "execute_result"
    },
    {
     "data": {
      "text/plain": [
       "<Figure size 1080x576 with 0 Axes>"
      ]
     },
     "metadata": {},
     "output_type": "display_data"
    },
    {
     "data": {
      "image/png": "[encoded data removed]",
      "text/plain": [
       "<Figure size 685.125x180 with 3 Axes>"
      ]
     },
     "metadata": {
      "needs_background": "light"
     },
     "output_type": "display_data"
    }
   ],
   "source": [
    "#Seat comfort rating vs class\n",
    "plt.figure(figsize = (15,8))\n",
    "count1 = df.groupby([\"Seat comfort\", \"Class\", \"Satisfaction\"]).size().reset_index(name=\"frequency\")\n",
    "plot = sns.FacetGrid(count1, col=\"Class\", height=2.5, col_wrap=3)\n",
    "plot.map_dataframe(sns.barplot, x=\"Seat comfort\",y =\"frequency\" ,hue=\"Satisfaction\",palette=['#ee6c4d', '#98c1d9'])\n",
    "plot.fig.subplots_adjust(top=0.87)\n",
    "plot.add_legend() \n",
    "plot.fig.suptitle('Figure 11: Faceted barplot of leg room service by seat comfort and satisfaction')\n"
   ]
  },
  {
   "cell_type": "markdown",
   "metadata": {},
   "source": [
    "### Side-by-side boxplots of flight distance by satisfaction and Age group\n",
    " - As seen in figure 10 below as the age group increases so does the disparity in mean and median flight distances between satisfied and dissatisfied customers from the ages 0 to 75.\n",
    "- in the 25-35 age group , satisfied customers on average travel 263 km more , whilst in the 35-45 , 45-65 and 65-75 age groups satisfied customers travel on average 74 , 123 and 673 km less respectively than dissatisfied customers\n"
   ]
  },
  {
   "cell_type": "code",
   "execution_count": 24,
   "metadata": {},
   "outputs": [
    {
     "data": {
      "text/plain": [
       "<Figure size 1080x576 with 0 Axes>"
      ]
     },
     "metadata": {},
     "output_type": "display_data"
    }
   ],
   "source": [
    "plt.figure(figsize = (15,8))\n",
    "category = pd.cut(df.Age,bins=[0,18,25,35,45,65,75,99],labels=[\"0-18\",\"18-25\",\"25-35\",\"35-45\",\"45-65\",\"65-75\",\"75-...\"])\n",
    "df.insert(3,'Age Group',category)\n"
   ]
  },
  {
   "cell_type": "code",
   "execution_count": 25,
   "metadata": {},
   "outputs": [
    {
     "name": "stdout",
     "output_type": "stream",
     "text": [
      "Age Group  Satisfaction           \n",
      "0-18       neutral or dissatisfied    2048.0\n",
      "           satisfied                  2070.0\n",
      "18-25      neutral or dissatisfied    2004.0\n",
      "           satisfied                  2139.0\n",
      "25-35      neutral or dissatisfied    2058.5\n",
      "           satisfied                  2259.0\n",
      "35-45      neutral or dissatisfied    1849.0\n",
      "           satisfied                  1782.0\n",
      "45-65      neutral or dissatisfied    1768.0\n",
      "           satisfied                  1571.0\n",
      "65-75      neutral or dissatisfied    1776.0\n",
      "           satisfied                   786.5\n",
      "75-...     neutral or dissatisfied    1615.5\n",
      "           satisfied                  1733.0\n",
      "Name: Flight Distance, dtype: float64\n",
      "Age Group  Satisfaction           \n",
      "0-18       neutral or dissatisfied    2217.927741\n",
      "           satisfied                  2240.824053\n",
      "18-25      neutral or dissatisfied    2159.692156\n",
      "           satisfied                  2371.517964\n",
      "25-35      neutral or dissatisfied    2228.262143\n",
      "           satisfied                  2491.438441\n",
      "35-45      neutral or dissatisfied    1892.862530\n",
      "           satisfied                  1818.340142\n",
      "45-65      neutral or dissatisfied    1760.822355\n",
      "           satisfied                  1637.992883\n",
      "65-75      neutral or dissatisfied    1771.278676\n",
      "           satisfied                  1098.896690\n",
      "75-...     neutral or dissatisfied    1640.818841\n",
      "           satisfied                  1702.587156\n",
      "Name: Flight Distance, dtype: float64\n"
     ]
    },
    {
     "data": {
      "image/png": "[encoded data removed]",
      "text/plain": [
       "<Figure size 1080x576 with 1 Axes>"
      ]
     },
     "metadata": {
      "needs_background": "light"
     },
     "output_type": "display_data"
    }
   ],
   "source": [
    "\n",
    "plt.figure(figsize = (15,8))\n",
    "sns.boxplot(df['Age Group'], df['Flight Distance'],hue=df['Satisfaction'],palette=['#ee6c4d', '#98c1d9'])\n",
    "plt.title('Figure 10: Boxplot of flight distance broken down by Age Group and satisfaction ', fontsize = 15)\n",
    "\n",
    "medians = df.groupby(['Age Group','Satisfaction'])['Flight Distance'].median()\n",
    "means = df.groupby(['Age Group','Satisfaction'])['Flight Distance'].mean()\n",
    "print(medians)\n",
    "print(means)"
   ]
  },
  {
   "cell_type": "markdown",
   "metadata": {},
   "source": [
    "### Faceted barplot of leg room service by seat comfort and satisfaction\n",
    "\n",
    "- Passengers who rated seat comfort highly generally also rated the legroom service highly while also being satisfied with their flight\n",
    "- This suggests having good leg room service results in also having good seat comfort\n",
    "- Similarly, passengers who rated the leg room 3 or less were more likely to ro rate seat comfort more poorly and be dissatisfied with their flight"
   ]
  },
  {
   "cell_type": "code",
   "execution_count": 26,
   "metadata": {},
   "outputs": [
    {
     "data": {
      "text/plain": [
       "Text(0.5, 0.98, 'Figure 11: Faceted barplot of leg room service by seat comfort and satisfaction')"
      ]
     },
     "execution_count": 26,
     "metadata": {},
     "output_type": "execute_result"
    },
    {
     "data": {
      "text/plain": [
       "<Figure size 1080x576 with 0 Axes>"
      ]
     },
     "metadata": {},
     "output_type": "display_data"
    },
    {
     "data": {
      "image/png": "[encoded data removed]",
      "text/plain": [
       "<Figure size 685.125x360 with 6 Axes>"
      ]
     },
     "metadata": {
      "needs_background": "light"
     },
     "output_type": "display_data"
    }
   ],
   "source": [
    "#Seat comfort rating vs leg room service vs satisfaction\n",
    "plt.figure(figsize = (15,8))\n",
    "count1 = df.groupby([\"Seat comfort\", \"Leg room service\", \"Satisfaction\"]).size().reset_index(name=\"frequency\")\n",
    "plot = sns.FacetGrid(count1, col=\"Leg room service\", height=2.5, col_wrap=3)\n",
    "plot.map_dataframe(sns.barplot, x=\"Seat comfort\",y =\"frequency\" ,hue=\"Satisfaction\",palette=['#ee6c4d', '#98c1d9'])\n",
    "plot.fig.subplots_adjust(top=0.87)\n",
    "plot.add_legend() \n",
    "plot.fig.suptitle('Figure 11: Faceted barplot of leg room service by seat comfort and satisfaction')\n",
    "\n"
   ]
  },
  {
   "cell_type": "markdown",
   "metadata": {},
   "source": [
    "### Side by side Boxplots of onboard service by age\n",
    "\n",
    "- Here there is a fairly even distribution of age and how passengers rated their inflight service\n",
    "- This indicates age does not affect the way passengers value in flight service"
   ]
  },
  {
   "cell_type": "code",
   "execution_count": 27,
   "metadata": {},
   "outputs": [
    {
     "data": {
      "image/png": "[encoded data removed]",
      "text/plain": [
       "<Figure size 1080x576 with 1 Axes>"
      ]
     },
     "metadata": {
      "needs_background": "light"
     },
     "output_type": "display_data"
    }
   ],
   "source": [
    "plt.figure(figsize = (15,8))\n",
    "count1 = df.groupby([\"Age\", \"On-board service\", \"Satisfaction\"]).size().reset_index(name=\"frequency\")\n",
    "a = sns.boxplot(data= count1, x=\"On-board service\", y = \"Age\", hue= \"Satisfaction\",palette=['#ee6c4d', '#98c1d9'])\n",
    "#sns.catplot(data = count1, x = \"Seat comfort\", y = \"frequency\", col= \"Leg room service\", kind = \"bar\", hue= \"Satisfaction\")\n",
    "plt.title('Firgure 12: Boxplots of Age brocken down by On-board service and satisfaction', fontsize = 15);\n",
    "plt.show(a);\n"
   ]
  },
  {
   "cell_type": "markdown",
   "metadata": {},
   "source": [
    "<span style='font-family:\"Times New Roman\"'> \n",
    "\n",
    "### Literature Review: <a name=\"lr\"></a>\n",
    "<span styel=''>"
   ]
  },
  {
   "cell_type": "markdown",
   "metadata": {},
   "source": [
    "### Links for use in review, reference later.\n",
    "- [A multiple criteria approach for airline passenger satisfaction measurement and service quality improvement](https://www.sciencedirect.com/science/article/abs/pii/S0969699717300704)\n",
    "- [The influence of airline service quality on passenger satisfaction and loyalty : The case of Uganda airline industry](https://www.emerald.com/insight/content/doi/10.1108/TQM-11-2012-0092/full/html)\n",
    "- [Evaluation of passenger satisfaction with service quality: A consecutive method applied to the airline industry](https://www.sciencedirect.com/science/article/abs/pii/S0969699719302595)\n",
    "- [Role of airline food quality, price reasonableness, image, satisfaction, and attachment in building re-flying intention](https://www.sciencedirect.com/science/article/abs/pii/S0278431918308235)\n",
    "- [Examining nonlinear and interaction effects of multiple determinants on airline travel satisfaction](https://www.sciencedirect.com/science/article/abs/pii/S1361920921002558)\n",
    "- [Predicting airline passenger satisfaction with classification algorithms](http://ijiis.org/index.php/IJIIS/article/view/80)\n",
    "- [Investigating airline passenger satisfaction: Data mining method](https://www.sciencedirect.com/science/article/abs/pii/S2210539521001097)\n",
    "- [A Qualitative Assessment of Airline Passenger Satisfaction](https://commons.erau.edu/student-works/166/)\n",
    "- [The Impact of Service Quality on Passenger Satisfaction and Loyalty in the Indian Aviation Industry](https://www.researchgate.net/publication/350782069_The_Impact_of_Service_Quality_on_Passenger_Satisfaction_and_Loyalty_in_the_Indian_Aviation_Industry)\n",
    "- [ www.jbrmr.com  A Journal of the Academy of Business and Retail Management (ABRM) 160  How customer relationship management, perceived risk, perceived service quality, and passenger trust affect a full-service airline’s passenger satisfaction ](https://www.jbrmr.com/cdn/article_file/2019-04-01-10-51-46-AM.pdf)\n",
    "- [The Relationship between Service Failure and Service Recovery with Airline Passenger Satisfaction](https://iopscience.iop.org/article/10.1088/1742-6596/1529/2/022062/meta)\n",
    "- [The Impact of Service Quality on Passenger Satisfaction in Airport Services: A Case on International Passengers](https://www.researchgate.net/profile/A-C-Karunaratna/publication/346676672_The_Impact_of_Service_Quality_on_Passenger_Satisfaction_in_Airport_Services_A_Case_on_International_Passengers/links/5fd05331a6fdcc697bef7b94/The-Impact-of-Service-Quality-on-Passenger-Satisfaction-in-Airport-Services-A-Case-on-International-Passengers.pdf)\n",
    "- [DRIVERS OF CUSTOMER SATISFACTION IN AIRLINE INDUSTRY IN (THE) SULTANATE OF OMAN: A CONCEPTUAL STUDY](https://iris.unito.it/bitstream/2318/1758450/2/euromed2020-book-of-proceedings-2020-08-31.pdf#page=23)\n",
    "- [Customer Satisfaction Evaluation of Airline Based on PLS_SEM](https://link.springer.com/chapter/10.1007/978-3-030-51556-0_99)\n",
    "- [The impact of airline service quality on passengers’ behavioral intentions using passenger satisfaction as a mediator](https://www.sciencedirect.com/science/article/pii/S0969699717301874)\n"
   ]
  },
  {
   "cell_type": "markdown",
   "metadata": {},
   "source": [
    "<span style='font-family:\"Times New Roman\"'> \n",
    "\n",
    "### Summary & conclusion: <a name=\"sum\"></a>\n",
    "<span styel=''>"
   ]
  },
  {
   "cell_type": "markdown",
   "metadata": {},
   "source": [
    "Several one, two and three variable visualisations were generated to get a greater understanding of the dataset. These visualisations show there is more satisfied passengers compared to neutral or dissatisfied. Key findings from the visualisations is that customers who fly buisness class are far more likely to be satisfied while passengers in economy class are far more likely to be dissatisfied. It was also found that passengers loyal to the airline were far more likely to be satisfied with their flight compared to disloyal passengers. It was found that flight distance had little impact on whether passengers were satisfied or not. Particularly amoungst the various age groups, flight distance had a very similar impact on satisfaction for all age groups. It was found that generally customers who rated the leg room service highly on the flight also rated the overall seat comfort highly as well."
   ]
  },
  {
   "cell_type": "markdown",
   "metadata": {},
   "source": [
    "<span style='font-family:\"Times New Roman\"'> \n",
    "\n",
    "### References: <a name=\"ref\"></a>\n",
    "<span styel=''>"
   ]
  },
  {
   "cell_type": "code",
   "execution_count": 28,
   "metadata": {},
   "outputs": [
    {
     "data": {
      "text/plain": [
       "'https://www.ncbi.nlm.nih.gov/pmc/articles/PMC2656082/'"
      ]
     },
     "execution_count": 28,
     "metadata": {},
     "output_type": "execute_result"
    }
   ],
   "source": [
    "\"https://www.ncbi.nlm.nih.gov/pmc/articles/PMC2656082/\" # Discretization    "
   ]
  }
 ],
 "metadata": {
  "interpreter": {
   "hash": "cb659f68d287f80354e707379d7965895c7192ec42ea959a73a275e2a0963617"
  },
  "kernelspec": {
   "display_name": "Python 3.8.12 ('S3923076')",
   "language": "python",
   "name": "python3"
  },
  "language_info": {
   "codemirror_mode": {
    "name": "ipython",
    "version": 3
   },
   "file_extension": ".py",
   "mimetype": "text/x-python",
   "name": "python",
   "nbconvert_exporter": "python",
   "pygments_lexer": "ipython3",
   "version": "3.8.12"
  },
  "orig_nbformat": 4
 },
 "nbformat": 4,
 "nbformat_minor": 2
}
